{
 "cells": [
  {
   "cell_type": "markdown",
   "metadata": {},
   "source": [
    "# Принятие решений в бизнесе на основе данных. Приоризация гипотез. A/B тест.\n",
    "# Описание проекта\n",
    "Вы — аналитик крупного интернет-магазина. Вместе с отделом маркетинга вы подготовили список гипотез для увеличения выручки.\n",
    "Приоритизируйте гипотезы, запустите A/B-тест и проанализируйте результаты.\n",
    "\n",
    "# Оглавление <a id='Оглавление'></a>\n",
    "\n",
    "[Загрузка библиотек](#1_1)\n",
    "\n",
    "**1. Приоритизация гипотез**  \n",
    "[Примените фреймворк ICE для приоритизации гипотез. Отсортируйте их по убыванию приоритета.](#1_2)  \n",
    "[Примените фреймворк RICE для приоритизации гипотез. Отсортируйте их по убыванию приоритета.](#1_3)  \n",
    "[Укажите, как изменилась приоритизация гипотез при применении RICE вместо ICE. Объясните, почему так произошло.](#1_4)\n",
    "\n",
    "\n",
    "**2. Анализ A/B-теста**  \n",
    "    [Загрузка датасетов и их проверка на наличие пропусков и на правильность выгрузки](#2_1)  \n",
    "    [Проверка корректности распределения на группы A/B](#6)\n",
    "\n",
    "   **Кумулятивные метрики**  \n",
    "    [Постройте график кумулятивной выручки по группам. Сделайте выводы и предположения.](#7)  \n",
    "    [Постройте график кумулятивного среднего чека по группам. Сделайте выводы и предположения.](#8)  \n",
    "    [Постройте график относительного изменения кумулятивного среднего чека группы B к группе A. Сделайте выводы и предположения.](#9)  \n",
    "    [Постройте график кумулятивного среднего количества заказов на посетителя (кумулятивной конверсии) по группам. Сделайте выводы и предположения.](#10)  \n",
    "    [Постройте график относительного изменения кумулятивного среднего количества заказов на посетителя (кумулятивной конверсии) группы B к группе A . Сделайте выводы и предположения.](#11)  \n",
    "\n",
    "   **Анализ выбросов и всплесков**  \n",
    "    [Постройте точечный график количества заказов по пользователям. Сделайте выводы и предположения.](#12)  \n",
    "    [Посчитайте 95-й и 99-й перцентили количества заказов на пользователя. Выберите границу для определения аномальных пользователей.](#13)  \n",
    "    [Постройте точечный график стоимостей заказов. Сделайте выводы и предположения.](#14)  \n",
    "    [Посчитайте 95-й и 99-й перцентили стоимости заказов. Выберите границу для определения аномальных заказов.](#15)  \n",
    "    [Посчитайте статистическую значимость различий в конверсии между группами по «сырым» данным. Сделайте выводы и предположения.](#16)  \n",
    "    [Посчитайте статистическую значимость различий в среднем чеке заказа между группами по «сырым» данным. Сделайте выводы и предположения.](#17)  \n",
    "    [Посчитайте статистическую значимость различий в конверсии между группами по «очищенным» данным. Сделайте выводы и предположения.](#18)  \n",
    "    [Посчитайте статистическую значимость различий в среднем чеке заказа между группами по «очищенным» данным. Сделайте выводы и предположения.](#19)  \n",
    "\n",
    "**Принятие решения по результатам теста**\n",
    "\n",
    "   [Примите решение по результатам теста и объясните его. Варианты решений: 1. Остановить тест, зафиксировать победу одной из групп. 2. Остановить тест, зафиксировать отсутствие различий между группами. 3. Продолжить тест.](#20)"
   ]
  },
  {
   "cell_type": "markdown",
   "metadata": {},
   "source": [
    "## часть. Приоритизация гипотез.  "
   ]
  },
  {
   "cell_type": "markdown",
   "metadata": {},
   "source": [
    "# Подготовка\n",
    "<a id='1_1'></a>\n",
    "### Загрузка библиотек\n",
    "[*Назад к оглавлению*](#Оглавление)"
   ]
  },
  {
   "cell_type": "code",
   "execution_count": 1,
   "metadata": {},
   "outputs": [],
   "source": [
    "import pandas as pd\n",
    "import numpy as np\n",
    "import matplotlib.pyplot as plt\n",
    "from scipy import stats\n",
    "import datetime as dt"
   ]
  },
  {
   "cell_type": "markdown",
   "metadata": {},
   "source": [
    "В файле /datasets/hypothesis.csv 9 гипотез по увеличению выручки интернет-магазина с указанными параметрами Reach, Impact, Confidence, Effort.  "
   ]
  },
  {
   "cell_type": "markdown",
   "metadata": {},
   "source": [
    "**Загрузка данных**"
   ]
  },
  {
   "cell_type": "code",
   "execution_count": 2,
   "metadata": {},
   "outputs": [
    {
     "name": "stdout",
     "output_type": "stream",
     "text": [
      "                                          Hypothesis  Reach  Impact  \\\n",
      "0  Добавить два новых канала привлечения трафика,...      3      10   \n",
      "1  Запустить собственную службу доставки, что сок...      2       5   \n",
      "2  Добавить блоки рекомендаций товаров на сайт ин...      8       3   \n",
      "3  Изменить структура категорий, что увеличит кон...      8       3   \n",
      "4  Изменить цвет фона главной страницы, чтобы уве...      3       1   \n",
      "5  Добавить страницу отзывов клиентов о магазине,...      3       2   \n",
      "6  Показать на главной странице баннеры с актуаль...      5       3   \n",
      "7  Добавить форму подписки на все основные страни...     10       7   \n",
      "8  Запустить акцию, дающую скидку на товар в день...      1       9   \n",
      "\n",
      "   Confidence  Efforts  \n",
      "0           8        6  \n",
      "1           4       10  \n",
      "2           7        3  \n",
      "3           3        8  \n",
      "4           1        1  \n",
      "5           2        3  \n",
      "6           8        3  \n",
      "7           8        5  \n",
      "8           9        5  \n"
     ]
    }
   ],
   "source": [
    "data = pd.read_csv('/datasets/hypothesis.csv')\n",
    "print (data) "
   ]
  },
  {
   "cell_type": "markdown",
   "metadata": {},
   "source": [
    "# Приоритизация гипотез\n",
    "<a id='1_2'></a>\n",
    "### Примените фреймворк ICE для приоритизации гипотез. Отсортируйте их по убыванию приоритета.\n",
    "[*Назад к оглавлению*](#Оглавление)"
   ]
  },
  {
   "cell_type": "code",
   "execution_count": 3,
   "metadata": {},
   "outputs": [
    {
     "name": "stdout",
     "output_type": "stream",
     "text": [
      "                                          Hypothesis        ICE\n",
      "8  Запустить акцию, дающую скидку на товар в день...  16.200000\n",
      "0  Добавить два новых канала привлечения трафика,...  13.333333\n",
      "7  Добавить форму подписки на все основные страни...  11.200000\n",
      "6  Показать на главной странице баннеры с актуаль...   8.000000\n",
      "2  Добавить блоки рекомендаций товаров на сайт ин...   7.000000\n",
      "1  Запустить собственную службу доставки, что сок...   2.000000\n",
      "5  Добавить страницу отзывов клиентов о магазине,...   1.333333\n",
      "3  Изменить структура категорий, что увеличит кон...   1.125000\n",
      "4  Изменить цвет фона главной страницы, чтобы уве...   1.000000\n"
     ]
    }
   ],
   "source": [
    "data['ICE'] = (data['Impact']* data['Confidence']) /data['Efforts']\n",
    "print(data[['Hypothesis','ICE']].sort_values(by='ICE', ascending=False))"
   ]
  },
  {
   "cell_type": "markdown",
   "metadata": {},
   "source": [
    "<a id='1_3'></a>\n",
    "### Примените фреймворк ICE для приоритизации гипотез. Отсортируйте их по убыванию приоритета.\n",
    "[*Назад к оглавлению*](#Оглавление)"
   ]
  },
  {
   "cell_type": "code",
   "execution_count": 4,
   "metadata": {
    "scrolled": true
   },
   "outputs": [
    {
     "name": "stdout",
     "output_type": "stream",
     "text": [
      "                                          Hypothesis   RICE\n",
      "7  Добавить форму подписки на все основные страни...  112.0\n",
      "2  Добавить блоки рекомендаций товаров на сайт ин...   56.0\n",
      "0  Добавить два новых канала привлечения трафика,...   40.0\n",
      "6  Показать на главной странице баннеры с актуаль...   40.0\n",
      "8  Запустить акцию, дающую скидку на товар в день...   16.2\n",
      "3  Изменить структура категорий, что увеличит кон...    9.0\n",
      "1  Запустить собственную службу доставки, что сок...    4.0\n",
      "5  Добавить страницу отзывов клиентов о магазине,...    4.0\n",
      "4  Изменить цвет фона главной страницы, чтобы уве...    3.0\n"
     ]
    }
   ],
   "source": [
    "data['RICE'] = (data['Reach']*data['Impact']* data['Confidence']) /data['Efforts']\n",
    "print(data[['Hypothesis','RICE']].sort_values(by='RICE', ascending=False))"
   ]
  },
  {
   "cell_type": "markdown",
   "metadata": {},
   "source": [
    "<a id='1_4'></a>\n",
    "### Укажите, как изменилась приоритизация гипотез при применении RICE вместо ICE. Объясните, почему так произошло.\n",
    "[*Назад к оглавлению*](#Оглавление)\n"
   ]
  },
  {
   "cell_type": "markdown",
   "metadata": {},
   "source": [
    "По фреймворку ICE наибольшую оценку имели гипотезы 8,0 и 7. \n",
    "После применения фреймворка RICE приоритеты изменились на гипотезы 7,2 и 0. \n",
    "Это объясняется тем, что в случае фреймворка ICE в отличие от RICE мы не учитывали охват изменений, тогда как это важная составляющая оценки гипотез.\n",
    "\n",
    "В нашем случае наиболее приоритетными гипотезами будут 7, 2, 0."
   ]
  },
  {
   "cell_type": "markdown",
   "metadata": {},
   "source": [
    "## часть. Анализ A/B-теста"
   ]
  },
  {
   "cell_type": "markdown",
   "metadata": {},
   "source": [
    "Вы провели A/B-тест и получили результаты, которые описаны в файлах /datasets/orders.csv и /datasets/visitors.csv.  \n"
   ]
  },
  {
   "cell_type": "markdown",
   "metadata": {},
   "source": [
    "<a id='2_1'></a>\n",
    "### Подгрузим датасеты, проверим их на наличие пропусков и соответствие типам данных, а также правильность выгрузки\n",
    "[*Назад к оглавлению*](#Оглавление)"
   ]
  },
  {
   "cell_type": "code",
   "execution_count": 5,
   "metadata": {},
   "outputs": [
    {
     "name": "stdout",
     "output_type": "stream",
     "text": [
      "\n",
      "Начальная дата 2019-Aug-01, конечная дата 2019-Aug-31\n",
      "\n",
      "<class 'pandas.core.frame.DataFrame'>\n",
      "RangeIndex: 1197 entries, 0 to 1196\n",
      "Data columns (total 5 columns):\n",
      " #   Column         Non-Null Count  Dtype         \n",
      "---  ------         --------------  -----         \n",
      " 0   transactionId  1197 non-null   int64         \n",
      " 1   visitorId      1197 non-null   int64         \n",
      " 2   date           1197 non-null   datetime64[ns]\n",
      " 3   revenue        1197 non-null   int64         \n",
      " 4   group          1197 non-null   object        \n",
      "dtypes: datetime64[ns](1), int64(3), object(1)\n",
      "memory usage: 46.9+ KB\n"
     ]
    },
    {
     "data": {
      "text/html": [
       "<div>\n",
       "<style scoped>\n",
       "    .dataframe tbody tr th:only-of-type {\n",
       "        vertical-align: middle;\n",
       "    }\n",
       "\n",
       "    .dataframe tbody tr th {\n",
       "        vertical-align: top;\n",
       "    }\n",
       "\n",
       "    .dataframe thead th {\n",
       "        text-align: right;\n",
       "    }\n",
       "</style>\n",
       "<table border=\"1\" class=\"dataframe\">\n",
       "  <thead>\n",
       "    <tr style=\"text-align: right;\">\n",
       "      <th></th>\n",
       "      <th>transactionId</th>\n",
       "      <th>visitorId</th>\n",
       "      <th>date</th>\n",
       "      <th>revenue</th>\n",
       "      <th>group</th>\n",
       "    </tr>\n",
       "  </thead>\n",
       "  <tbody>\n",
       "    <tr>\n",
       "      <th>0</th>\n",
       "      <td>3667963787</td>\n",
       "      <td>3312258926</td>\n",
       "      <td>2019-08-15</td>\n",
       "      <td>1650</td>\n",
       "      <td>B</td>\n",
       "    </tr>\n",
       "    <tr>\n",
       "      <th>1</th>\n",
       "      <td>2804400009</td>\n",
       "      <td>3642806036</td>\n",
       "      <td>2019-08-15</td>\n",
       "      <td>730</td>\n",
       "      <td>B</td>\n",
       "    </tr>\n",
       "    <tr>\n",
       "      <th>2</th>\n",
       "      <td>2961555356</td>\n",
       "      <td>4069496402</td>\n",
       "      <td>2019-08-15</td>\n",
       "      <td>400</td>\n",
       "      <td>A</td>\n",
       "    </tr>\n",
       "    <tr>\n",
       "      <th>3</th>\n",
       "      <td>3797467345</td>\n",
       "      <td>1196621759</td>\n",
       "      <td>2019-08-15</td>\n",
       "      <td>9759</td>\n",
       "      <td>B</td>\n",
       "    </tr>\n",
       "    <tr>\n",
       "      <th>4</th>\n",
       "      <td>2282983706</td>\n",
       "      <td>2322279887</td>\n",
       "      <td>2019-08-15</td>\n",
       "      <td>2308</td>\n",
       "      <td>B</td>\n",
       "    </tr>\n",
       "  </tbody>\n",
       "</table>\n",
       "</div>"
      ],
      "text/plain": [
       "   transactionId   visitorId       date  revenue group\n",
       "0     3667963787  3312258926 2019-08-15     1650     B\n",
       "1     2804400009  3642806036 2019-08-15      730     B\n",
       "2     2961555356  4069496402 2019-08-15      400     A\n",
       "3     3797467345  1196621759 2019-08-15     9759     B\n",
       "4     2282983706  2322279887 2019-08-15     2308     B"
      ]
     },
     "execution_count": 5,
     "metadata": {},
     "output_type": "execute_result"
    }
   ],
   "source": [
    "orders = pd.read_csv('/datasets/orders.csv')\n",
    "orders['date'] = orders['date'].astype('datetime64[D]')\n",
    "orders['date'] = orders['date'].map(lambda x: dt.datetime.strftime(x, '%Y-%b-%d'))\n",
    "print('\\nНачальная дата {}, конечная дата {}\\n'.format(orders['date'].min(), orders['date'].max()))\n",
    "orders['date'] = orders['date'].map(lambda x: dt.datetime.strptime(x, '%Y-%b-%d'))\n",
    "orders.info()\n",
    "orders.head(5)"
   ]
  },
  {
   "cell_type": "code",
   "execution_count": 6,
   "metadata": {
    "scrolled": true
   },
   "outputs": [
    {
     "name": "stdout",
     "output_type": "stream",
     "text": [
      "\n",
      "Начальная дата 2019-Aug-01, конечная дата 2019-Aug-31\n",
      "\n",
      "<class 'pandas.core.frame.DataFrame'>\n",
      "RangeIndex: 62 entries, 0 to 61\n",
      "Data columns (total 3 columns):\n",
      " #   Column    Non-Null Count  Dtype         \n",
      "---  ------    --------------  -----         \n",
      " 0   date      62 non-null     datetime64[ns]\n",
      " 1   group     62 non-null     object        \n",
      " 2   visitors  62 non-null     int64         \n",
      "dtypes: datetime64[ns](1), int64(1), object(1)\n",
      "memory usage: 1.6+ KB\n",
      "\n",
      "Результаты подготовки:\n",
      "Данные прочитаны. Изменил тип данных у столбцов с датами. \n",
      "Выгрузка совершена корректно, даты совпадают.\n"
     ]
    }
   ],
   "source": [
    "visitors = pd.read_csv('/datasets/visitors.csv')\n",
    "visitors['date'] = visitors['date'].astype('datetime64[D]')\n",
    "visitors['date'] = visitors['date'].map(lambda x: dt.datetime.strftime(x, '%Y-%b-%d'))\n",
    "print('\\nНачальная дата {}, конечная дата {}\\n'.format(visitors['date'].min(), visitors['date'].max()))\n",
    "visitors['date'] = visitors['date'].map(lambda x: dt.datetime.strptime(x, '%Y-%b-%d'))\n",
    "visitors.info()\n",
    "visitors.head(5)\n",
    "print('\\nРезультаты подготовки:\\nДанные прочитаны. Изменил тип данных у столбцов с датами. \\nВыгрузка совершена корректно, даты совпадают.')"
   ]
  },
  {
   "cell_type": "markdown",
   "metadata": {},
   "source": [
    "<a id='6'></a>\n",
    "### Проверим корректность распределения на группы A/B\n",
    "[*Назад к оглавлению*](#Оглавление)\n",
    "- Проверим размеры групп в выборке, есть ли разница между ними\n",
    "- Проверим, корректно ли был рассчитан размер выборки для проведения теста"
   ]
  },
  {
   "cell_type": "code",
   "execution_count": 7,
   "metadata": {},
   "outputs": [
    {
     "name": "stdout",
     "output_type": "stream",
     "text": [
      "Кол-во посетителей в группе А: 18736\n",
      "Кол-во посетителей в группе B: 18916\n",
      "Кол-во покупок в группе A: 557\n",
      "Кол-во покупок в группе B: 640\n"
     ]
    },
    {
     "data": {
      "image/png": "[encoded data removed]",
      "text/plain": [
       "<Figure size 432x288 with 1 Axes>"
      ]
     },
     "metadata": {
      "needs_background": "light"
     },
     "output_type": "display_data"
    },
    {
     "name": "stdout",
     "output_type": "stream",
     "text": [
      "P-value:0.7301376549390499\n",
      "Разница в количестве посетителей в группах A и B статистически НЕ значима\n",
      "\n",
      "Начальная конверсия: 0.030\n",
      "Полученная после изменений конверсия: 0.034\n",
      "Относительное изменение конверсии после изменений: 0.121\n",
      "\n",
      "Вводим начальную конверсию и полученное относительное изменение конверсии в калькулятор\n",
      "Сайт калькулятора: https://www.evanmiller.org/ab-testing/sample-size.html\n",
      "Получаем необходимое количество выборки 35855 для корректного проведения тестирования\n",
      "В нашем случае количество 37652 посещений\n",
      "Кол-во выборки для A/B тестирования корректно подобрано, статистически значимой разницы\n",
      "в количестве посещений м/у группами не обнаружено.\n"
     ]
    }
   ],
   "source": [
    "print('Кол-во посетителей в группе А: {}\\n'\n",
    "      'Кол-во посетителей в группе B: {}'.format(visitors[visitors['group']=='A']['visitors'].sum(), \n",
    "                                                 visitors[visitors['group']=='B']['visitors'].sum()))\n",
    "purchasesA = len(orders[orders['group']=='A'])\n",
    "purchasesB = len(orders[orders['group']=='B'])\n",
    "print('Кол-во покупок в группе A: {}'.format(purchasesA))\n",
    "print('Кол-во покупок в группе B: {}'.format(purchasesB))\n",
    "plt.hist(visitors[visitors['group']=='A']['visitors'], alpha = 0.8, label='A', bins = 30)\n",
    "plt.hist(visitors[visitors['group']=='B']['visitors'], alpha = 0.8, label='B', bins = 30)\n",
    "plt.legend()\n",
    "plt.title('Гистограммы кол-ва посетителей в день по группам A и B')\n",
    "plt.show()\n",
    "results = stats.mannwhitneyu(visitors[visitors['group']=='A']['visitors'], visitors[visitors['group']=='B']['visitors'])\n",
    "alpha = 0.05\n",
    "print('P-value:{}'.format(results.pvalue))\n",
    "if results.pvalue < alpha:\n",
    "    print('Разница в количестве посетителей в группах A и B статистически значима\\n')\n",
    "else:\n",
    "    print('Разница в количестве посетителей в группах A и B статистически НЕ значима\\n')\n",
    "\n",
    "initial_conversion = len(orders[orders['group']=='A']) / visitors[visitors['group']=='A']['visitors'].sum() \n",
    "resulting_conversion = len(orders[orders['group']=='B']) / visitors[visitors['group']=='B']['visitors'].sum()\n",
    "print('Начальная конверсия: {:.3f}'.format(initial_conversion))\n",
    "print('Полученная после изменений конверсия: {:.3f}'.format(resulting_conversion))\n",
    "print('Относительное изменение конверсии после изменений: {:.3f}'.format(abs(1-(initial_conversion/resulting_conversion))))\n",
    "print('\\nВводим начальную конверсию и полученное относительное изменение конверсии в калькулятор\\n'\n",
    "     'Сайт калькулятора: https://www.evanmiller.org/ab-testing/sample-size.html\\n'\n",
    "     'Получаем необходимое количество выборки 35855 для корректного проведения тестирования\\n'\n",
    "     'В нашем случае количество {} посещений\\n'\n",
    "      'Кол-во выборки для A/B тестирования корректно подобрано, ' \n",
    "      'статистически значимой разницы\\nв количестве посещений м/у группами не обнаружено.'.format(visitors['visitors'].sum()))"
   ]
  },
  {
   "cell_type": "markdown",
   "metadata": {},
   "source": [
    "# Кумулятивные метрики\n",
    "<a id='7'></a>\n",
    "# Построим график кумулятивной выручки по группам \n",
    "[*Назад к оглавлению*](#Оглавление)"
   ]
  },
  {
   "cell_type": "code",
   "execution_count": 8,
   "metadata": {
    "scrolled": true
   },
   "outputs": [
    {
     "name": "stdout",
     "output_type": "stream",
     "text": [
      "\n",
      "Полученная таблица с кумулятивными (накопленными) значениями по дате и группам:\n",
      "- кол-во покупок \n",
      "- кол-во покупателей \n",
      "- выручка \n",
      "- кол-во посетителей\n"
     ]
    },
    {
     "data": {
      "text/html": [
       "<div>\n",
       "<style scoped>\n",
       "    .dataframe tbody tr th:only-of-type {\n",
       "        vertical-align: middle;\n",
       "    }\n",
       "\n",
       "    .dataframe tbody tr th {\n",
       "        vertical-align: top;\n",
       "    }\n",
       "\n",
       "    .dataframe thead th {\n",
       "        text-align: right;\n",
       "    }\n",
       "</style>\n",
       "<table border=\"1\" class=\"dataframe\">\n",
       "  <thead>\n",
       "    <tr style=\"text-align: right;\">\n",
       "      <th></th>\n",
       "      <th>date</th>\n",
       "      <th>group</th>\n",
       "      <th>orders</th>\n",
       "      <th>buyers</th>\n",
       "      <th>revenue</th>\n",
       "      <th>visitors</th>\n",
       "    </tr>\n",
       "  </thead>\n",
       "  <tbody>\n",
       "    <tr>\n",
       "      <th>0</th>\n",
       "      <td>2019-08-01</td>\n",
       "      <td>A</td>\n",
       "      <td>24</td>\n",
       "      <td>20</td>\n",
       "      <td>148579</td>\n",
       "      <td>719</td>\n",
       "    </tr>\n",
       "    <tr>\n",
       "      <th>1</th>\n",
       "      <td>2019-08-01</td>\n",
       "      <td>B</td>\n",
       "      <td>21</td>\n",
       "      <td>20</td>\n",
       "      <td>101217</td>\n",
       "      <td>713</td>\n",
       "    </tr>\n",
       "    <tr>\n",
       "      <th>2</th>\n",
       "      <td>2019-08-02</td>\n",
       "      <td>A</td>\n",
       "      <td>44</td>\n",
       "      <td>38</td>\n",
       "      <td>242401</td>\n",
       "      <td>1338</td>\n",
       "    </tr>\n",
       "    <tr>\n",
       "      <th>3</th>\n",
       "      <td>2019-08-02</td>\n",
       "      <td>B</td>\n",
       "      <td>45</td>\n",
       "      <td>43</td>\n",
       "      <td>266748</td>\n",
       "      <td>1294</td>\n",
       "    </tr>\n",
       "    <tr>\n",
       "      <th>4</th>\n",
       "      <td>2019-08-03</td>\n",
       "      <td>A</td>\n",
       "      <td>68</td>\n",
       "      <td>62</td>\n",
       "      <td>354874</td>\n",
       "      <td>1845</td>\n",
       "    </tr>\n",
       "  </tbody>\n",
       "</table>\n",
       "</div>"
      ],
      "text/plain": [
       "        date group  orders  buyers  revenue  visitors\n",
       "0 2019-08-01     A      24      20   148579       719\n",
       "1 2019-08-01     B      21      20   101217       713\n",
       "2 2019-08-02     A      44      38   242401      1338\n",
       "3 2019-08-02     B      45      43   266748      1294\n",
       "4 2019-08-03     A      68      62   354874      1845"
      ]
     },
     "execution_count": 8,
     "metadata": {},
     "output_type": "execute_result"
    }
   ],
   "source": [
    "#достаем уникальные значения дат и групп\n",
    "datesGroups = orders[['date','group']].drop_duplicates().sort_values(by=['date', 'group'])\n",
    "\n",
    "#выводим кумулятивные показатели из orders\n",
    "ordersAggregated = datesGroups.apply(lambda x: orders[np.logical_and(x['date'] >= orders['date'], x['group']==orders['group'])]\\\n",
    ".agg({'date':'max', 'group':'max', 'transactionId':'nunique', 'visitorId':'nunique', 'revenue':'sum'}), axis = 1)\n",
    "ordersAggregated.columns = ['date', 'group', 'orders', 'buyers', 'revenue']\n",
    "#выводим кумулятивные показатели из visitors\n",
    "visitorsAggregated = datesGroups.apply(lambda x: visitors[np.logical_and(x['date'] >= visitors['date'], x['group']==visitors['group'])]\\\n",
    ".agg({'date':'max', 'group':'max', 'visitors':'sum'}), axis = 1)\n",
    "#сводим все накопительные данные в одну таблицу\n",
    "cummulativeData = ordersAggregated.merge(visitorsAggregated, left_on=['date', 'group'], right_on=['date', 'group'])\n",
    "print('\\nПолученная таблица с кумулятивными (накопленными) значениями по дате и группам:'\n",
    "'\\n- кол-во покупок \\n- кол-во покупателей \\n- выручка \\n- кол-во посетителей')\n",
    "cummulativeData.head(5)"
   ]
  },
  {
   "cell_type": "code",
   "execution_count": 9,
   "metadata": {},
   "outputs": [
    {
     "data": {
      "image/png": "[encoded data removed]",
      "text/plain": [
       "<Figure size 720x288 with 1 Axes>"
      ]
     },
     "metadata": {
      "needs_background": "light"
     },
     "output_type": "display_data"
    }
   ],
   "source": [
    "cummulativeDataA = cummulativeData[cummulativeData['group']=='A']\n",
    "cummulativeDataB = cummulativeData[cummulativeData['group']=='B']\n",
    "plt.figure(figsize=(10,4))\n",
    "plt.plot(cummulativeDataA['date'], cummulativeDataA['revenue'], label = 'A')\n",
    "plt.plot(cummulativeDataB['date'], cummulativeDataB['revenue'], label = 'B')\n",
    "plt.ylabel('Выручка')\n",
    "plt.xlabel('Дата')\n",
    "plt.title('Графики кумулятивной выручки по группам A/B')\n",
    "plt.legend()\n",
    "plt.show()"
   ]
  },
  {
   "cell_type": "markdown",
   "metadata": {},
   "source": [
    "**Выводы:  \n",
    "Как мы видим, группа B стабильно показывает большую выручку, чем группа A.**"
   ]
  },
  {
   "cell_type": "markdown",
   "metadata": {},
   "source": [
    "<a id='8'></a>\n",
    "# Построим график кумулятивного среднего чека по группам \n",
    "[*Назад к оглавлению*](#Оглавление)"
   ]
  },
  {
   "cell_type": "code",
   "execution_count": 10,
   "metadata": {},
   "outputs": [
    {
     "data": {
      "image/png": "[encoded data removed]",
      "text/plain": [
       "<Figure size 720x288 with 1 Axes>"
      ]
     },
     "metadata": {
      "needs_background": "light"
     },
     "output_type": "display_data"
    }
   ],
   "source": [
    "plt.figure(figsize=(10,4))\n",
    "plt.plot(cummulativeDataA['date'], cummulativeDataA['revenue']/cummulativeDataA['orders'], label = 'A')\n",
    "plt.plot(cummulativeDataB['date'], cummulativeDataB['revenue']/cummulativeDataB['orders'], label = 'B')\n",
    "plt.title('Графики кумулятивного среднего чека по группам A/B')\n",
    "plt.ylabel('Средний чек')\n",
    "plt.xlabel('Дата')\n",
    "plt.legend()\n",
    "plt.show()"
   ]
  },
  {
   "cell_type": "markdown",
   "metadata": {},
   "source": [
    "**Выводы:  \n",
    "Как мы видим, средний чек в группе B почти всё время был выше, но нас должно смутить\n",
    "его резкое колебание во второй половине графика, есть вероятность что оно обусловлено аномалиями.**"
   ]
  },
  {
   "cell_type": "markdown",
   "metadata": {},
   "source": [
    "<a id='9'></a>\n",
    "# Построим график относительного изменения кумулятивного среднего чека группы B к группе A.  \n",
    "[*Назад к оглавлению*](#Оглавление)"
   ]
  },
  {
   "cell_type": "code",
   "execution_count": 11,
   "metadata": {
    "scrolled": true
   },
   "outputs": [
    {
     "data": {
      "image/png": "[encoded data removed]",
      "text/plain": [
       "<Figure size 720x288 with 1 Axes>"
      ]
     },
     "metadata": {
      "needs_background": "light"
     },
     "output_type": "display_data"
    }
   ],
   "source": [
    "mergedCummulativeData = cummulativeDataA.merge(cummulativeDataB, left_on='date', right_on='date', suffixes=['A', 'B'])\n",
    "mergedCummulativeData.head(5)\n",
    "plt.figure(figsize=(10,4))\n",
    "plt.plot(mergedCummulativeData['date'], ((mergedCummulativeData['revenueB']/mergedCummulativeData['ordersB'])/\n",
    "                                       (mergedCummulativeData['revenueA']/mergedCummulativeData['ordersA'])-1))\n",
    "plt.axhline(y=0, color='black', linestyle = '--')\n",
    "plt.title('График относительного изменения кумулятивного среднего чека группы B к группе A')\n",
    "plt.xlabel('Дата')\n",
    "plt.show()"
   ]
  },
  {
   "cell_type": "markdown",
   "metadata": {},
   "source": [
    "Выводы:  \n",
    "Как мы и говорили, *колебания слишком резкие, необходимо будет проверить данные на наличие аномальных пользователей.*"
   ]
  },
  {
   "cell_type": "markdown",
   "metadata": {},
   "source": [
    "<a id='10'></a>\n",
    "# Построим график кумулятивного среднего количества заказов на посетителя (кумулятивной конверсии) по группам\n",
    "[*Назад к оглавлению*](#Оглавление)"
   ]
  },
  {
   "cell_type": "code",
   "execution_count": 12,
   "metadata": {
    "scrolled": true
   },
   "outputs": [
    {
     "data": {
      "image/png": "[encoded data removed]",
      "text/plain": [
       "<Figure size 720x288 with 1 Axes>"
      ]
     },
     "metadata": {
      "needs_background": "light"
     },
     "output_type": "display_data"
    }
   ],
   "source": [
    "mergedCummulativeData['conversionA'] =  mergedCummulativeData['ordersA'] / mergedCummulativeData['visitorsA'] \n",
    "mergedCummulativeData['conversionB'] =  mergedCummulativeData['ordersB'] / mergedCummulativeData['visitorsB']\n",
    "mergedCummulativeData.head(5)\n",
    "plt.figure(figsize=(10,4))\n",
    "plt.plot(mergedCummulativeData['date'], mergedCummulativeData['conversionA'], label='A')\n",
    "plt.plot(mergedCummulativeData['date'], mergedCummulativeData['conversionB'], label='B')\n",
    "plt.title('График кумулятивной конверсии по группам A/B')\n",
    "plt.xlabel('Дата')\n",
    "plt.ylabel('Конверсия')\n",
    "plt.legend()\n",
    "plt.show()"
   ]
  },
  {
   "cell_type": "markdown",
   "metadata": {},
   "source": [
    "**Выводы:  \n",
    "Группа B стабильно показывает большую конверсию, чем группа A.**"
   ]
  },
  {
   "cell_type": "markdown",
   "metadata": {},
   "source": [
    "<a id='11'></a>\n",
    "# Построим график относительного изменения кумулятивного среднего количества заказов на посетителя (кумулятивной конверсии) группы B к группе A \n",
    "[*Назад к оглавлению*](#Оглавление)"
   ]
  },
  {
   "cell_type": "code",
   "execution_count": 13,
   "metadata": {},
   "outputs": [
    {
     "data": {
      "image/png": "[encoded data removed]",
      "text/plain": [
       "<Figure size 720x288 with 1 Axes>"
      ]
     },
     "metadata": {
      "needs_background": "light"
     },
     "output_type": "display_data"
    }
   ],
   "source": [
    "mergedCummulativeData.head(5)\n",
    "plt.figure(figsize=(10,4))\n",
    "plt.plot(mergedCummulativeData['date'], ((mergedCummulativeData['conversionB']/mergedCummulativeData['conversionA'])-1))\n",
    "plt.title('График относительного изменения кумулятивной конверсии группы B к группе A')\n",
    "plt.axhline(y=0, color='black', linestyle='--')\n",
    "plt.axhline(y=0.1, color='grey', linestyle='--')\n",
    "plt.xlabel('Дата')\n",
    "plt.show()\n"
   ]
  },
  {
   "cell_type": "markdown",
   "metadata": {},
   "source": [
    "**Выводы:  \n",
    "Конверсия в группе B стабильно лучше конверсии в группе A на 10% по прошествии 1 недели после начала.**"
   ]
  },
  {
   "cell_type": "markdown",
   "metadata": {},
   "source": [
    "# Анализ выбросов и всплесков\n",
    "<a id='12'></a>\n",
    "Построим точечный график количества заказов по пользователям  \n",
    "[*Назад к оглавлению*](#Оглавление)"
   ]
  },
  {
   "cell_type": "code",
   "execution_count": 14,
   "metadata": {
    "scrolled": false
   },
   "outputs": [
    {
     "data": {
      "image/png": "[encoded data removed]",
      "text/plain": [
       "<Figure size 720x288 with 1 Axes>"
      ]
     },
     "metadata": {
      "needs_background": "light"
     },
     "output_type": "display_data"
    },
    {
     "data": {
      "image/png": "[encoded data removed]",
      "text/plain": [
       "<Figure size 720x288 with 1 Axes>"
      ]
     },
     "metadata": {
      "needs_background": "light"
     },
     "output_type": "display_data"
    }
   ],
   "source": [
    "orders.head(5)\n",
    "ordersByUsers = orders.groupby('visitorId', as_index = False).agg({'transactionId':'nunique'}).sort_values(by='transactionId', ascending = False)\n",
    "ordersByUsers.columns = ['visitorId', 'orders']\n",
    "ordersByUsers.head(5)\n",
    "plt.figure(figsize=(10,4))\n",
    "plt.hist(ordersByUsers['orders'], bins = 10)\n",
    "plt.title('Гистрограмма распределения количества заказов на одного пользователя')\n",
    "plt.show()\n",
    "x_values = pd.Series(range(0, len(ordersByUsers)))\n",
    "plt.figure(figsize=(10,4))\n",
    "plt.scatter(x_values, ordersByUsers['orders'])\n",
    "plt.title('Точечная диаграмма числа заказов на одного пользователя')\n",
    "plt.show()"
   ]
  },
  {
   "cell_type": "markdown",
   "metadata": {},
   "source": [
    "**Выводы:  \n",
    "Судя по графикам, подавляющее большинство пользователей не совершает более 2 заказов.**"
   ]
  },
  {
   "cell_type": "markdown",
   "metadata": {},
   "source": [
    "<a id='13'></a>\n",
    "# Посчитаем 95-й и 99-й перцентили количества заказов на пользователя. Выберем границу для определения аномальных пользователей.\n",
    "[*Назад к оглавлению*](#Оглавление)"
   ]
  },
  {
   "cell_type": "code",
   "execution_count": 15,
   "metadata": {
    "scrolled": false
   },
   "outputs": [
    {
     "name": "stdout",
     "output_type": "stream",
     "text": [
      "Перцентили:\n",
      "95: 2.0\n",
      "99: 4.0\n"
     ]
    }
   ],
   "source": [
    "percentiles = np.percentile(ordersByUsers['orders'], [95, 99])\n",
    "print('Перцентили:\\n95: {}\\n99: {}'.format(percentiles[0],percentiles[1]))"
   ]
  },
  {
   "cell_type": "markdown",
   "metadata": {},
   "source": [
    "**Выводы:  \n",
    "Как мы и предполагали, больше 2 заказов совершают только 5% пользователей.**"
   ]
  },
  {
   "cell_type": "markdown",
   "metadata": {},
   "source": [
    "<a id='14'></a>\n",
    "# Построим точечный график стоимостей заказов\n",
    "[*Назад к оглавлению*](#Оглавление)"
   ]
  },
  {
   "cell_type": "code",
   "execution_count": 16,
   "metadata": {
    "scrolled": true
   },
   "outputs": [
    {
     "data": {
      "image/png": "[encoded data removed]",
      "text/plain": [
       "<Figure size 720x288 with 1 Axes>"
      ]
     },
     "metadata": {
      "needs_background": "light"
     },
     "output_type": "display_data"
    },
    {
     "data": {
      "image/png": "[encoded data removed]",
      "text/plain": [
       "<Figure size 720x288 with 1 Axes>"
      ]
     },
     "metadata": {
      "needs_background": "light"
     },
     "output_type": "display_data"
    }
   ],
   "source": [
    "plt.figure(figsize=(10,4))\n",
    "plt.hist(orders['revenue'], range=(0,100000), bins = 100)\n",
    "plt.title('Гистрограмма распределения сумм заказов на одного пользователя')\n",
    "plt.show()\n",
    "x_values = pd.Series(range(0, len(orders)))\n",
    "plt.figure(figsize=(10,4))\n",
    "plt.scatter(x_values, orders['revenue'])\n",
    "plt.title('Точечная диаграмма сумм заказов на одного пользователя')\n",
    "plt.axis([0, 1200, 0, 200000])\n",
    "plt.show()"
   ]
  },
  {
   "cell_type": "markdown",
   "metadata": {},
   "source": [
    "**Выводы:  \n",
    "Судя по графикам, бОльшая часть пользователей делает покупки суммой не больше 25-30 т.р. Проверим это далее.**"
   ]
  },
  {
   "cell_type": "markdown",
   "metadata": {},
   "source": [
    "<a id='15'></a>\n",
    "# Посчитаем 95-й и 99-й перцентили сумм заказов на пользователя. Выберем границу для определения аномальных пользователей.\n",
    "[*Назад к оглавлению*](#Оглавление)"
   ]
  },
  {
   "cell_type": "code",
   "execution_count": 17,
   "metadata": {
    "scrolled": false
   },
   "outputs": [
    {
     "name": "stdout",
     "output_type": "stream",
     "text": [
      "Перцентили:\n",
      "95: 28000\n",
      "99: 58233\n"
     ]
    }
   ],
   "source": [
    "percentiles = np.percentile(orders['revenue'], [95, 99])\n",
    "print('Перцентили:\\n95: {:.0f}\\n99: {:.0f}'.format(percentiles[0],percentiles[1]))\n"
   ]
  },
  {
   "cell_type": "markdown",
   "metadata": {},
   "source": [
    "**Выводы:  \n",
    "Всего лишь 5% заказов дороже 28 т.р.**"
   ]
  },
  {
   "cell_type": "markdown",
   "metadata": {},
   "source": [
    "<a id='16'></a>\n",
    "# Посчитаем статистическую значимость различий в конверсии между группами по «сырым» данным\n",
    "[*Назад к оглавлению*](#Оглавление)"
   ]
  },
  {
   "cell_type": "code",
   "execution_count": 18,
   "metadata": {
    "scrolled": true
   },
   "outputs": [
    {
     "name": "stdout",
     "output_type": "stream",
     "text": [
      "Кол-во покупателей в группе A: 503\n",
      "Кол-во покупок в группе А: 557\n",
      "Кол-во посетителей в группе A: 18736\n",
      "\n",
      "Кол-во покупателей в группе B: 586\n",
      "Кол-во покупок в группе B: 640\n",
      "Кол-во посетителей в группе B: 18916\n",
      "\n",
      "Относительный прирост конверсии группы B по отношению к группе A: 0.138\n",
      "P-value: 0.016792355056752608\n",
      "По неочищенным данным в конверсии групп A и B РАЗНИЦА СТАТИСТИЧЕСКИ ЗНАЧИМА!\n"
     ]
    }
   ],
   "source": [
    "ordersByUsersA = orders[orders['group']=='A'].groupby('visitorId', as_index=False).agg({'transactionId':'nunique'})\n",
    "ordersByUsersA.columns = ['visitorId', 'orders']\n",
    "ordersByUsersB = orders[orders['group']=='B'].groupby('visitorId', as_index=False).agg({'transactionId':'nunique'})\n",
    "ordersByUsersB.columns = ['visitorId', 'orders']\n",
    "print('Кол-во покупателей в группе A: {}'.format(len(ordersByUsersA)))\n",
    "print('Кол-во покупок в группе А: {}'.format(ordersByUsersA['orders'].sum()))\n",
    "print('Кол-во посетителей в группе A: {}\\n'.format(visitors[visitors['group']=='A']['visitors'].sum()))\n",
    "print('Кол-во покупателей в группе B: {}'.format(len(ordersByUsersB)))\n",
    "print('Кол-во покупок в группе B: {}'.format(ordersByUsersB['orders'].sum()))\n",
    "print('Кол-во посетителей в группе B: {}'.format(visitors[visitors['group']=='B']['visitors'].sum()))\n",
    "\n",
    "\n",
    "#составим списки кол-ва заказов sampleA и sampleB со всеми пользователями (в том числе и не купившими) по группам \n",
    "list_orders_1 =[]\n",
    "for i in range(0,(visitors[visitors['group']=='A']['visitors'].sum()-len(ordersByUsersA))):\n",
    "    list_orders_1.append(0)\n",
    "orders_by_non_purchased_users_A = pd.Series(data = list_orders_1, name = 'orders')\n",
    "\n",
    "list_orders_2 =[]\n",
    "for i in range(0,(visitors[visitors['group']=='B']['visitors'].sum()-len(ordersByUsersB))):\n",
    "    list_orders_2.append(0)\n",
    "orders_by_non_purchased_users_B = pd.Series(data = list_orders_2, name = 'orders')\n",
    "\n",
    "sampleA = pd.concat([ordersByUsersA['orders'], orders_by_non_purchased_users_A], axis=0)\n",
    "sampleB = pd.concat([ordersByUsersB['orders'], orders_by_non_purchased_users_B], axis=0)\n",
    "print('\\nОтносительный прирост конверсии группы B по отношению к группе A: {:.3f}'.format(sampleB.mean()/sampleA.mean()-1))\n",
    "alpha = 0.05\n",
    "results = stats.mannwhitneyu(sampleA, sampleB)\n",
    "print('P-value: {}'.format(results.pvalue))\n",
    "if results.pvalue < alpha:\n",
    "    print('По неочищенным данным в конверсии групп A и B РАЗНИЦА СТАТИСТИЧЕСКИ ЗНАЧИМА!')\n",
    "else:\n",
    "    print('По неочищенным данным РАЗЛИЧИЙ в конверсии групп A и B НЕТ!')"
   ]
  },
  {
   "cell_type": "markdown",
   "metadata": {},
   "source": [
    "<a id='17'></a>\n",
    "# Посчитаем статистическую значимость различий в среднем чеке заказа между группами по «сырым» данным\n",
    "[*Назад к оглавлению*](#Оглавление)"
   ]
  },
  {
   "cell_type": "code",
   "execution_count": 19,
   "metadata": {
    "scrolled": true
   },
   "outputs": [
    {
     "name": "stdout",
     "output_type": "stream",
     "text": [
      "Относительное изменение среднего чека в группе B по отношению группы A: 0.259\n",
      "P-value: 0.7292909855432458\n",
      "По неочищенным данным РАЗЛИЧИЙ в средних чеках в группах A и B НЕТ!\n"
     ]
    }
   ],
   "source": [
    "print('Относительное изменение среднего чека в группе B по отношению группы A: {:.3f}'.format(\n",
    "orders[orders['group']=='B']['revenue'].mean()/orders[orders['group']=='A']['revenue'].mean()-1))\n",
    "results = stats.mannwhitneyu(orders[orders['group']=='A']['revenue'], orders[orders['group']=='B']['revenue'])\n",
    "print('P-value: {}'.format(results.pvalue))\n",
    "if results.pvalue < alpha:\n",
    "    print('По неочищенным данным РАЗНИЦА в средних чеках в группах A и B СТАТИСТИЧЕСКИ ЗНАЧИМА!')\n",
    "else:\n",
    "    print('По неочищенным данным РАЗЛИЧИЙ в средних чеках в группах A и B НЕТ!')"
   ]
  },
  {
   "cell_type": "markdown",
   "metadata": {},
   "source": [
    "<a id='18'></a>\n",
    "# Посчитаем статистическую значимость различий в конверсии между группами по «очищенным» данным\n",
    "[*Назад к оглавлению*](#Оглавление)\n",
    "\n",
    "Ранее мы уже выяснили, что подавляющее большинство пользователей не делает более 2 заказов и сумма 1 покупки в большинстве случаев не превышает 28 000.р. Очистим данные от аномальных пользователей с превышающими данные лимиты значениями."
   ]
  },
  {
   "cell_type": "code",
   "execution_count": 20,
   "metadata": {},
   "outputs": [],
   "source": [
    "#зададим предельные кол-во заказов и сумму покупки для формирования списка аномальных пользователей\n",
    "limit_orders = 2\n",
    "limit_revenue = 28000"
   ]
  },
  {
   "cell_type": "code",
   "execution_count": 21,
   "metadata": {},
   "outputs": [
    {
     "name": "stdout",
     "output_type": "stream",
     "text": [
      "Кол-во аномальных пользователей: 74\n"
     ]
    }
   ],
   "source": [
    "usersWithManyOrders = pd.concat([ordersByUsersA[ordersByUsersA['orders']>limit_orders]['visitorId'], \n",
    "                                ordersByUsersB[ordersByUsersB['orders']>limit_orders]['visitorId']], axis = 0)\n",
    "usersWithExpensiveOrders = orders[orders['revenue']>limit_revenue]['visitorId']\n",
    "abnormalUsers = pd.concat([usersWithManyOrders, usersWithExpensiveOrders], axis = 0).drop_duplicates().sort_values()\n",
    "print('Кол-во аномальных пользователей: {}'.format(len(abnormalUsers)))"
   ]
  },
  {
   "cell_type": "code",
   "execution_count": 22,
   "metadata": {
    "scrolled": true
   },
   "outputs": [
    {
     "name": "stdout",
     "output_type": "stream",
     "text": [
      "\n",
      "Относительный прирост конверсии группы B по отношению к группе A после очистки данных: 0.173\n",
      "P-value: 0.013042592743036745\n",
      "По очищенным данным в конверсии групп A и B РАЗНИЦА СТАТИСТИЧЕСКИ ЗНАЧИМА!\n"
     ]
    }
   ],
   "source": [
    "sampleAFiltered = pd.concat([\n",
    "    ordersByUsersA[np.logical_not(ordersByUsersA['visitorId'].isin(abnormalUsers))]['orders'],\n",
    "    orders_by_non_purchased_users_A\n",
    "], axis = 0)\n",
    "sampleBFiltered = pd.concat([\n",
    "    ordersByUsersB[np.logical_not(ordersByUsersB['visitorId'].isin(abnormalUsers))]['orders'],\n",
    "    orders_by_non_purchased_users_B\n",
    "], axis = 0)\n",
    "print('\\nОтносительный прирост конверсии группы B по отношению к группе A после очистки данных: {:.3f}'.format(sampleBFiltered.mean()/sampleAFiltered.mean()-1))\n",
    "results = stats.mannwhitneyu(sampleAFiltered, sampleBFiltered)\n",
    "print('P-value: {}'.format(results.pvalue))\n",
    "if results.pvalue < alpha:\n",
    "    print('По очищенным данным в конверсии групп A и B РАЗНИЦА СТАТИСТИЧЕСКИ ЗНАЧИМА!')\n",
    "else:\n",
    "    print('По очищенным данным РАЗЛИЧИЙ в конверсии групп A и B НЕТ!')"
   ]
  },
  {
   "cell_type": "markdown",
   "metadata": {},
   "source": [
    "<a id='19'></a>\n",
    "# Посчитаем статистическую значимость различий в среднем чеке заказа между группами по «очищенным» данным\n",
    "[*Назад к оглавлению*](#Оглавление)"
   ]
  },
  {
   "cell_type": "code",
   "execution_count": 23,
   "metadata": {
    "scrolled": true
   },
   "outputs": [
    {
     "name": "stdout",
     "output_type": "stream",
     "text": [
      "Относительное изменение среднего чека в группе B по отношению группы A после очистки данных: -0.020\n",
      "P-value: 0.738481751314565\n",
      "По очищенным данным РАЗЛИЧИЙ в средних чеках в группах A и B НЕТ!\n"
     ]
    }
   ],
   "source": [
    "print('Относительное изменение среднего чека в группе B по отношению группы A после очистки данных: {:.3f}'.format(\n",
    "orders[np.logical_and(orders['group']=='B', np.logical_not(orders['visitorId'].isin(abnormalUsers)))]['revenue'].mean()\\\n",
    "/orders[np.logical_and(orders['group']=='A', np.logical_not(orders['visitorId'].isin(abnormalUsers)))]['revenue'].mean()-1))\n",
    "       \n",
    "       \n",
    "results = stats.mannwhitneyu(orders[np.logical_and(orders['group']=='A', np.logical_not(orders['visitorId'].isin(abnormalUsers)))]['revenue'],\n",
    "                             orders[np.logical_and(orders['group']=='B', np.logical_not(orders['visitorId'].isin(abnormalUsers)))]['revenue'])\n",
    "print('P-value: {}'.format(results.pvalue))\n",
    "if results.pvalue < alpha:\n",
    "    print('По очищенным данным РАЗНИЦА в средних чеках в группах A и B СТАТИСТИЧЕСКИ ЗНАЧИМА!')\n",
    "else:\n",
    "    print('По очищенным данным РАЗЛИЧИЙ в средних чеках в группах A и B НЕТ!')"
   ]
  },
  {
   "cell_type": "markdown",
   "metadata": {},
   "source": [
    "<div style=\"border:solid Chocolate 2px; padding: 40px\">\n",
    "\n",
    "**Общий вывод по проекту**\n",
    "\n",
    "Сергей, спасибо за твой проект! Ты приложил много усилий, чтобы довести его до конца, все задачи в рамках проекта тебе удалось успешно решить, это видно невооруженным глазом, отличная работа! У меня есть несколько рекомендаций, над которыми стоит поработать.\n",
    "\n",
    "**Отмечу отдельные положительные моменты проекта🙂**:\n",
    "* На разных шагах проекта ты предлагал очень интересные решения и методы для их реализации. Хорошая работа!\n",
    "* Ты активно работал с визуализацией, хорошо, что ты используешь графики в работе над проектами!\n",
    "* Тест для проверки гипотез выбран верно, результаты проинтерпретированы корректно.\n",
    "* Проект в целом хорошо структурирован и оформлен, его было приятно читать и проверять.\n",
    "\n",
    "    \n",
    "**На что стоит обратить внимание:🙂**:\n",
    "\n",
    "* Важно сформулировать гипотезы для каждого теста.\n",
    "* Можно поработать над комментариями в желтых блоках, носящих рекомендательный характер.\n",
    "    \n",
    "**Желаю удачи и жду твой проект на повторное ревью!**😉\n",
    "    \n",
    "![gif](https://media.giphy.com/media/l41Yh1olOKd1Tgbw4/giphy.gif)"
   ]
  },
  {
   "cell_type": "markdown",
   "metadata": {},
   "source": [
    "<a id='20'></a>\n",
    "## Примем решение по результатам теста \n",
    "[*Назад к оглавлению*](#Оглавление)\n",
    "\n",
    "**Варианты принимаемых решений:** \n",
    "1. Остановить тест, зафиксировать победу одной из групп. \n",
    "2. Остановить тест, зафиксировать отсутствие различий между группами. \n",
    "3. Продолжить тест.\n",
    "\n",
    "По порядку. Выборка данных имеет корректный размер, проблему подглядывания в результате сравнения групп во время проведения теста мы исключили!\n",
    "Кумулятивные метрики по выручке, среднему чеку и конверсии почти все время лидировали в группе B. \n",
    "На некоторое время возникли сомнения из-за резких колебаний на графике кумулятивного среднего чека в группе B до очистки данных от аномальных пользователей. Наши сомнения подтвердились на этот счет, т.к. после очистки разница между средними чеками стала минимальна, но это не даёт нам повода сомневаться в проведении теста и его результатах. \n",
    "До и после очистки данных, показатель конверсии в группе B больше показателя в группе A - сначала на 14% до и на 17% после очистки данных. \n",
    "\n",
    "**Данная разница показателей конверсии между группами и до и после очистки данных является СТАТИСТИЧЕСКИ ЗНАЧИМОЙ, что позволяет нам сделать вывод о том, что мы можем остановить наш A/B тест и зафиксировать победу группы B!**"
   ]
  },
  {
   "cell_type": "markdown",
   "metadata": {},
   "source": [
    "![gif](https://media.tenor.com/IGzIIXNiEeMAAAAC/spasibo.gif)"
   ]
  }
 ],
 "metadata": {
  "ExecuteTimeLog": [
   {
    "duration": 56,
    "start_time": "2023-07-27T18:26:02.443Z"
   },
   {
    "duration": 849,
    "start_time": "2023-07-27T18:26:12.510Z"
   },
   {
    "duration": 140,
    "start_time": "2023-07-27T18:26:13.362Z"
   },
   {
    "duration": 3,
    "start_time": "2023-07-27T18:31:36.558Z"
   },
   {
    "duration": 44,
    "start_time": "2023-07-27T18:31:36.563Z"
   },
   {
    "duration": 86,
    "start_time": "2023-07-27T18:31:36.609Z"
   },
   {
    "duration": 850,
    "start_time": "2023-07-31T07:27:19.185Z"
   },
   {
    "duration": 63,
    "start_time": "2023-07-31T07:27:20.037Z"
   },
   {
    "duration": 191,
    "start_time": "2023-07-31T07:27:20.103Z"
   },
   {
    "duration": 32,
    "start_time": "2023-07-31T07:28:31.066Z"
   },
   {
    "duration": 30,
    "start_time": "2023-07-31T07:28:41.484Z"
   },
   {
    "duration": 93,
    "start_time": "2023-07-31T07:41:59.910Z"
   },
   {
    "duration": 30,
    "start_time": "2023-07-31T07:43:41.238Z"
   },
   {
    "duration": 9,
    "start_time": "2023-07-31T07:44:01.737Z"
   },
   {
    "duration": 3,
    "start_time": "2023-07-31T07:44:07.688Z"
   },
   {
    "duration": 35,
    "start_time": "2023-07-31T07:44:07.692Z"
   },
   {
    "duration": 2837,
    "start_time": "2023-07-31T07:44:07.728Z"
   },
   {
    "duration": 0,
    "start_time": "2023-07-31T07:44:10.566Z"
   },
   {
    "duration": 32,
    "start_time": "2023-07-31T07:44:29.139Z"
   },
   {
    "duration": 3287,
    "start_time": "2023-07-31T07:44:32.364Z"
   },
   {
    "duration": 10,
    "start_time": "2023-07-31T07:45:08.792Z"
   },
   {
    "duration": 10,
    "start_time": "2023-07-31T07:46:12.840Z"
   },
   {
    "duration": 31,
    "start_time": "2023-07-31T07:47:02.696Z"
   },
   {
    "duration": 32,
    "start_time": "2023-07-31T07:47:09.160Z"
   },
   {
    "duration": 3,
    "start_time": "2023-07-31T07:57:34.587Z"
   },
   {
    "duration": 40,
    "start_time": "2023-07-31T07:57:34.593Z"
   },
   {
    "duration": 8,
    "start_time": "2023-07-31T07:57:34.636Z"
   },
   {
    "duration": 18,
    "start_time": "2023-07-31T07:57:34.646Z"
   },
   {
    "duration": 56,
    "start_time": "2023-07-31T07:57:34.666Z"
   },
   {
    "duration": 3,
    "start_time": "2023-07-31T08:00:52.595Z"
   },
   {
    "duration": 37,
    "start_time": "2023-07-31T08:00:52.600Z"
   },
   {
    "duration": 9,
    "start_time": "2023-07-31T08:00:52.638Z"
   },
   {
    "duration": 21,
    "start_time": "2023-07-31T08:00:52.648Z"
   },
   {
    "duration": 57,
    "start_time": "2023-07-31T08:00:52.671Z"
   },
   {
    "duration": 3,
    "start_time": "2023-07-31T08:10:49.693Z"
   },
   {
    "duration": 36,
    "start_time": "2023-07-31T08:10:49.700Z"
   },
   {
    "duration": 8,
    "start_time": "2023-07-31T08:10:49.738Z"
   },
   {
    "duration": 18,
    "start_time": "2023-07-31T08:10:49.748Z"
   },
   {
    "duration": 64,
    "start_time": "2023-07-31T08:10:49.768Z"
   },
   {
    "duration": 2,
    "start_time": "2023-07-31T08:13:14.894Z"
   },
   {
    "duration": 39,
    "start_time": "2023-07-31T08:13:14.898Z"
   },
   {
    "duration": 10,
    "start_time": "2023-07-31T08:13:14.940Z"
   },
   {
    "duration": 14,
    "start_time": "2023-07-31T08:13:14.952Z"
   },
   {
    "duration": 70,
    "start_time": "2023-07-31T08:13:14.968Z"
   },
   {
    "duration": 81,
    "start_time": "2023-07-31T08:22:13.269Z"
   },
   {
    "duration": 17,
    "start_time": "2023-07-31T09:13:35.142Z"
   },
   {
    "duration": 97,
    "start_time": "2023-07-31T09:13:47.615Z"
   },
   {
    "duration": 746,
    "start_time": "2023-07-31T09:14:09.462Z"
   },
   {
    "duration": 1057,
    "start_time": "2023-07-31T09:14:14.847Z"
   },
   {
    "duration": 656,
    "start_time": "2023-07-31T09:14:23.567Z"
   },
   {
    "duration": 1466,
    "start_time": "2023-07-31T09:14:29.863Z"
   },
   {
    "duration": 1674,
    "start_time": "2023-07-31T09:14:34.471Z"
   },
   {
    "duration": 983,
    "start_time": "2023-07-31T09:15:58.457Z"
   },
   {
    "duration": 90,
    "start_time": "2023-07-31T09:16:35.298Z"
   },
   {
    "duration": 42,
    "start_time": "2023-07-31T09:17:29.987Z"
   },
   {
    "duration": 46,
    "start_time": "2023-07-31T09:17:37.143Z"
   },
   {
    "duration": 41,
    "start_time": "2023-07-31T09:17:55.274Z"
   },
   {
    "duration": 41,
    "start_time": "2023-07-31T09:18:14.874Z"
   },
   {
    "duration": 45,
    "start_time": "2023-07-31T09:18:24.043Z"
   },
   {
    "duration": 4,
    "start_time": "2023-07-31T09:21:10.784Z"
   },
   {
    "duration": 40,
    "start_time": "2023-07-31T09:21:10.790Z"
   },
   {
    "duration": 8,
    "start_time": "2023-07-31T09:21:10.832Z"
   },
   {
    "duration": 9,
    "start_time": "2023-07-31T09:21:10.842Z"
   },
   {
    "duration": 4,
    "start_time": "2023-07-31T09:21:10.853Z"
   },
   {
    "duration": 75,
    "start_time": "2023-07-31T09:21:10.859Z"
   },
   {
    "duration": 28,
    "start_time": "2023-07-31T09:21:10.936Z"
   },
   {
    "duration": 19,
    "start_time": "2023-07-31T09:32:59.288Z"
   },
   {
    "duration": 81,
    "start_time": "2023-07-31T09:33:30.554Z"
   },
   {
    "duration": 512,
    "start_time": "2023-07-31T09:33:39.862Z"
   },
   {
    "duration": 4,
    "start_time": "2023-07-31T09:33:47.555Z"
   },
   {
    "duration": 67,
    "start_time": "2023-07-31T09:33:47.562Z"
   },
   {
    "duration": 8,
    "start_time": "2023-07-31T09:33:47.630Z"
   },
   {
    "duration": 38,
    "start_time": "2023-07-31T09:33:47.640Z"
   },
   {
    "duration": 101,
    "start_time": "2023-07-31T09:33:47.681Z"
   },
   {
    "duration": 29,
    "start_time": "2023-07-31T09:33:47.784Z"
   },
   {
    "duration": 289,
    "start_time": "2023-07-31T09:33:47.815Z"
   },
   {
    "duration": 282,
    "start_time": "2023-07-31T09:34:36.397Z"
   },
   {
    "duration": 716,
    "start_time": "2023-07-31T09:35:03.762Z"
   },
   {
    "duration": 336,
    "start_time": "2023-07-31T10:08:56.195Z"
   },
   {
    "duration": 332,
    "start_time": "2023-07-31T10:09:36.246Z"
   },
   {
    "duration": 201,
    "start_time": "2023-07-31T10:10:05.455Z"
   },
   {
    "duration": 203,
    "start_time": "2023-07-31T10:11:08.470Z"
   },
   {
    "duration": 419,
    "start_time": "2023-07-31T10:13:58.946Z"
   },
   {
    "duration": 363,
    "start_time": "2023-07-31T10:16:36.393Z"
   },
   {
    "duration": 222,
    "start_time": "2023-07-31T10:19:29.475Z"
   },
   {
    "duration": 102,
    "start_time": "2023-07-31T10:20:07.559Z"
   },
   {
    "duration": 219,
    "start_time": "2023-07-31T10:20:14.064Z"
   },
   {
    "duration": 338,
    "start_time": "2023-07-31T10:26:18.447Z"
   },
   {
    "duration": 2,
    "start_time": "2023-07-31T12:29:03.744Z"
   },
   {
    "duration": 286,
    "start_time": "2023-07-31T12:29:03.748Z"
   },
   {
    "duration": 160,
    "start_time": "2023-07-31T12:29:04.035Z"
   },
   {
    "duration": 34,
    "start_time": "2023-07-31T12:29:04.196Z"
   },
   {
    "duration": 123,
    "start_time": "2023-07-31T12:29:04.232Z"
   },
   {
    "duration": 28,
    "start_time": "2023-07-31T12:29:04.357Z"
   },
   {
    "duration": 269,
    "start_time": "2023-07-31T12:29:04.387Z"
   },
   {
    "duration": 335,
    "start_time": "2023-07-31T12:29:04.658Z"
   },
   {
    "duration": 209,
    "start_time": "2023-07-31T12:29:04.995Z"
   },
   {
    "duration": 202,
    "start_time": "2023-07-31T12:29:05.205Z"
   },
   {
    "duration": 279,
    "start_time": "2023-07-31T12:29:05.409Z"
   },
   {
    "duration": 220,
    "start_time": "2023-07-31T12:29:05.690Z"
   },
   {
    "duration": 409,
    "start_time": "2023-07-31T12:29:05.912Z"
   },
   {
    "duration": 4,
    "start_time": "2023-07-31T12:32:38.626Z"
   },
   {
    "duration": 116,
    "start_time": "2023-07-31T12:32:38.633Z"
   },
   {
    "duration": 8,
    "start_time": "2023-07-31T12:32:38.751Z"
   },
   {
    "duration": 12,
    "start_time": "2023-07-31T12:32:38.761Z"
   },
   {
    "duration": 96,
    "start_time": "2023-07-31T12:32:38.775Z"
   },
   {
    "duration": 29,
    "start_time": "2023-07-31T12:32:38.873Z"
   },
   {
    "duration": 404,
    "start_time": "2023-07-31T12:32:38.904Z"
   },
   {
    "duration": 402,
    "start_time": "2023-07-31T12:32:39.904Z"
   },
   {
    "duration": 322,
    "start_time": "2023-07-31T12:32:40.308Z"
   },
   {
    "duration": 229,
    "start_time": "2023-07-31T12:32:40.633Z"
   },
   {
    "duration": 365,
    "start_time": "2023-07-31T12:32:40.865Z"
   },
   {
    "duration": 250,
    "start_time": "2023-07-31T12:32:41.233Z"
   },
   {
    "duration": 330,
    "start_time": "2023-07-31T12:32:41.486Z"
   },
   {
    "duration": 275,
    "start_time": "2023-07-31T12:42:42.921Z"
   },
   {
    "duration": 356,
    "start_time": "2023-07-31T12:44:10.187Z"
   },
   {
    "duration": 7,
    "start_time": "2023-07-31T12:45:56.487Z"
   },
   {
    "duration": 5,
    "start_time": "2023-07-31T12:46:52.102Z"
   },
   {
    "duration": 444,
    "start_time": "2023-07-31T12:48:21.599Z"
   },
   {
    "duration": 6,
    "start_time": "2023-07-31T13:04:31.318Z"
   },
   {
    "duration": 6,
    "start_time": "2023-07-31T13:05:22.257Z"
   },
   {
    "duration": 76,
    "start_time": "2023-07-31T13:06:04.752Z"
   },
   {
    "duration": 15,
    "start_time": "2023-07-31T13:07:57.544Z"
   },
   {
    "duration": 3,
    "start_time": "2023-07-31T13:08:53.412Z"
   },
   {
    "duration": 10,
    "start_time": "2023-07-31T13:09:07.308Z"
   },
   {
    "duration": 46,
    "start_time": "2023-07-31T13:09:21.048Z"
   },
   {
    "duration": 20,
    "start_time": "2023-07-31T13:24:48.873Z"
   },
   {
    "duration": 151,
    "start_time": "2023-07-31T13:25:22.406Z"
   },
   {
    "duration": 1309,
    "start_time": "2023-07-31T17:24:03.943Z"
   },
   {
    "duration": 66,
    "start_time": "2023-07-31T17:24:05.254Z"
   },
   {
    "duration": 11,
    "start_time": "2023-07-31T17:24:05.322Z"
   },
   {
    "duration": 65,
    "start_time": "2023-07-31T17:24:05.335Z"
   },
   {
    "duration": 235,
    "start_time": "2023-07-31T17:24:05.402Z"
   },
   {
    "duration": 65,
    "start_time": "2023-07-31T17:24:05.639Z"
   },
   {
    "duration": 258,
    "start_time": "2023-07-31T17:24:05.706Z"
   },
   {
    "duration": 284,
    "start_time": "2023-07-31T17:24:05.966Z"
   },
   {
    "duration": 283,
    "start_time": "2023-07-31T17:24:06.252Z"
   },
   {
    "duration": 192,
    "start_time": "2023-07-31T17:24:06.538Z"
   },
   {
    "duration": 343,
    "start_time": "2023-07-31T17:24:06.732Z"
   },
   {
    "duration": 222,
    "start_time": "2023-07-31T17:24:07.077Z"
   },
   {
    "duration": 292,
    "start_time": "2023-07-31T17:24:07.301Z"
   },
   {
    "duration": 252,
    "start_time": "2023-07-31T17:24:07.594Z"
   },
   {
    "duration": 4,
    "start_time": "2023-07-31T17:24:07.848Z"
   },
   {
    "duration": 518,
    "start_time": "2023-07-31T17:24:07.854Z"
   },
   {
    "duration": 4,
    "start_time": "2023-07-31T17:24:08.374Z"
   },
   {
    "duration": 74,
    "start_time": "2023-07-31T17:24:08.388Z"
   },
   {
    "duration": 31,
    "start_time": "2023-07-31T17:24:08.463Z"
   },
   {
    "duration": 21,
    "start_time": "2023-07-31T17:24:08.495Z"
   },
   {
    "duration": 29,
    "start_time": "2023-07-31T17:24:08.518Z"
   },
   {
    "duration": 67,
    "start_time": "2023-07-31T17:24:08.549Z"
   },
   {
    "duration": 20,
    "start_time": "2023-07-31T17:24:08.618Z"
   }
  ],
  "kernelspec": {
   "display_name": "Python 3 (ipykernel)",
   "language": "python",
   "name": "python3"
  },
  "language_info": {
   "codemirror_mode": {
    "name": "ipython",
    "version": 3
   },
   "file_extension": ".py",
   "mimetype": "text/x-python",
   "name": "python",
   "nbconvert_exporter": "python",
   "pygments_lexer": "ipython3",
   "version": "3.9.5"
  },
  "toc": {
   "base_numbering": 1,
   "nav_menu": {},
   "number_sections": true,
   "sideBar": true,
   "skip_h1_title": true,
   "title_cell": "Table of Contents",
   "title_sidebar": "Contents",
   "toc_cell": false,
   "toc_position": {},
   "toc_section_display": true,
   "toc_window_display": false
  }
 },
 "nbformat": 4,
 "nbformat_minor": 2
}
