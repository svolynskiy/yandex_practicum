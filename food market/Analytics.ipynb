{
 "cells": [
  {
   "cell_type": "markdown",
   "metadata": {},
   "source": [
    "# Сборный проект «Аналитика» #\n",
    "# Описание проекта #\n",
    "Вы работаете в стартапе, который продаёт продукты питания. Нужно разобраться, как ведут себя пользователи вашего мобильного приложения. \n",
    "\n",
    "Изучите воронку продаж. Узнайте, как пользователи доходят до покупки. Сколько пользователей доходит до покупки, а сколько — «застревает» на предыдущих шагах? На каких именно?\n",
    "\n",
    "После этого исследуйте результаты A/A/B-эксперимента. Дизайнеры захотели поменять шрифты во всём приложении, а менеджеры испугались, что пользователям будет непривычно. Договорились принять решение по результатам A/A/B-теста. Пользователей разбили на 3 группы: 2 контрольные со старыми шрифтами и одну экспериментальную — с новыми. Выясните, какой шрифт лучше.\n",
    "\n",
    "Создание двух групп A вместо одной имеет определённые преимущества. Если две контрольные группы окажутся равны, вы можете быть уверены в точности проведенного тестирования. Если же между значениями A и A будут существенные различия, это поможет обнаружить факторы, которые привели к искажению результатов. Сравнение контрольных групп также помогает понять, сколько времени и данных потребуется для дальнейших тестов.\n",
    "\n",
    "В случае общей аналитики и A/A/B-эксперимента работайте с одними и теми же данными. В реальных проектах всегда идут эксперименты. Аналитики исследуют качество работы приложения по общим данным, не учитывая принадлежность пользователей к экспериментам.\n",
    "\n",
    "# Описание данных #  \n",
    "Каждая запись в логе — это действие пользователя, или событие.   \n",
    "•\tEventName — название события;  \n",
    "•\tDeviceIDHash — уникальный идентификатор пользователя;  \n",
    "•\tEventTimestamp — время события;  \n",
    "•\tExpId — номер эксперимента: 246 и 247 — контрольные группы, а 248 — экспериментальная.\n",
    "\n",
    "\n",
    "# Оглавление <a id='Оглавление'></a>\n",
    "\n",
    "[Загрузка библиотек](#0_1)\n",
    "\n",
    "**1. Открываем файл с данными и изучаем общую информацию**  \n",
    "\n",
    "[Путь к файлу: /datasets/logs_exp.csv. ](#1_1)\n",
    "\n",
    "**2. Подготавливаем данные**  \n",
    "    [Заменим названия столбцов на удобные](#2_1)  \n",
    "    [Проверим пропуски и типы данных. Откорректируем, если нужно](#2_2)  \n",
    "    [Добавим столбец даты и времени, а также отдельный столбец дат](#2_3)  \n",
    "\n",
    "**3. Изучаем и проверяем данные**  \n",
    "\n",
    "[Сколько всего событий в логе?](#3_1)  \n",
    "[Сколько всего пользователей в логе?](#3_2)  \n",
    "[Сколько в среднем событий приходится на пользователя?](#3_3)  \n",
    "[Данными за какой период располагаем? Найдем максимальную и минимальную дату. Изучим, как меняется количество данных: построим столбчатую диаграмму, которая отобразит количество событий в зависимости от времени в разрезе групп. Можно ли быть уверенным, что у нас одинаково полные данные за весь период? Технически в логи новых дней по некоторым пользователям могут «доезжать» события из прошлого — это может «перекашивать данные». Определим, с какого момента данные полные и отбросим более старые. Данными за какой период времени мы располагаем на самом деле?](#3_4)  \n",
    "[Много ли событий и пользователей потеряли, отбросив старые данные?](#3_5)  \n",
    "[Проверим, что у нас есть пользователи из всех трёх экспериментальных групп.](#3_6)  \n",
    "\n",
    "**4. Изучаем воронку событий**  \n",
    "\n",
    "[Посмотрим, какие события есть в логах, как часто они встречаются. Отсортируем события по частоте.](#4_1)  \n",
    "[Посчитаем, сколько пользователей совершали каждое из этих событий. Отсортируем события по числу пользователей. Посчитаем долю пользователей, которые хоть раз совершали событие.](#4_2)  \n",
    "[Предположим, в каком порядке происходят события. Все ли они выстраиваются в последовательную цепочку? Их не нужно учитывать при расчёте воронки.](#4_3)  \n",
    "[По воронке событий посчитаем, какая доля пользователей проходит на следующий шаг воронки (от числа пользователей на предыдущем). То есть для последовательности событий A → B → C посчитаем отношение числа пользователей с событием B к количеству пользователей с событием A, а также отношение числа пользователей с событием C к количеству пользователей с событием B.  \n",
    "На каком шаге теряем больше всего пользователей?\n",
    "Какая доля пользователей доходит от первого события до оплаты?](#4_4)  \n",
    "    \n",
    "**5. Изучаем результаты эксперимента**  \n",
    "\n",
    "[Сколько пользователей в каждой экспериментальной группе?](#5_1)  \n",
    "[Есть 2 контрольные группы для А/А-эксперимента, чтобы проверить корректность всех механизмов и расчётов. Проверим, находят ли статистические критерии разницу между выборками 246 и 247.](#5_2)  \n",
    "[Выберем самое популярное событие. Посчитаем число пользователей, совершивших это событие в каждой из контрольных групп. Посчитаем долю пользователей, совершивших это событие. Проверим, будет ли отличие между группами статистически достоверным. Проделаем то же самое для всех других событий (удобно обернуть проверку в отдельную функцию). Можно ли сказать, что разбиение на группы работает корректно?](#5_3)  \n",
    "[Аналогично поступим с группой с изменённым шрифтом. Сравним результаты с каждой из контрольных групп в отдельности по каждому событию. Сравним результаты с объединённой контрольной группой. Какие выводы из эксперимента можно сделать?](#5_4)  \n",
    "[Какой уровень значимости выбрали при проверке статистических гипотез выше? Посчитаем, сколько проверок статистических гипотез мы сделали. При уровне значимости 0.1 в 10% случаев можно ошибочно отклонить нулевую гипотезу при условии, что она верна. Какой уровень значимости стоит применить? Если мы хотим изменить его, проделаем предыдущие пункты и проверим свои выводы.](#5_5)\n",
    "\n",
    "[Общие выводы](#6)  \n",
    "\n"
   ]
  },
  {
   "cell_type": "markdown",
   "metadata": {},
   "source": [
    "# Подготовка\n",
    "<a id='0_1'></a>\n",
    "**Загрузка библиотек**  \n",
    "[*Назад к оглавлению*](#Оглавление)"
   ]
  },
  {
   "cell_type": "code",
   "execution_count": 169,
   "metadata": {},
   "outputs": [],
   "source": [
    "import pandas as pd\n",
    "import numpy as np\n",
    "from IPython.display import display\n",
    "import matplotlib.pyplot as plt\n",
    "import seaborn as sns\n",
    "import plotly.express as px\n",
    "from plotly import graph_objects as go\n",
    "from scipy import stats as st\n",
    "import warnings\n",
    "import plotly.subplots as sp\n",
    "\n",
    "warnings.filterwarnings('ignore')\n",
    "%matplotlib inline\n",
    "pd.set_option('display.max_columns', 500)\n",
    "pd.options.mode.chained_assignment = None\n",
    "sns.set_style(\"white\")"
   ]
  },
  {
   "cell_type": "markdown",
   "metadata": {},
   "source": [
    "<a id='1_1'></a>\n",
    "## Загрузка данных ###\n"
   ]
  },
  {
   "cell_type": "code",
   "execution_count": 170,
   "metadata": {},
   "outputs": [
    {
     "data": {
      "text/html": [
       "<div>\n",
       "<style scoped>\n",
       "    .dataframe tbody tr th:only-of-type {\n",
       "        vertical-align: middle;\n",
       "    }\n",
       "\n",
       "    .dataframe tbody tr th {\n",
       "        vertical-align: top;\n",
       "    }\n",
       "\n",
       "    .dataframe thead th {\n",
       "        text-align: right;\n",
       "    }\n",
       "</style>\n",
       "<table border=\"1\" class=\"dataframe\">\n",
       "  <thead>\n",
       "    <tr style=\"text-align: right;\">\n",
       "      <th></th>\n",
       "      <th>EventName</th>\n",
       "      <th>DeviceIDHash</th>\n",
       "      <th>EventTimestamp</th>\n",
       "      <th>ExpId</th>\n",
       "    </tr>\n",
       "  </thead>\n",
       "  <tbody>\n",
       "    <tr>\n",
       "      <th>0</th>\n",
       "      <td>MainScreenAppear</td>\n",
       "      <td>4575588528974610257</td>\n",
       "      <td>1564029816</td>\n",
       "      <td>246</td>\n",
       "    </tr>\n",
       "    <tr>\n",
       "      <th>1</th>\n",
       "      <td>MainScreenAppear</td>\n",
       "      <td>7416695313311560658</td>\n",
       "      <td>1564053102</td>\n",
       "      <td>246</td>\n",
       "    </tr>\n",
       "    <tr>\n",
       "      <th>2</th>\n",
       "      <td>PaymentScreenSuccessful</td>\n",
       "      <td>3518123091307005509</td>\n",
       "      <td>1564054127</td>\n",
       "      <td>248</td>\n",
       "    </tr>\n",
       "    <tr>\n",
       "      <th>3</th>\n",
       "      <td>CartScreenAppear</td>\n",
       "      <td>3518123091307005509</td>\n",
       "      <td>1564054127</td>\n",
       "      <td>248</td>\n",
       "    </tr>\n",
       "    <tr>\n",
       "      <th>4</th>\n",
       "      <td>PaymentScreenSuccessful</td>\n",
       "      <td>6217807653094995999</td>\n",
       "      <td>1564055322</td>\n",
       "      <td>248</td>\n",
       "    </tr>\n",
       "    <tr>\n",
       "      <th>...</th>\n",
       "      <td>...</td>\n",
       "      <td>...</td>\n",
       "      <td>...</td>\n",
       "      <td>...</td>\n",
       "    </tr>\n",
       "    <tr>\n",
       "      <th>244121</th>\n",
       "      <td>MainScreenAppear</td>\n",
       "      <td>4599628364049201812</td>\n",
       "      <td>1565212345</td>\n",
       "      <td>247</td>\n",
       "    </tr>\n",
       "    <tr>\n",
       "      <th>244122</th>\n",
       "      <td>MainScreenAppear</td>\n",
       "      <td>5849806612437486590</td>\n",
       "      <td>1565212439</td>\n",
       "      <td>246</td>\n",
       "    </tr>\n",
       "    <tr>\n",
       "      <th>244123</th>\n",
       "      <td>MainScreenAppear</td>\n",
       "      <td>5746969938801999050</td>\n",
       "      <td>1565212483</td>\n",
       "      <td>246</td>\n",
       "    </tr>\n",
       "    <tr>\n",
       "      <th>244124</th>\n",
       "      <td>MainScreenAppear</td>\n",
       "      <td>5746969938801999050</td>\n",
       "      <td>1565212498</td>\n",
       "      <td>246</td>\n",
       "    </tr>\n",
       "    <tr>\n",
       "      <th>244125</th>\n",
       "      <td>OffersScreenAppear</td>\n",
       "      <td>5746969938801999050</td>\n",
       "      <td>1565212517</td>\n",
       "      <td>246</td>\n",
       "    </tr>\n",
       "  </tbody>\n",
       "</table>\n",
       "<p>244126 rows × 4 columns</p>\n",
       "</div>"
      ],
      "text/plain": [
       "                      EventName         DeviceIDHash  EventTimestamp  ExpId\n",
       "0              MainScreenAppear  4575588528974610257      1564029816    246\n",
       "1              MainScreenAppear  7416695313311560658      1564053102    246\n",
       "2       PaymentScreenSuccessful  3518123091307005509      1564054127    248\n",
       "3              CartScreenAppear  3518123091307005509      1564054127    248\n",
       "4       PaymentScreenSuccessful  6217807653094995999      1564055322    248\n",
       "...                         ...                  ...             ...    ...\n",
       "244121         MainScreenAppear  4599628364049201812      1565212345    247\n",
       "244122         MainScreenAppear  5849806612437486590      1565212439    246\n",
       "244123         MainScreenAppear  5746969938801999050      1565212483    246\n",
       "244124         MainScreenAppear  5746969938801999050      1565212498    246\n",
       "244125       OffersScreenAppear  5746969938801999050      1565212517    246\n",
       "\n",
       "[244126 rows x 4 columns]"
      ]
     },
     "execution_count": 170,
     "metadata": {},
     "output_type": "execute_result"
    }
   ],
   "source": [
    "pd.set_option(\"max_colwidth\", 140) #ширина колонок\n",
    "\n",
    "d_logs = pd.read_csv('/datasets/logs_exp.csv',sep='\\t')\n",
    "d_logs"
   ]
  },
  {
   "cell_type": "code",
   "execution_count": 171,
   "metadata": {},
   "outputs": [
    {
     "name": "stdout",
     "output_type": "stream",
     "text": [
      "<class 'pandas.core.frame.DataFrame'>\n",
      "RangeIndex: 244126 entries, 0 to 244125\n",
      "Data columns (total 4 columns):\n",
      " #   Column          Non-Null Count   Dtype \n",
      "---  ------          --------------   ----- \n",
      " 0   EventName       244126 non-null  object\n",
      " 1   DeviceIDHash    244126 non-null  int64 \n",
      " 2   EventTimestamp  244126 non-null  int64 \n",
      " 3   ExpId           244126 non-null  int64 \n",
      "dtypes: int64(3), object(1)\n",
      "memory usage: 7.5+ MB\n"
     ]
    },
    {
     "data": {
      "text/plain": [
       "None"
      ]
     },
     "metadata": {},
     "output_type": "display_data"
    },
    {
     "name": "stdout",
     "output_type": "stream",
     "text": [
      "Дубликатов: 413\n",
      "Кол-во значений: 244126\n"
     ]
    }
   ],
   "source": [
    "display(d_logs.info())\n",
    "print('Дубликатов:', d_logs.duplicated().sum())\n",
    "print('Кол-во значений:', len(d_logs))"
   ]
  },
  {
   "cell_type": "markdown",
   "metadata": {},
   "source": [
    "*Уникальные значения*"
   ]
  },
  {
   "cell_type": "code",
   "execution_count": 172,
   "metadata": {},
   "outputs": [
    {
     "data": {
      "text/plain": [
       "array(['MainScreenAppear', 'PaymentScreenSuccessful', 'CartScreenAppear',\n",
       "       'OffersScreenAppear', 'Tutorial'], dtype=object)"
      ]
     },
     "metadata": {},
     "output_type": "display_data"
    }
   ],
   "source": [
    "display(d_logs['EventName'].unique())"
   ]
  },
  {
   "cell_type": "markdown",
   "metadata": {},
   "source": [
    "**Выводы:**  \n",
    "1. Загрузили датасет.  \n",
    "2. Обнаружили дубликаты.  \n",
    "3. Определили уникальные события."
   ]
  },
  {
   "cell_type": "markdown",
   "metadata": {},
   "source": [
    "## Подготовка данных\n",
    "<a id='2_1'></a>\n",
    "### Переименуем столбцы: ###\n",
    "[*Назад к оглавлению*](#Оглавление)"
   ]
  },
  {
   "cell_type": "code",
   "execution_count": 173,
   "metadata": {},
   "outputs": [
    {
     "data": {
      "text/html": [
       "<div>\n",
       "<style scoped>\n",
       "    .dataframe tbody tr th:only-of-type {\n",
       "        vertical-align: middle;\n",
       "    }\n",
       "\n",
       "    .dataframe tbody tr th {\n",
       "        vertical-align: top;\n",
       "    }\n",
       "\n",
       "    .dataframe thead th {\n",
       "        text-align: right;\n",
       "    }\n",
       "</style>\n",
       "<table border=\"1\" class=\"dataframe\">\n",
       "  <thead>\n",
       "    <tr style=\"text-align: right;\">\n",
       "      <th></th>\n",
       "      <th>event</th>\n",
       "      <th>user_id</th>\n",
       "      <th>timestamp</th>\n",
       "      <th>test_group</th>\n",
       "    </tr>\n",
       "  </thead>\n",
       "  <tbody>\n",
       "    <tr>\n",
       "      <th>30070</th>\n",
       "      <td>MainScreenAppear</td>\n",
       "      <td>7787161900943974716</td>\n",
       "      <td>1564678239</td>\n",
       "      <td>248</td>\n",
       "    </tr>\n",
       "    <tr>\n",
       "      <th>70101</th>\n",
       "      <td>MainScreenAppear</td>\n",
       "      <td>4587251806549230989</td>\n",
       "      <td>1564771573</td>\n",
       "      <td>246</td>\n",
       "    </tr>\n",
       "    <tr>\n",
       "      <th>152947</th>\n",
       "      <td>PaymentScreenSuccessful</td>\n",
       "      <td>1100007125648169445</td>\n",
       "      <td>1565001434</td>\n",
       "      <td>248</td>\n",
       "    </tr>\n",
       "  </tbody>\n",
       "</table>\n",
       "</div>"
      ],
      "text/plain": [
       "                          event              user_id   timestamp  test_group\n",
       "30070          MainScreenAppear  7787161900943974716  1564678239         248\n",
       "70101          MainScreenAppear  4587251806549230989  1564771573         246\n",
       "152947  PaymentScreenSuccessful  1100007125648169445  1565001434         248"
      ]
     },
     "execution_count": 173,
     "metadata": {},
     "output_type": "execute_result"
    }
   ],
   "source": [
    "d_logs = d_logs.rename(columns={\"EventName\": \"event\", \"DeviceIDHash\": \"user_id\", \n",
    "                            \"EventTimestamp\": \"timestamp\", \"ExpId\": \"test_group\"})\n",
    "d_logs.sample(3)"
   ]
  },
  {
   "cell_type": "markdown",
   "metadata": {},
   "source": [
    "<a id='2_2'></a>\n",
    "### Проверим пропуски и типы данных. Откорректируем, если нужно\n",
    "[*Назад к оглавлению*](#Оглавление)"
   ]
  },
  {
   "cell_type": "markdown",
   "metadata": {},
   "source": [
    "Поле timestamp - int64. Далее исправим."
   ]
  },
  {
   "cell_type": "code",
   "execution_count": 174,
   "metadata": {},
   "outputs": [
    {
     "name": "stdout",
     "output_type": "stream",
     "text": [
      "Логов до удаления дубликатов: 244126\n",
      "Дубликатов: 413\n",
      "Логов после удаления дубликатов: 243713\n"
     ]
    }
   ],
   "source": [
    "print('Логов до удаления дубликатов:', len(d_logs))\n",
    "print('Дубликатов:', d_logs.duplicated().sum())\n",
    "d_logs.drop_duplicates(inplace=True)\n",
    "print('Логов после удаления дубликатов:', len(d_logs))"
   ]
  },
  {
   "cell_type": "markdown",
   "metadata": {},
   "source": [
    "<a id='2_3'></a>\n",
    "### Добавим столбец даты и времени, а также отдельный столбец дат\n",
    "[*Назад к оглавлению*](#Оглавление)"
   ]
  },
  {
   "cell_type": "code",
   "execution_count": 175,
   "metadata": {},
   "outputs": [
    {
     "name": "stdout",
     "output_type": "stream",
     "text": [
      "<class 'pandas.core.frame.DataFrame'>\n",
      "Int64Index: 243713 entries, 0 to 244125\n",
      "Data columns (total 6 columns):\n",
      " #   Column      Non-Null Count   Dtype         \n",
      "---  ------      --------------   -----         \n",
      " 0   event       243713 non-null  object        \n",
      " 1   user_id     243713 non-null  int64         \n",
      " 2   timestamp   243713 non-null  int64         \n",
      " 3   test_group  243713 non-null  int64         \n",
      " 4   date_time   243713 non-null  datetime64[ns]\n",
      " 5   date_1      243713 non-null  datetime64[ns]\n",
      "dtypes: datetime64[ns](2), int64(3), object(1)\n",
      "memory usage: 13.0+ MB\n",
      "None\n"
     ]
    }
   ],
   "source": [
    "# Создадим поле `datetime` с датой и временем:\n",
    "d_logs['date_time'] = pd.to_datetime(d_logs['timestamp'], unit='s')\n",
    "\n",
    "# Добавим поле с датой:\n",
    "d_logs['date_1'] = pd.to_datetime(d_logs['date_time'].dt.date)\n",
    "#display(d_logs.sample(5))\n",
    "print(d_logs.info())"
   ]
  },
  {
   "cell_type": "markdown",
   "metadata": {},
   "source": [
    "<div class=\"alert alert-block alert-info\">\n",
    "\n",
    "### Комментарий студента v_1:\n",
    "Устраняем замечание ниже \"стоит проверить, не попали ли у нас одни и те же пользователи в разные группы\".\n",
    "</div>"
   ]
  },
  {
   "cell_type": "code",
   "execution_count": 176,
   "metadata": {
    "scrolled": true
   },
   "outputs": [
    {
     "data": {
      "text/plain": [
       "event              5\n",
       "user_id         7551\n",
       "timestamp     176654\n",
       "test_group         3\n",
       "date_time     176654\n",
       "date_1            14\n",
       "dtype: int64"
      ]
     },
     "execution_count": 176,
     "metadata": {},
     "output_type": "execute_result"
    }
   ],
   "source": [
    "d_logs.nunique() # уникальные значения по столбцам"
   ]
  },
  {
   "cell_type": "code",
   "execution_count": 177,
   "metadata": {},
   "outputs": [
    {
     "data": {
      "text/plain": [
       "test_group    0\n",
       "dtype: int64"
      ]
     },
     "execution_count": 177,
     "metadata": {},
     "output_type": "execute_result"
    }
   ],
   "source": [
    "#пользователи, попавшие в разные группы\n",
    "#https://ru.stackoverflow.com/questions/1298350/%D0%9A%D0%B0%D0%BA-%D0%BF%D0%BE%D1%81%D1%87%D0%B8%D1%82%D0%B0%D1%82%D1%8C-%D0%BF%D0%BE%D0%BB%D1%8C%D0%B7%D0%BE%D0%B2%D0%B0%D1%82%D0%B5%D0%BB%D0%B5%D0%B9-%D0%BF%D0%BE%D0%BF%D0%B0%D0%B2%D1%88%D0%B8%D1%85-%D0%B2-%D0%B4%D0%B2%D0%B5-%D0%B3%D1%80%D1%83%D0%BF%D0%BF%D1%8B-%D0%B8%D0%B7-%D0%B4%D0%B2%D1%83%D1%85\n",
    "dat1=d_logs.groupby('user_id').agg({'test_group' : 'nunique'}).query('test_group>1').count()\n",
    "dat1"
   ]
  },
  {
   "cell_type": "code",
   "execution_count": 178,
   "metadata": {},
   "outputs": [
    {
     "data": {
      "text/plain": [
       "array([], dtype=int64)"
      ]
     },
     "execution_count": 178,
     "metadata": {},
     "output_type": "execute_result"
    }
   ],
   "source": [
    "#Далее создаем список пользователей с уникальными visitor_id:\n",
    "double_users = d_logs.groupby('user_id').agg({'test_group' : 'nunique'}).reset_index().query('test_group>1')['user_id'].unique()\n",
    "double_users "
   ]
  },
  {
   "cell_type": "markdown",
   "metadata": {},
   "source": [
    "НЕ попали одни и те же пользователи в разные группы."
   ]
  },
  {
   "cell_type": "markdown",
   "metadata": {},
   "source": [
    "**Выводы:**\n",
    "1. Скорректировали названия полей.  \n",
    "2. Удалили дубли.  \n",
    "3. Добавили поле date_time с датой и временем.  \n",
    "4. Создали поле date_1 с датой.\n",
    "5. Проверили, что НЕ попали одни и те же пользователи в разные группы."
   ]
  },
  {
   "cell_type": "markdown",
   "metadata": {},
   "source": [
    "## Изучаем и проверяем данные\n",
    "\n",
    "<a id='3_1'></a>\n",
    "### Сколько всего событий в логе?\n",
    "[*Назад к оглавлению*](#Оглавление)"
   ]
  },
  {
   "cell_type": "code",
   "execution_count": 179,
   "metadata": {
    "scrolled": true
   },
   "outputs": [
    {
     "name": "stdout",
     "output_type": "stream",
     "text": [
      "Всего событий: 243713\n"
     ]
    }
   ],
   "source": [
    "print('Всего событий:', len(d_logs))"
   ]
  },
  {
   "cell_type": "markdown",
   "metadata": {},
   "source": [
    "<a id='3_2'></a>\n",
    "### Сколько всего пользователей?\n",
    "[*Назад к оглавлению*](#Оглавление)"
   ]
  },
  {
   "cell_type": "code",
   "execution_count": 180,
   "metadata": {
    "scrolled": true
   },
   "outputs": [
    {
     "name": "stdout",
     "output_type": "stream",
     "text": [
      "Всего пользователей: 7551\n"
     ]
    }
   ],
   "source": [
    "print('Всего пользователей:', d_logs['user_id'].nunique())"
   ]
  },
  {
   "cell_type": "markdown",
   "metadata": {},
   "source": [
    "<a id='3_3'></a>\n",
    "### Сколько в среднем событий приходится на пользователя?\n",
    "[*Назад к оглавлению*](#Оглавление)"
   ]
  },
  {
   "cell_type": "code",
   "execution_count": 181,
   "metadata": {},
   "outputs": [
    {
     "data": {
      "image/png": "[encoded data removed]",
      "text/plain": [
       "<Figure size 720x360 with 1 Axes>"
      ]
     },
     "metadata": {},
     "output_type": "display_data"
    }
   ],
   "source": [
    "# Посмотрим, сколько событий в среднем приходится на пользователя:\n",
    "events_by_user = d_logs.groupby('user_id').agg(event_count = ('event', 'count'))\n",
    "plt.figure(figsize=(10, 5))\n",
    "plt.title('Распределение количества событий на пользователя')\n",
    "sns.distplot(events_by_user['event_count'], bins=30) \n",
    "plt.xlabel('')\n",
    "plt.show()"
   ]
  },
  {
   "cell_type": "markdown",
   "metadata": {},
   "source": [
    "Распределение не нормально, поэтому для оценки среднего возьмём медиану."
   ]
  },
  {
   "cell_type": "code",
   "execution_count": 182,
   "metadata": {
    "scrolled": true
   },
   "outputs": [
    {
     "name": "stdout",
     "output_type": "stream",
     "text": [
      "Среднее количество событий на пользователя: 20\n"
     ]
    }
   ],
   "source": [
    "print('Среднее количество событий на пользователя:', \n",
    "      int(events_by_user['event_count'].median()))"
   ]
  },
  {
   "cell_type": "markdown",
   "metadata": {},
   "source": [
    "<a id='3_4'></a>\n",
    "### Период\n",
    "[*Назад к оглавлению*](#Оглавление)"
   ]
  },
  {
   "cell_type": "code",
   "execution_count": 183,
   "metadata": {},
   "outputs": [
    {
     "data": {
      "text/plain": [
       "count                  243713\n",
       "unique                 176654\n",
       "top       2019-08-01 14:40:35\n",
       "freq                        9\n",
       "first     2019-07-25 04:43:36\n",
       "last      2019-08-07 21:15:17\n",
       "Name: date_time, dtype: object"
      ]
     },
     "execution_count": 183,
     "metadata": {},
     "output_type": "execute_result"
    }
   ],
   "source": [
    "d_logs['date_time'].describe()"
   ]
  },
  {
   "cell_type": "markdown",
   "metadata": {},
   "source": [
    "Мы располагаем данными за период с 25.07.2019 по 07.08.2019."
   ]
  },
  {
   "cell_type": "markdown",
   "metadata": {},
   "source": [
    "<div class=\"alert alert-block alert-info\">\n",
    "\n",
    "### Комментарий студента v_1:\n",
    "Устраняем замечание ниже \"количество бинов стоит определять так, чтобы каждый бин точно соответствовал определенному временному промежутку\".  \n",
    "    bins было 50, сделал равным количеству дней между 07/08/19 и 25/07/19 = 14 * 24 (часов в сутках).\n",
    "</div>"
   ]
  },
  {
   "cell_type": "code",
   "execution_count": 184,
   "metadata": {},
   "outputs": [
    {
     "data": {
      "image/png": "[encoded data removed]",
      "text/plain": [
       "<Figure size 1080x360 with 1 Axes>"
      ]
     },
     "metadata": {},
     "output_type": "display_data"
    }
   ],
   "source": [
    "# Построим гистограмму по дате и времени:\n",
    "\n",
    "plt.title('Распределение логов по дате и времени')\n",
    "d_logs['date_time'].hist(bins=14*24, xrot=15,  figsize=(15, 5))\n",
    "plt.show()\n",
    "#display(logs.groupby('date')['event'].count())"
   ]
  },
  {
   "cell_type": "markdown",
   "metadata": {},
   "source": [
    "Из графика видно, что *данные за июль 2019 не полные*.  "
   ]
  },
  {
   "cell_type": "code",
   "execution_count": 185,
   "metadata": {
    "scrolled": true
   },
   "outputs": [
    {
     "data": {
      "image/png": "[encoded data removed]",
      "text/plain": [
       "<Figure size 1080x360 with 1 Axes>"
      ]
     },
     "metadata": {},
     "output_type": "display_data"
    }
   ],
   "source": [
    "plt.title('Распределение логов по времени суток')\n",
    "d_logs['date_time'].dt.hour.hist(bins=24, figsize=(15, 5))\n",
    "plt.xticks(range(0, 23))\n",
    "plt.show()"
   ]
  },
  {
   "cell_type": "markdown",
   "metadata": {},
   "source": [
    "Заметна периодичность во времени: в ночные часы событий меньше, чем днём"
   ]
  },
  {
   "cell_type": "markdown",
   "metadata": {},
   "source": [
    "Для корректности анализа будем использовать данные за период с 01.08.2019 по 07.08.2019 (только август 2019)"
   ]
  },
  {
   "cell_type": "markdown",
   "metadata": {},
   "source": [
    "<a id='3_5'></a>\n",
    "### Много ли событий и пользователей потеряли, отбросив старые данные?\n",
    "[*Назад к оглавлению*](#Оглавление)"
   ]
  },
  {
   "cell_type": "code",
   "execution_count": 186,
   "metadata": {
    "scrolled": true
   },
   "outputs": [
    {
     "name": "stdout",
     "output_type": "stream",
     "text": [
      "Всего событий: 243713\n",
      "Всего пользователей: 7551\n",
      "\n",
      "Событий после корректировки периода: 240887\n",
      "Пользователей после корректировки периода: 7534\n",
      "\n",
      "Изменение количества логов: -2826 (-1.2%)\n",
      "Изменение количества пользователей: -17 (-0.2%)\n"
     ]
    }
   ],
   "source": [
    "nlogs_before = len(d_logs)\n",
    "nusers_before = d_logs['user_id'].nunique()\n",
    "print('Всего событий:', nlogs_before)\n",
    "print('Всего пользователей:', nusers_before)\n",
    "\n",
    "logs = d_logs[d_logs['date_time'] >= '2019-08-01'].copy()\n",
    "print()\n",
    "\n",
    "# Посмотрим, сколько всего событий и пользователей осталось в логах:\n",
    "print('Событий после корректировки периода:', len(logs))\n",
    "print('Пользователей после корректировки периода:', logs['user_id'].nunique())\n",
    "print()\n",
    "\n",
    "# Изменения:\n",
    "print('Изменение количества логов:', \n",
    "      len(logs)-nlogs_before, '({:.1%})'.format((len(logs)-nlogs_before)/nlogs_before))\n",
    "print('Изменение количества пользователей:', \n",
    "      logs['user_id'].nunique()-nusers_before, '({:.1%})'.format((logs['user_id'].nunique()-nusers_before)/nusers_before))"
   ]
  },
  {
   "cell_type": "markdown",
   "metadata": {},
   "source": [
    "<a id='3_6'></a>\n",
    "### Проверим, что у нас есть пользователи из всех трёх экспериментальных групп.\n",
    "[*Назад к оглавлению*](#Оглавление)"
   ]
  },
  {
   "cell_type": "code",
   "execution_count": 187,
   "metadata": {
    "scrolled": true
   },
   "outputs": [
    {
     "data": {
      "text/html": [
       "<div>\n",
       "<style scoped>\n",
       "    .dataframe tbody tr th:only-of-type {\n",
       "        vertical-align: middle;\n",
       "    }\n",
       "\n",
       "    .dataframe tbody tr th {\n",
       "        vertical-align: top;\n",
       "    }\n",
       "\n",
       "    .dataframe thead th {\n",
       "        text-align: right;\n",
       "    }\n",
       "</style>\n",
       "<table border=\"1\" class=\"dataframe\">\n",
       "  <thead>\n",
       "    <tr style=\"text-align: right;\">\n",
       "      <th></th>\n",
       "      <th>count</th>\n",
       "    </tr>\n",
       "    <tr>\n",
       "      <th>test_group</th>\n",
       "      <th></th>\n",
       "    </tr>\n",
       "  </thead>\n",
       "  <tbody>\n",
       "    <tr>\n",
       "      <th>246</th>\n",
       "      <td>79302</td>\n",
       "    </tr>\n",
       "    <tr>\n",
       "      <th>247</th>\n",
       "      <td>77022</td>\n",
       "    </tr>\n",
       "    <tr>\n",
       "      <th>248</th>\n",
       "      <td>84563</td>\n",
       "    </tr>\n",
       "  </tbody>\n",
       "</table>\n",
       "</div>"
      ],
      "text/plain": [
       "            count\n",
       "test_group       \n",
       "246         79302\n",
       "247         77022\n",
       "248         84563"
      ]
     },
     "execution_count": 187,
     "metadata": {},
     "output_type": "execute_result"
    }
   ],
   "source": [
    "logs.groupby('test_group').agg(count=('user_id', 'count'))"
   ]
  },
  {
   "cell_type": "markdown",
   "metadata": {},
   "source": [
    "Размеры групп различаются, что говорит о неоптимальности разбиения данных по группам. "
   ]
  },
  {
   "cell_type": "markdown",
   "metadata": {},
   "source": [
    "<div class=\"alert alert-block alert-info\">\n",
    "\n",
    "### Комментарий студента v_1:\n",
    "Устраняем замечание ниже \"А зачем два раза считать\".  \n",
    "Я вычисления копировал в выводы, чтобы не копипестить в статический текст. Теперь исправил. \n",
    "</div>"
   ]
  },
  {
   "cell_type": "markdown",
   "metadata": {},
   "source": [
    "**Выводы:**"
   ]
  },
  {
   "cell_type": "markdown",
   "metadata": {
    "scrolled": true
   },
   "source": [
    "Всего событий: 243713  \n",
    "Всего пользователей: 7551  \n",
    "Среднее количество событий на пользователя: 20  \n",
    "Мы располагаем данными за период с 25.07.2019 по 07.08.2019.  \n",
    "Данные за июль 2019 не полные. Для корректности анализа будем использовать данные за период с 01.08.2019 по 07.08.2019 (только август 2019)."
   ]
  },
  {
   "cell_type": "markdown",
   "metadata": {},
   "source": [
    "Мы располагаем данными за период с 25.07.2019 по 07.08.2019.  \n",
    "Данные за июль 2019 не полные.  Для корректности анализа будем использовать данные за период с 01.08.2019 по 07.08.2019 (только август 2019)."
   ]
  },
  {
   "cell_type": "markdown",
   "metadata": {},
   "source": [
    "Событий после корректировки периода: 240887\n",
    "Пользователей после корректировки периода: 7534\n",
    "Изменение количества логов: -2826 (-1.2%)\n",
    "Изменение количества пользователей: -17 (-0.2%)"
   ]
  },
  {
   "cell_type": "markdown",
   "metadata": {},
   "source": [
    "## Изучаем воронку событий\n",
    "\n",
    "<a id='4_1'></a>\n",
    "### Посмотрим, какие события есть в логах, как часто они встречаются. Отсортируем события по частоте.\n",
    "[*Назад к оглавлению*](#Оглавление)"
   ]
  },
  {
   "cell_type": "code",
   "execution_count": 188,
   "metadata": {},
   "outputs": [
    {
     "data": {
      "text/html": [
       "<div>\n",
       "<style scoped>\n",
       "    .dataframe tbody tr th:only-of-type {\n",
       "        vertical-align: middle;\n",
       "    }\n",
       "\n",
       "    .dataframe tbody tr th {\n",
       "        vertical-align: top;\n",
       "    }\n",
       "\n",
       "    .dataframe thead th {\n",
       "        text-align: right;\n",
       "    }\n",
       "</style>\n",
       "<table border=\"1\" class=\"dataframe\">\n",
       "  <thead>\n",
       "    <tr style=\"text-align: right;\">\n",
       "      <th></th>\n",
       "      <th>event</th>\n",
       "      <th>count</th>\n",
       "    </tr>\n",
       "  </thead>\n",
       "  <tbody>\n",
       "    <tr>\n",
       "      <th>0</th>\n",
       "      <td>MainScreenAppear</td>\n",
       "      <td>117328</td>\n",
       "    </tr>\n",
       "    <tr>\n",
       "      <th>1</th>\n",
       "      <td>OffersScreenAppear</td>\n",
       "      <td>46333</td>\n",
       "    </tr>\n",
       "    <tr>\n",
       "      <th>2</th>\n",
       "      <td>CartScreenAppear</td>\n",
       "      <td>42303</td>\n",
       "    </tr>\n",
       "    <tr>\n",
       "      <th>3</th>\n",
       "      <td>PaymentScreenSuccessful</td>\n",
       "      <td>33918</td>\n",
       "    </tr>\n",
       "    <tr>\n",
       "      <th>4</th>\n",
       "      <td>Tutorial</td>\n",
       "      <td>1005</td>\n",
       "    </tr>\n",
       "  </tbody>\n",
       "</table>\n",
       "</div>"
      ],
      "text/plain": [
       "                     event   count\n",
       "0         MainScreenAppear  117328\n",
       "1       OffersScreenAppear   46333\n",
       "2         CartScreenAppear   42303\n",
       "3  PaymentScreenSuccessful   33918\n",
       "4                 Tutorial    1005"
      ]
     },
     "execution_count": 188,
     "metadata": {},
     "output_type": "execute_result"
    }
   ],
   "source": [
    "# Сгруппируем логи по событиям и посмотрим их количество:\n",
    "events = logs.groupby('event').agg(count = ('user_id', 'count')).sort_values('count', ascending=False).reset_index()\n",
    "events"
   ]
  },
  {
   "cell_type": "markdown",
   "metadata": {},
   "source": [
    "Перевод:\n",
    "MainScreenAppear - Главный экран) \n",
    "OffersScreenAppear- Продающий экран\n",
    "CartScreenAppear - Корзина продаж\n",
    "PaymentScreenSuccessful - Завершение оплаты\n",
    "Tutorial - Учебник"
   ]
  },
  {
   "cell_type": "code",
   "execution_count": 189,
   "metadata": {},
   "outputs": [
    {
     "data": {
      "image/png": "[encoded data removed]",
      "text/plain": [
       "<Figure size 864x360 with 1 Axes>"
      ]
     },
     "metadata": {},
     "output_type": "display_data"
    }
   ],
   "source": [
    "plt.figure(figsize=(12, 5))\n",
    "plt.title('Количество событий в логах')\n",
    "sns.barplot(y=events['event'], x=events['count'], palette='rocket', orient='h')\n",
    "\n",
    "for i, v in enumerate(events['count'].values):\n",
    "    plt.text(v + 800, i - 0.1, str(v), color='black', fontsize = 10)\n",
    "    plt.text(v + 800, i + 0.2, '({:.2%})'.format(v / events['count'].sum()), \n",
    "             color='black', fontsize = 10)\n",
    "\n",
    "plt.xlabel('')\n",
    "plt.ylabel('')\n",
    "sns.despine()\n",
    "plt.show()"
   ]
  },
  {
   "cell_type": "markdown",
   "metadata": {},
   "source": [
    "<a id='4_2'></a>\n",
    "### Посчитаем, сколько пользователей совершали каждое из этих событий. Отсортируем события по числу пользователей. Посчитаем долю пользователей, которые хоть раз совершали событие.\n",
    "[*Назад к оглавлению*](#Оглавление)"
   ]
  },
  {
   "cell_type": "code",
   "execution_count": 190,
   "metadata": {},
   "outputs": [
    {
     "data": {
      "text/html": [
       "<div>\n",
       "<style scoped>\n",
       "    .dataframe tbody tr th:only-of-type {\n",
       "        vertical-align: middle;\n",
       "    }\n",
       "\n",
       "    .dataframe tbody tr th {\n",
       "        vertical-align: top;\n",
       "    }\n",
       "\n",
       "    .dataframe thead th {\n",
       "        text-align: right;\n",
       "    }\n",
       "</style>\n",
       "<table border=\"1\" class=\"dataframe\">\n",
       "  <thead>\n",
       "    <tr style=\"text-align: right;\">\n",
       "      <th></th>\n",
       "      <th>event</th>\n",
       "      <th>users</th>\n",
       "    </tr>\n",
       "  </thead>\n",
       "  <tbody>\n",
       "    <tr>\n",
       "      <th>0</th>\n",
       "      <td>MainScreenAppear</td>\n",
       "      <td>7419</td>\n",
       "    </tr>\n",
       "    <tr>\n",
       "      <th>1</th>\n",
       "      <td>OffersScreenAppear</td>\n",
       "      <td>4593</td>\n",
       "    </tr>\n",
       "    <tr>\n",
       "      <th>2</th>\n",
       "      <td>CartScreenAppear</td>\n",
       "      <td>3734</td>\n",
       "    </tr>\n",
       "    <tr>\n",
       "      <th>3</th>\n",
       "      <td>PaymentScreenSuccessful</td>\n",
       "      <td>3539</td>\n",
       "    </tr>\n",
       "    <tr>\n",
       "      <th>4</th>\n",
       "      <td>Tutorial</td>\n",
       "      <td>840</td>\n",
       "    </tr>\n",
       "  </tbody>\n",
       "</table>\n",
       "</div>"
      ],
      "text/plain": [
       "                     event  users\n",
       "0         MainScreenAppear   7419\n",
       "1       OffersScreenAppear   4593\n",
       "2         CartScreenAppear   3734\n",
       "3  PaymentScreenSuccessful   3539\n",
       "4                 Tutorial    840"
      ]
     },
     "execution_count": 190,
     "metadata": {},
     "output_type": "execute_result"
    }
   ],
   "source": [
    "users_per_event = logs.groupby('event').agg(users=('user_id','nunique')).sort_values('users', ascending=False).reset_index()\n",
    "users_per_event"
   ]
  },
  {
   "cell_type": "code",
   "execution_count": 191,
   "metadata": {},
   "outputs": [
    {
     "data": {
      "image/png": "[encoded data removed]",
      "text/plain": [
       "<Figure size 864x360 with 1 Axes>"
      ]
     },
     "metadata": {},
     "output_type": "display_data"
    }
   ],
   "source": [
    "plt.figure(figsize=(12, 5))\n",
    "plt.title('Количество пользователей, совершивших событие и их доля от общего числа пользователей')\n",
    "sns.barplot(y=users_per_event['event'], x=users_per_event['users'], palette='mako', orient='h')\n",
    "\n",
    "for i, v in enumerate(users_per_event['users'].values):\n",
    "    plt.text(v + 100, i - 0.1, str(v), color='black', fontsize = 10)\n",
    "    plt.text(v + 100, i + 0.2, '({:.2%})'.format(v / logs['user_id'].nunique()),\n",
    "             color='black', fontsize = 10)\n",
    "    \n",
    "plt.xlabel('')\n",
    "plt.ylabel('')\n",
    "sns.despine()\n",
    "plt.show()"
   ]
  },
  {
   "cell_type": "markdown",
   "metadata": {},
   "source": [
    "<a id='4_3'></a>\n",
    "### Предположим, в каком порядке происходят события. Все ли они выстраиваются в последовательную цепочку? Их не нужно учитывать при расчёте воронки.\n",
    "[*Назад к оглавлению*](#Оглавление)"
   ]
  },
  {
   "cell_type": "markdown",
   "metadata": {},
   "source": [
    "Логично предположить, что просмотр урока (учебника) в цепочку событий не входит.\n",
    "Тогда:"
   ]
  },
  {
   "cell_type": "code",
   "execution_count": 192,
   "metadata": {
    "scrolled": false
   },
   "outputs": [
    {
     "data": {
      "text/html": [
       "<div>\n",
       "<style scoped>\n",
       "    .dataframe tbody tr th:only-of-type {\n",
       "        vertical-align: middle;\n",
       "    }\n",
       "\n",
       "    .dataframe tbody tr th {\n",
       "        vertical-align: top;\n",
       "    }\n",
       "\n",
       "    .dataframe thead th {\n",
       "        text-align: right;\n",
       "    }\n",
       "</style>\n",
       "<table border=\"1\" class=\"dataframe\">\n",
       "  <thead>\n",
       "    <tr style=\"text-align: right;\">\n",
       "      <th>event</th>\n",
       "      <th>CartScreenAppear</th>\n",
       "      <th>MainScreenAppear</th>\n",
       "      <th>OffersScreenAppear</th>\n",
       "      <th>PaymentScreenSuccessful</th>\n",
       "    </tr>\n",
       "    <tr>\n",
       "      <th>user_id</th>\n",
       "      <th></th>\n",
       "      <th></th>\n",
       "      <th></th>\n",
       "      <th></th>\n",
       "    </tr>\n",
       "  </thead>\n",
       "  <tbody>\n",
       "    <tr>\n",
       "      <th>6888746892508752</th>\n",
       "      <td>NaT</td>\n",
       "      <td>2019-08-06 14:06:34</td>\n",
       "      <td>NaT</td>\n",
       "      <td>NaT</td>\n",
       "    </tr>\n",
       "    <tr>\n",
       "      <th>6909561520679493</th>\n",
       "      <td>2019-08-06 18:52:58</td>\n",
       "      <td>2019-08-06 18:52:54</td>\n",
       "      <td>2019-08-06 18:53:04</td>\n",
       "      <td>2019-08-06 18:52:58</td>\n",
       "    </tr>\n",
       "    <tr>\n",
       "      <th>6922444491712477</th>\n",
       "      <td>2019-08-04 14:19:40</td>\n",
       "      <td>2019-08-04 14:19:33</td>\n",
       "      <td>2019-08-04 14:19:46</td>\n",
       "      <td>2019-08-04 14:19:40</td>\n",
       "    </tr>\n",
       "    <tr>\n",
       "      <th>7435777799948366</th>\n",
       "      <td>NaT</td>\n",
       "      <td>2019-08-05 08:06:34</td>\n",
       "      <td>NaT</td>\n",
       "      <td>NaT</td>\n",
       "    </tr>\n",
       "    <tr>\n",
       "      <th>7702139951469979</th>\n",
       "      <td>2019-08-02 14:28:45</td>\n",
       "      <td>2019-08-01 04:29:54</td>\n",
       "      <td>2019-08-01 04:29:56</td>\n",
       "      <td>2019-08-02 14:28:45</td>\n",
       "    </tr>\n",
       "    <tr>\n",
       "      <th>...</th>\n",
       "      <td>...</td>\n",
       "      <td>...</td>\n",
       "      <td>...</td>\n",
       "      <td>...</td>\n",
       "    </tr>\n",
       "    <tr>\n",
       "      <th>9217594193087726423</th>\n",
       "      <td>2019-08-02 09:00:58</td>\n",
       "      <td>NaT</td>\n",
       "      <td>2019-08-02 09:01:08</td>\n",
       "      <td>2019-08-02 09:00:57</td>\n",
       "    </tr>\n",
       "    <tr>\n",
       "      <th>9219463515465815368</th>\n",
       "      <td>2019-08-06 16:49:40</td>\n",
       "      <td>2019-08-05 05:26:26</td>\n",
       "      <td>2019-08-06 16:48:57</td>\n",
       "      <td>2019-08-06 16:52:16</td>\n",
       "    </tr>\n",
       "    <tr>\n",
       "      <th>9220879493065341500</th>\n",
       "      <td>2019-08-02 17:59:16</td>\n",
       "      <td>2019-08-02 17:58:48</td>\n",
       "      <td>2019-08-02 17:59:00</td>\n",
       "      <td>NaT</td>\n",
       "    </tr>\n",
       "    <tr>\n",
       "      <th>9221926045299980007</th>\n",
       "      <td>NaT</td>\n",
       "      <td>2019-08-01 17:30:27</td>\n",
       "      <td>NaT</td>\n",
       "      <td>NaT</td>\n",
       "    </tr>\n",
       "    <tr>\n",
       "      <th>9222603179720523844</th>\n",
       "      <td>NaT</td>\n",
       "      <td>2019-08-01 06:52:13</td>\n",
       "      <td>NaT</td>\n",
       "      <td>NaT</td>\n",
       "    </tr>\n",
       "  </tbody>\n",
       "</table>\n",
       "<p>7530 rows × 4 columns</p>\n",
       "</div>"
      ],
      "text/plain": [
       "event                  CartScreenAppear    MainScreenAppear  \\\n",
       "user_id                                                       \n",
       "6888746892508752                    NaT 2019-08-06 14:06:34   \n",
       "6909561520679493    2019-08-06 18:52:58 2019-08-06 18:52:54   \n",
       "6922444491712477    2019-08-04 14:19:40 2019-08-04 14:19:33   \n",
       "7435777799948366                    NaT 2019-08-05 08:06:34   \n",
       "7702139951469979    2019-08-02 14:28:45 2019-08-01 04:29:54   \n",
       "...                                 ...                 ...   \n",
       "9217594193087726423 2019-08-02 09:00:58                 NaT   \n",
       "9219463515465815368 2019-08-06 16:49:40 2019-08-05 05:26:26   \n",
       "9220879493065341500 2019-08-02 17:59:16 2019-08-02 17:58:48   \n",
       "9221926045299980007                 NaT 2019-08-01 17:30:27   \n",
       "9222603179720523844                 NaT 2019-08-01 06:52:13   \n",
       "\n",
       "event                OffersScreenAppear PaymentScreenSuccessful  \n",
       "user_id                                                          \n",
       "6888746892508752                    NaT                     NaT  \n",
       "6909561520679493    2019-08-06 18:53:04     2019-08-06 18:52:58  \n",
       "6922444491712477    2019-08-04 14:19:46     2019-08-04 14:19:40  \n",
       "7435777799948366                    NaT                     NaT  \n",
       "7702139951469979    2019-08-01 04:29:56     2019-08-02 14:28:45  \n",
       "...                                 ...                     ...  \n",
       "9217594193087726423 2019-08-02 09:01:08     2019-08-02 09:00:57  \n",
       "9219463515465815368 2019-08-06 16:48:57     2019-08-06 16:52:16  \n",
       "9220879493065341500 2019-08-02 17:59:00                     NaT  \n",
       "9221926045299980007                 NaT                     NaT  \n",
       "9222603179720523844                 NaT                     NaT  \n",
       "\n",
       "[7530 rows x 4 columns]"
      ]
     },
     "execution_count": 192,
     "metadata": {},
     "output_type": "execute_result"
    }
   ],
   "source": [
    "users = logs[logs['event'] != 'Tutorial'].pivot_table(\n",
    "    index='user_id', \n",
    "    columns='event', \n",
    "    values='date_time',\n",
    "    aggfunc='min')\n",
    "\n",
    "step_1 = ~users['MainScreenAppear'].isna()\n",
    "step_2 = step_1 & (users['OffersScreenAppear'] > users['MainScreenAppear'])\n",
    "step_3 = step_2 & (users['CartScreenAppear'] > users['OffersScreenAppear'])\n",
    "step_4 = step_3 & (users['PaymentScreenSuccessful'] > users['CartScreenAppear'])\n",
    "\n",
    "users"
   ]
  },
  {
   "cell_type": "markdown",
   "metadata": {},
   "source": [
    "<a id='4_4'></a>\n",
    "### По воронке событий посчитаем, какая доля пользователей проходит на следующий шаг воронки (от числа пользователей на предыдущем). То есть для последовательности событий A → B → C посчитаем отношение числа пользователей с событием B к количеству пользователей с событием A, а также отношение числа пользователей с событием C к количеству пользователей с событием B. На каком шаге теряем больше всего пользователей? Какая доля пользователей доходит от первого события до оплаты?\n",
    "[*Назад к оглавлению*](#Оглавление)"
   ]
  },
  {
   "cell_type": "markdown",
   "metadata": {},
   "source": [
    "<div class=\"alert alert-block alert-info\">\n",
    "\n",
    "### Комментарий студента v_1:\n",
    "Устраняем замечания ниже v_1.  \n",
    "</div>"
   ]
  },
  {
   "cell_type": "code",
   "execution_count": 193,
   "metadata": {},
   "outputs": [
    {
     "data": {
      "text/plain": [
       "MainScreenAppear           117328\n",
       "OffersScreenAppear          46333\n",
       "CartScreenAppear            42303\n",
       "PaymentScreenSuccessful     33918\n",
       "Tutorial                     1005\n",
       "Name: event, dtype: int64"
      ]
     },
     "execution_count": 193,
     "metadata": {},
     "output_type": "execute_result"
    }
   ],
   "source": [
    "logs['event'].value_counts() # посмотрим на распределение логов между событиями"
   ]
  },
  {
   "cell_type": "code",
   "execution_count": 217,
   "metadata": {},
   "outputs": [
    {
     "data": {
      "text/html": [
       "<div>\n",
       "<style scoped>\n",
       "    .dataframe tbody tr th:only-of-type {\n",
       "        vertical-align: middle;\n",
       "    }\n",
       "\n",
       "    .dataframe tbody tr th {\n",
       "        vertical-align: top;\n",
       "    }\n",
       "\n",
       "    .dataframe thead th {\n",
       "        text-align: right;\n",
       "    }\n",
       "</style>\n",
       "<table border=\"1\" class=\"dataframe\">\n",
       "  <thead>\n",
       "    <tr style=\"text-align: right;\">\n",
       "      <th></th>\n",
       "      <th>event</th>\n",
       "      <th>event_cnt</th>\n",
       "      <th>user_cnt</th>\n",
       "      <th>convers_step</th>\n",
       "    </tr>\n",
       "  </thead>\n",
       "  <tbody>\n",
       "    <tr>\n",
       "      <th>0</th>\n",
       "      <td>MainScreenAppear</td>\n",
       "      <td>117328</td>\n",
       "      <td>7419</td>\n",
       "      <td>100.0</td>\n",
       "    </tr>\n",
       "    <tr>\n",
       "      <th>1</th>\n",
       "      <td>OffersScreenAppear</td>\n",
       "      <td>46333</td>\n",
       "      <td>4593</td>\n",
       "      <td>61.9</td>\n",
       "    </tr>\n",
       "    <tr>\n",
       "      <th>2</th>\n",
       "      <td>CartScreenAppear</td>\n",
       "      <td>42303</td>\n",
       "      <td>3734</td>\n",
       "      <td>81.3</td>\n",
       "    </tr>\n",
       "    <tr>\n",
       "      <th>3</th>\n",
       "      <td>PaymentScreenSuccessful</td>\n",
       "      <td>33918</td>\n",
       "      <td>3539</td>\n",
       "      <td>94.8</td>\n",
       "    </tr>\n",
       "    <tr>\n",
       "      <th>4</th>\n",
       "      <td>Tutorial</td>\n",
       "      <td>1005</td>\n",
       "      <td>840</td>\n",
       "      <td>23.7</td>\n",
       "    </tr>\n",
       "  </tbody>\n",
       "</table>\n",
       "</div>"
      ],
      "text/plain": [
       "                     event  event_cnt  user_cnt  convers_step\n",
       "0         MainScreenAppear     117328      7419         100.0\n",
       "1       OffersScreenAppear      46333      4593          61.9\n",
       "2         CartScreenAppear      42303      3734          81.3\n",
       "3  PaymentScreenSuccessful      33918      3539          94.8\n",
       "4                 Tutorial       1005       840          23.7"
      ]
     },
     "execution_count": 217,
     "metadata": {},
     "output_type": "execute_result"
    }
   ],
   "source": [
    "# Группируем данные по событию, его частоте и количеству уникальных пользователей\n",
    "event_user = (\n",
    "        logs.groupby('event').agg({'event':'count', 'user_id': 'nunique'})\n",
    "        .rename(columns={'event':'event_cnt', 'user_id':'user_cnt'})\n",
    "        .sort_values(by ='event_cnt', ascending=False).reset_index()\n",
    "    )\n",
    "#Создаем таблицу для анализа.\n",
    "\n",
    "# Доля уникальных пользователей относительно общего количества пользователей\n",
    "#event_user['rate %'] = round((event_user['user_cnt'] / len(logs['user_id'].unique())) * 100, 1)\n",
    "#  Cдвиг столбца user_cnt на одну строку вниз\n",
    "event_user['step'] = event_user['user_cnt'].shift()\n",
    "# Конверсия в следущий шаг\n",
    "event_user['convers_step'] = round(event_user['user_cnt'] / event_user['step'] * 100, 1) \n",
    "# Удаляем столбец step\n",
    "event_user.drop(columns= ['step'], axis = 1, inplace = True)\n",
    "# Заменю NaN в первой строке на 100% к ним будем считать следующий шаг\n",
    "event_user = event_user.fillna(100)\n",
    "event_user"
   ]
  },
  {
   "cell_type": "code",
   "execution_count": 216,
   "metadata": {},
   "outputs": [
    {
     "data": {
      "application/vnd.plotly.v1+json": {
       "config": {
        "plotlyServerURL": "https://plot.ly"
       },
       "data": [
        {
         "textposition": "inside",
         "type": "funnel",
         "x": [
          7419,
          4593,
          3734,
          3539,
          840
         ],
         "xaxis": "x",
         "y": [
          "MainScreenAppear",
          "OffersScreenAppear",
          "CartScreenAppear",
          "PaymentScreenSuccessful",
          "Tutorial"
         ],
         "yaxis": "y"
        }
       ],
       "layout": {
        "annotations": [
         {
          "font": {
           "size": 16
          },
          "showarrow": false,
          "text": "Воронка событий",
          "x": 0.5,
          "xanchor": "center",
          "xref": "paper",
          "y": 1,
          "yanchor": "bottom",
          "yref": "paper"
         }
        ],
        "font": {
         "size": 12
        },
        "height": 500,
        "template": {
         "data": {
          "bar": [
           {
            "error_x": {
             "color": "#2a3f5f"
            },
            "error_y": {
             "color": "#2a3f5f"
            },
            "marker": {
             "line": {
              "color": "#E5ECF6",
              "width": 0.5
             },
             "pattern": {
              "fillmode": "overlay",
              "size": 10,
              "solidity": 0.2
             }
            },
            "type": "bar"
           }
          ],
          "barpolar": [
           {
            "marker": {
             "line": {
              "color": "#E5ECF6",
              "width": 0.5
             },
             "pattern": {
              "fillmode": "overlay",
              "size": 10,
              "solidity": 0.2
             }
            },
            "type": "barpolar"
           }
          ],
          "carpet": [
           {
            "aaxis": {
             "endlinecolor": "#2a3f5f",
             "gridcolor": "white",
             "linecolor": "white",
             "minorgridcolor": "white",
             "startlinecolor": "#2a3f5f"
            },
            "baxis": {
             "endlinecolor": "#2a3f5f",
             "gridcolor": "white",
             "linecolor": "white",
             "minorgridcolor": "white",
             "startlinecolor": "#2a3f5f"
            },
            "type": "carpet"
           }
          ],
          "choropleth": [
           {
            "colorbar": {
             "outlinewidth": 0,
             "ticks": ""
            },
            "type": "choropleth"
           }
          ],
          "contour": [
           {
            "colorbar": {
             "outlinewidth": 0,
             "ticks": ""
            },
            "colorscale": [
             [
              0,
              "#0d0887"
             ],
             [
              0.1111111111111111,
              "#46039f"
             ],
             [
              0.2222222222222222,
              "#7201a8"
             ],
             [
              0.3333333333333333,
              "#9c179e"
             ],
             [
              0.4444444444444444,
              "#bd3786"
             ],
             [
              0.5555555555555556,
              "#d8576b"
             ],
             [
              0.6666666666666666,
              "#ed7953"
             ],
             [
              0.7777777777777778,
              "#fb9f3a"
             ],
             [
              0.8888888888888888,
              "#fdca26"
             ],
             [
              1,
              "#f0f921"
             ]
            ],
            "type": "contour"
           }
          ],
          "contourcarpet": [
           {
            "colorbar": {
             "outlinewidth": 0,
             "ticks": ""
            },
            "type": "contourcarpet"
           }
          ],
          "heatmap": [
           {
            "colorbar": {
             "outlinewidth": 0,
             "ticks": ""
            },
            "colorscale": [
             [
              0,
              "#0d0887"
             ],
             [
              0.1111111111111111,
              "#46039f"
             ],
             [
              0.2222222222222222,
              "#7201a8"
             ],
             [
              0.3333333333333333,
              "#9c179e"
             ],
             [
              0.4444444444444444,
              "#bd3786"
             ],
             [
              0.5555555555555556,
              "#d8576b"
             ],
             [
              0.6666666666666666,
              "#ed7953"
             ],
             [
              0.7777777777777778,
              "#fb9f3a"
             ],
             [
              0.8888888888888888,
              "#fdca26"
             ],
             [
              1,
              "#f0f921"
             ]
            ],
            "type": "heatmap"
           }
          ],
          "heatmapgl": [
           {
            "colorbar": {
             "outlinewidth": 0,
             "ticks": ""
            },
            "colorscale": [
             [
              0,
              "#0d0887"
             ],
             [
              0.1111111111111111,
              "#46039f"
             ],
             [
              0.2222222222222222,
              "#7201a8"
             ],
             [
              0.3333333333333333,
              "#9c179e"
             ],
             [
              0.4444444444444444,
              "#bd3786"
             ],
             [
              0.5555555555555556,
              "#d8576b"
             ],
             [
              0.6666666666666666,
              "#ed7953"
             ],
             [
              0.7777777777777778,
              "#fb9f3a"
             ],
             [
              0.8888888888888888,
              "#fdca26"
             ],
             [
              1,
              "#f0f921"
             ]
            ],
            "type": "heatmapgl"
           }
          ],
          "histogram": [
           {
            "marker": {
             "pattern": {
              "fillmode": "overlay",
              "size": 10,
              "solidity": 0.2
             }
            },
            "type": "histogram"
           }
          ],
          "histogram2d": [
           {
            "colorbar": {
             "outlinewidth": 0,
             "ticks": ""
            },
            "colorscale": [
             [
              0,
              "#0d0887"
             ],
             [
              0.1111111111111111,
              "#46039f"
             ],
             [
              0.2222222222222222,
              "#7201a8"
             ],
             [
              0.3333333333333333,
              "#9c179e"
             ],
             [
              0.4444444444444444,
              "#bd3786"
             ],
             [
              0.5555555555555556,
              "#d8576b"
             ],
             [
              0.6666666666666666,
              "#ed7953"
             ],
             [
              0.7777777777777778,
              "#fb9f3a"
             ],
             [
              0.8888888888888888,
              "#fdca26"
             ],
             [
              1,
              "#f0f921"
             ]
            ],
            "type": "histogram2d"
           }
          ],
          "histogram2dcontour": [
           {
            "colorbar": {
             "outlinewidth": 0,
             "ticks": ""
            },
            "colorscale": [
             [
              0,
              "#0d0887"
             ],
             [
              0.1111111111111111,
              "#46039f"
             ],
             [
              0.2222222222222222,
              "#7201a8"
             ],
             [
              0.3333333333333333,
              "#9c179e"
             ],
             [
              0.4444444444444444,
              "#bd3786"
             ],
             [
              0.5555555555555556,
              "#d8576b"
             ],
             [
              0.6666666666666666,
              "#ed7953"
             ],
             [
              0.7777777777777778,
              "#fb9f3a"
             ],
             [
              0.8888888888888888,
              "#fdca26"
             ],
             [
              1,
              "#f0f921"
             ]
            ],
            "type": "histogram2dcontour"
           }
          ],
          "mesh3d": [
           {
            "colorbar": {
             "outlinewidth": 0,
             "ticks": ""
            },
            "type": "mesh3d"
           }
          ],
          "parcoords": [
           {
            "line": {
             "colorbar": {
              "outlinewidth": 0,
              "ticks": ""
             }
            },
            "type": "parcoords"
           }
          ],
          "pie": [
           {
            "automargin": true,
            "type": "pie"
           }
          ],
          "scatter": [
           {
            "marker": {
             "colorbar": {
              "outlinewidth": 0,
              "ticks": ""
             }
            },
            "type": "scatter"
           }
          ],
          "scatter3d": [
           {
            "line": {
             "colorbar": {
              "outlinewidth": 0,
              "ticks": ""
             }
            },
            "marker": {
             "colorbar": {
              "outlinewidth": 0,
              "ticks": ""
             }
            },
            "type": "scatter3d"
           }
          ],
          "scattercarpet": [
           {
            "marker": {
             "colorbar": {
              "outlinewidth": 0,
              "ticks": ""
             }
            },
            "type": "scattercarpet"
           }
          ],
          "scattergeo": [
           {
            "marker": {
             "colorbar": {
              "outlinewidth": 0,
              "ticks": ""
             }
            },
            "type": "scattergeo"
           }
          ],
          "scattergl": [
           {
            "marker": {
             "colorbar": {
              "outlinewidth": 0,
              "ticks": ""
             }
            },
            "type": "scattergl"
           }
          ],
          "scattermapbox": [
           {
            "marker": {
             "colorbar": {
              "outlinewidth": 0,
              "ticks": ""
             }
            },
            "type": "scattermapbox"
           }
          ],
          "scatterpolar": [
           {
            "marker": {
             "colorbar": {
              "outlinewidth": 0,
              "ticks": ""
             }
            },
            "type": "scatterpolar"
           }
          ],
          "scatterpolargl": [
           {
            "marker": {
             "colorbar": {
              "outlinewidth": 0,
              "ticks": ""
             }
            },
            "type": "scatterpolargl"
           }
          ],
          "scatterternary": [
           {
            "marker": {
             "colorbar": {
              "outlinewidth": 0,
              "ticks": ""
             }
            },
            "type": "scatterternary"
           }
          ],
          "surface": [
           {
            "colorbar": {
             "outlinewidth": 0,
             "ticks": ""
            },
            "colorscale": [
             [
              0,
              "#0d0887"
             ],
             [
              0.1111111111111111,
              "#46039f"
             ],
             [
              0.2222222222222222,
              "#7201a8"
             ],
             [
              0.3333333333333333,
              "#9c179e"
             ],
             [
              0.4444444444444444,
              "#bd3786"
             ],
             [
              0.5555555555555556,
              "#d8576b"
             ],
             [
              0.6666666666666666,
              "#ed7953"
             ],
             [
              0.7777777777777778,
              "#fb9f3a"
             ],
             [
              0.8888888888888888,
              "#fdca26"
             ],
             [
              1,
              "#f0f921"
             ]
            ],
            "type": "surface"
           }
          ],
          "table": [
           {
            "cells": {
             "fill": {
              "color": "#EBF0F8"
             },
             "line": {
              "color": "white"
             }
            },
            "header": {
             "fill": {
              "color": "#C8D4E3"
             },
             "line": {
              "color": "white"
             }
            },
            "type": "table"
           }
          ]
         },
         "layout": {
          "annotationdefaults": {
           "arrowcolor": "#2a3f5f",
           "arrowhead": 0,
           "arrowwidth": 1
          },
          "autotypenumbers": "strict",
          "coloraxis": {
           "colorbar": {
            "outlinewidth": 0,
            "ticks": ""
           }
          },
          "colorscale": {
           "diverging": [
            [
             0,
             "#8e0152"
            ],
            [
             0.1,
             "#c51b7d"
            ],
            [
             0.2,
             "#de77ae"
            ],
            [
             0.3,
             "#f1b6da"
            ],
            [
             0.4,
             "#fde0ef"
            ],
            [
             0.5,
             "#f7f7f7"
            ],
            [
             0.6,
             "#e6f5d0"
            ],
            [
             0.7,
             "#b8e186"
            ],
            [
             0.8,
             "#7fbc41"
            ],
            [
             0.9,
             "#4d9221"
            ],
            [
             1,
             "#276419"
            ]
           ],
           "sequential": [
            [
             0,
             "#0d0887"
            ],
            [
             0.1111111111111111,
             "#46039f"
            ],
            [
             0.2222222222222222,
             "#7201a8"
            ],
            [
             0.3333333333333333,
             "#9c179e"
            ],
            [
             0.4444444444444444,
             "#bd3786"
            ],
            [
             0.5555555555555556,
             "#d8576b"
            ],
            [
             0.6666666666666666,
             "#ed7953"
            ],
            [
             0.7777777777777778,
             "#fb9f3a"
            ],
            [
             0.8888888888888888,
             "#fdca26"
            ],
            [
             1,
             "#f0f921"
            ]
           ],
           "sequentialminus": [
            [
             0,
             "#0d0887"
            ],
            [
             0.1111111111111111,
             "#46039f"
            ],
            [
             0.2222222222222222,
             "#7201a8"
            ],
            [
             0.3333333333333333,
             "#9c179e"
            ],
            [
             0.4444444444444444,
             "#bd3786"
            ],
            [
             0.5555555555555556,
             "#d8576b"
            ],
            [
             0.6666666666666666,
             "#ed7953"
            ],
            [
             0.7777777777777778,
             "#fb9f3a"
            ],
            [
             0.8888888888888888,
             "#fdca26"
            ],
            [
             1,
             "#f0f921"
            ]
           ]
          },
          "colorway": [
           "#636efa",
           "#EF553B",
           "#00cc96",
           "#ab63fa",
           "#FFA15A",
           "#19d3f3",
           "#FF6692",
           "#B6E880",
           "#FF97FF",
           "#FECB52"
          ],
          "font": {
           "color": "#2a3f5f"
          },
          "geo": {
           "bgcolor": "white",
           "lakecolor": "white",
           "landcolor": "#E5ECF6",
           "showlakes": true,
           "showland": true,
           "subunitcolor": "white"
          },
          "hoverlabel": {
           "align": "left"
          },
          "hovermode": "closest",
          "mapbox": {
           "style": "light"
          },
          "paper_bgcolor": "white",
          "plot_bgcolor": "#E5ECF6",
          "polar": {
           "angularaxis": {
            "gridcolor": "white",
            "linecolor": "white",
            "ticks": ""
           },
           "bgcolor": "#E5ECF6",
           "radialaxis": {
            "gridcolor": "white",
            "linecolor": "white",
            "ticks": ""
           }
          },
          "scene": {
           "xaxis": {
            "backgroundcolor": "#E5ECF6",
            "gridcolor": "white",
            "gridwidth": 2,
            "linecolor": "white",
            "showbackground": true,
            "ticks": "",
            "zerolinecolor": "white"
           },
           "yaxis": {
            "backgroundcolor": "#E5ECF6",
            "gridcolor": "white",
            "gridwidth": 2,
            "linecolor": "white",
            "showbackground": true,
            "ticks": "",
            "zerolinecolor": "white"
           },
           "zaxis": {
            "backgroundcolor": "#E5ECF6",
            "gridcolor": "white",
            "gridwidth": 2,
            "linecolor": "white",
            "showbackground": true,
            "ticks": "",
            "zerolinecolor": "white"
           }
          },
          "shapedefaults": {
           "line": {
            "color": "#2a3f5f"
           }
          },
          "ternary": {
           "aaxis": {
            "gridcolor": "white",
            "linecolor": "white",
            "ticks": ""
           },
           "baxis": {
            "gridcolor": "white",
            "linecolor": "white",
            "ticks": ""
           },
           "bgcolor": "#E5ECF6",
           "caxis": {
            "gridcolor": "white",
            "linecolor": "white",
            "ticks": ""
           }
          },
          "title": {
           "x": 0.05
          },
          "xaxis": {
           "automargin": true,
           "gridcolor": "white",
           "linecolor": "white",
           "ticks": "",
           "title": {
            "standoff": 15
           },
           "zerolinecolor": "white",
           "zerolinewidth": 2
          },
          "yaxis": {
           "automargin": true,
           "gridcolor": "white",
           "linecolor": "white",
           "ticks": "",
           "title": {
            "standoff": 15
           },
           "zerolinecolor": "white",
           "zerolinewidth": 2
          }
         }
        },
        "title": {
         "text": "События в приложении",
         "x": 0.5
        },
        "width": 1000,
        "xaxis": {
         "anchor": "y",
         "domain": [
          0,
          1
         ]
        },
        "yaxis": {
         "anchor": "x",
         "domain": [
          0,
          1
         ]
        }
       }
      },
      "text/html": [
       "<div>                            <div id=\"92133f9e-25f7-4851-b3f8-50ea9546a8c6\" class=\"plotly-graph-div\" style=\"height:500px; width:1000px;\"></div>            <script type=\"text/javascript\">                require([\"plotly\"], function(Plotly) {                    window.PLOTLYENV=window.PLOTLYENV || {};                                    if (document.getElementById(\"92133f9e-25f7-4851-b3f8-50ea9546a8c6\")) {                    Plotly.newPlot(                        \"92133f9e-25f7-4851-b3f8-50ea9546a8c6\",                        [{\"textposition\":\"inside\",\"x\":[7419,4593,3734,3539,840],\"y\":[\"MainScreenAppear\",\"OffersScreenAppear\",\"CartScreenAppear\",\"PaymentScreenSuccessful\",\"Tutorial\"],\"type\":\"funnel\",\"xaxis\":\"x\",\"yaxis\":\"y\"}],                        {\"template\":{\"data\":{\"bar\":[{\"error_x\":{\"color\":\"#2a3f5f\"},\"error_y\":{\"color\":\"#2a3f5f\"},\"marker\":{\"line\":{\"color\":\"#E5ECF6\",\"width\":0.5},\"pattern\":{\"fillmode\":\"overlay\",\"size\":10,\"solidity\":0.2}},\"type\":\"bar\"}],\"barpolar\":[{\"marker\":{\"line\":{\"color\":\"#E5ECF6\",\"width\":0.5},\"pattern\":{\"fillmode\":\"overlay\",\"size\":10,\"solidity\":0.2}},\"type\":\"barpolar\"}],\"carpet\":[{\"aaxis\":{\"endlinecolor\":\"#2a3f5f\",\"gridcolor\":\"white\",\"linecolor\":\"white\",\"minorgridcolor\":\"white\",\"startlinecolor\":\"#2a3f5f\"},\"baxis\":{\"endlinecolor\":\"#2a3f5f\",\"gridcolor\":\"white\",\"linecolor\":\"white\",\"minorgridcolor\":\"white\",\"startlinecolor\":\"#2a3f5f\"},\"type\":\"carpet\"}],\"choropleth\":[{\"colorbar\":{\"outlinewidth\":0,\"ticks\":\"\"},\"type\":\"choropleth\"}],\"contour\":[{\"colorbar\":{\"outlinewidth\":0,\"ticks\":\"\"},\"colorscale\":[[0.0,\"#0d0887\"],[0.1111111111111111,\"#46039f\"],[0.2222222222222222,\"#7201a8\"],[0.3333333333333333,\"#9c179e\"],[0.4444444444444444,\"#bd3786\"],[0.5555555555555556,\"#d8576b\"],[0.6666666666666666,\"#ed7953\"],[0.7777777777777778,\"#fb9f3a\"],[0.8888888888888888,\"#fdca26\"],[1.0,\"#f0f921\"]],\"type\":\"contour\"}],\"contourcarpet\":[{\"colorbar\":{\"outlinewidth\":0,\"ticks\":\"\"},\"type\":\"contourcarpet\"}],\"heatmap\":[{\"colorbar\":{\"outlinewidth\":0,\"ticks\":\"\"},\"colorscale\":[[0.0,\"#0d0887\"],[0.1111111111111111,\"#46039f\"],[0.2222222222222222,\"#7201a8\"],[0.3333333333333333,\"#9c179e\"],[0.4444444444444444,\"#bd3786\"],[0.5555555555555556,\"#d8576b\"],[0.6666666666666666,\"#ed7953\"],[0.7777777777777778,\"#fb9f3a\"],[0.8888888888888888,\"#fdca26\"],[1.0,\"#f0f921\"]],\"type\":\"heatmap\"}],\"heatmapgl\":[{\"colorbar\":{\"outlinewidth\":0,\"ticks\":\"\"},\"colorscale\":[[0.0,\"#0d0887\"],[0.1111111111111111,\"#46039f\"],[0.2222222222222222,\"#7201a8\"],[0.3333333333333333,\"#9c179e\"],[0.4444444444444444,\"#bd3786\"],[0.5555555555555556,\"#d8576b\"],[0.6666666666666666,\"#ed7953\"],[0.7777777777777778,\"#fb9f3a\"],[0.8888888888888888,\"#fdca26\"],[1.0,\"#f0f921\"]],\"type\":\"heatmapgl\"}],\"histogram\":[{\"marker\":{\"pattern\":{\"fillmode\":\"overlay\",\"size\":10,\"solidity\":0.2}},\"type\":\"histogram\"}],\"histogram2d\":[{\"colorbar\":{\"outlinewidth\":0,\"ticks\":\"\"},\"colorscale\":[[0.0,\"#0d0887\"],[0.1111111111111111,\"#46039f\"],[0.2222222222222222,\"#7201a8\"],[0.3333333333333333,\"#9c179e\"],[0.4444444444444444,\"#bd3786\"],[0.5555555555555556,\"#d8576b\"],[0.6666666666666666,\"#ed7953\"],[0.7777777777777778,\"#fb9f3a\"],[0.8888888888888888,\"#fdca26\"],[1.0,\"#f0f921\"]],\"type\":\"histogram2d\"}],\"histogram2dcontour\":[{\"colorbar\":{\"outlinewidth\":0,\"ticks\":\"\"},\"colorscale\":[[0.0,\"#0d0887\"],[0.1111111111111111,\"#46039f\"],[0.2222222222222222,\"#7201a8\"],[0.3333333333333333,\"#9c179e\"],[0.4444444444444444,\"#bd3786\"],[0.5555555555555556,\"#d8576b\"],[0.6666666666666666,\"#ed7953\"],[0.7777777777777778,\"#fb9f3a\"],[0.8888888888888888,\"#fdca26\"],[1.0,\"#f0f921\"]],\"type\":\"histogram2dcontour\"}],\"mesh3d\":[{\"colorbar\":{\"outlinewidth\":0,\"ticks\":\"\"},\"type\":\"mesh3d\"}],\"parcoords\":[{\"line\":{\"colorbar\":{\"outlinewidth\":0,\"ticks\":\"\"}},\"type\":\"parcoords\"}],\"pie\":[{\"automargin\":true,\"type\":\"pie\"}],\"scatter\":[{\"marker\":{\"colorbar\":{\"outlinewidth\":0,\"ticks\":\"\"}},\"type\":\"scatter\"}],\"scatter3d\":[{\"line\":{\"colorbar\":{\"outlinewidth\":0,\"ticks\":\"\"}},\"marker\":{\"colorbar\":{\"outlinewidth\":0,\"ticks\":\"\"}},\"type\":\"scatter3d\"}],\"scattercarpet\":[{\"marker\":{\"colorbar\":{\"outlinewidth\":0,\"ticks\":\"\"}},\"type\":\"scattercarpet\"}],\"scattergeo\":[{\"marker\":{\"colorbar\":{\"outlinewidth\":0,\"ticks\":\"\"}},\"type\":\"scattergeo\"}],\"scattergl\":[{\"marker\":{\"colorbar\":{\"outlinewidth\":0,\"ticks\":\"\"}},\"type\":\"scattergl\"}],\"scattermapbox\":[{\"marker\":{\"colorbar\":{\"outlinewidth\":0,\"ticks\":\"\"}},\"type\":\"scattermapbox\"}],\"scatterpolar\":[{\"marker\":{\"colorbar\":{\"outlinewidth\":0,\"ticks\":\"\"}},\"type\":\"scatterpolar\"}],\"scatterpolargl\":[{\"marker\":{\"colorbar\":{\"outlinewidth\":0,\"ticks\":\"\"}},\"type\":\"scatterpolargl\"}],\"scatterternary\":[{\"marker\":{\"colorbar\":{\"outlinewidth\":0,\"ticks\":\"\"}},\"type\":\"scatterternary\"}],\"surface\":[{\"colorbar\":{\"outlinewidth\":0,\"ticks\":\"\"},\"colorscale\":[[0.0,\"#0d0887\"],[0.1111111111111111,\"#46039f\"],[0.2222222222222222,\"#7201a8\"],[0.3333333333333333,\"#9c179e\"],[0.4444444444444444,\"#bd3786\"],[0.5555555555555556,\"#d8576b\"],[0.6666666666666666,\"#ed7953\"],[0.7777777777777778,\"#fb9f3a\"],[0.8888888888888888,\"#fdca26\"],[1.0,\"#f0f921\"]],\"type\":\"surface\"}],\"table\":[{\"cells\":{\"fill\":{\"color\":\"#EBF0F8\"},\"line\":{\"color\":\"white\"}},\"header\":{\"fill\":{\"color\":\"#C8D4E3\"},\"line\":{\"color\":\"white\"}},\"type\":\"table\"}]},\"layout\":{\"annotationdefaults\":{\"arrowcolor\":\"#2a3f5f\",\"arrowhead\":0,\"arrowwidth\":1},\"autotypenumbers\":\"strict\",\"coloraxis\":{\"colorbar\":{\"outlinewidth\":0,\"ticks\":\"\"}},\"colorscale\":{\"diverging\":[[0,\"#8e0152\"],[0.1,\"#c51b7d\"],[0.2,\"#de77ae\"],[0.3,\"#f1b6da\"],[0.4,\"#fde0ef\"],[0.5,\"#f7f7f7\"],[0.6,\"#e6f5d0\"],[0.7,\"#b8e186\"],[0.8,\"#7fbc41\"],[0.9,\"#4d9221\"],[1,\"#276419\"]],\"sequential\":[[0.0,\"#0d0887\"],[0.1111111111111111,\"#46039f\"],[0.2222222222222222,\"#7201a8\"],[0.3333333333333333,\"#9c179e\"],[0.4444444444444444,\"#bd3786\"],[0.5555555555555556,\"#d8576b\"],[0.6666666666666666,\"#ed7953\"],[0.7777777777777778,\"#fb9f3a\"],[0.8888888888888888,\"#fdca26\"],[1.0,\"#f0f921\"]],\"sequentialminus\":[[0.0,\"#0d0887\"],[0.1111111111111111,\"#46039f\"],[0.2222222222222222,\"#7201a8\"],[0.3333333333333333,\"#9c179e\"],[0.4444444444444444,\"#bd3786\"],[0.5555555555555556,\"#d8576b\"],[0.6666666666666666,\"#ed7953\"],[0.7777777777777778,\"#fb9f3a\"],[0.8888888888888888,\"#fdca26\"],[1.0,\"#f0f921\"]]},\"colorway\":[\"#636efa\",\"#EF553B\",\"#00cc96\",\"#ab63fa\",\"#FFA15A\",\"#19d3f3\",\"#FF6692\",\"#B6E880\",\"#FF97FF\",\"#FECB52\"],\"font\":{\"color\":\"#2a3f5f\"},\"geo\":{\"bgcolor\":\"white\",\"lakecolor\":\"white\",\"landcolor\":\"#E5ECF6\",\"showlakes\":true,\"showland\":true,\"subunitcolor\":\"white\"},\"hoverlabel\":{\"align\":\"left\"},\"hovermode\":\"closest\",\"mapbox\":{\"style\":\"light\"},\"paper_bgcolor\":\"white\",\"plot_bgcolor\":\"#E5ECF6\",\"polar\":{\"angularaxis\":{\"gridcolor\":\"white\",\"linecolor\":\"white\",\"ticks\":\"\"},\"bgcolor\":\"#E5ECF6\",\"radialaxis\":{\"gridcolor\":\"white\",\"linecolor\":\"white\",\"ticks\":\"\"}},\"scene\":{\"xaxis\":{\"backgroundcolor\":\"#E5ECF6\",\"gridcolor\":\"white\",\"gridwidth\":2,\"linecolor\":\"white\",\"showbackground\":true,\"ticks\":\"\",\"zerolinecolor\":\"white\"},\"yaxis\":{\"backgroundcolor\":\"#E5ECF6\",\"gridcolor\":\"white\",\"gridwidth\":2,\"linecolor\":\"white\",\"showbackground\":true,\"ticks\":\"\",\"zerolinecolor\":\"white\"},\"zaxis\":{\"backgroundcolor\":\"#E5ECF6\",\"gridcolor\":\"white\",\"gridwidth\":2,\"linecolor\":\"white\",\"showbackground\":true,\"ticks\":\"\",\"zerolinecolor\":\"white\"}},\"shapedefaults\":{\"line\":{\"color\":\"#2a3f5f\"}},\"ternary\":{\"aaxis\":{\"gridcolor\":\"white\",\"linecolor\":\"white\",\"ticks\":\"\"},\"baxis\":{\"gridcolor\":\"white\",\"linecolor\":\"white\",\"ticks\":\"\"},\"bgcolor\":\"#E5ECF6\",\"caxis\":{\"gridcolor\":\"white\",\"linecolor\":\"white\",\"ticks\":\"\"}},\"title\":{\"x\":0.05},\"xaxis\":{\"automargin\":true,\"gridcolor\":\"white\",\"linecolor\":\"white\",\"ticks\":\"\",\"title\":{\"standoff\":15},\"zerolinecolor\":\"white\",\"zerolinewidth\":2},\"yaxis\":{\"automargin\":true,\"gridcolor\":\"white\",\"linecolor\":\"white\",\"ticks\":\"\",\"title\":{\"standoff\":15},\"zerolinecolor\":\"white\",\"zerolinewidth\":2}}},\"xaxis\":{\"anchor\":\"y\",\"domain\":[0.0,1.0]},\"yaxis\":{\"anchor\":\"x\",\"domain\":[0.0,1.0]},\"annotations\":[{\"font\":{\"size\":16},\"showarrow\":false,\"text\":\"\\u0412\\u043e\\u0440\\u043e\\u043d\\u043a\\u0430 \\u0441\\u043e\\u0431\\u044b\\u0442\\u0438\\u0439\",\"x\":0.5,\"xanchor\":\"center\",\"xref\":\"paper\",\"y\":1.0,\"yanchor\":\"bottom\",\"yref\":\"paper\"}],\"title\":{\"x\":0.5,\"text\":\"\\u0421\\u043e\\u0431\\u044b\\u0442\\u0438\\u044f \\u0432 \\u043f\\u0440\\u0438\\u043b\\u043e\\u0436\\u0435\\u043d\\u0438\\u0438\"},\"font\":{\"size\":12},\"width\":1000,\"height\":500},                        {\"responsive\": true}                    ).then(function(){\n",
       "                            \n",
       "var gd = document.getElementById('92133f9e-25f7-4851-b3f8-50ea9546a8c6');\n",
       "var x = new MutationObserver(function (mutations, observer) {{\n",
       "        var display = window.getComputedStyle(gd).display;\n",
       "        if (!display || display === 'none') {{\n",
       "            console.log([gd, 'removed!']);\n",
       "            Plotly.purge(gd);\n",
       "            observer.disconnect();\n",
       "        }}\n",
       "}});\n",
       "\n",
       "// Listen for the removal of the full notebook cells\n",
       "var notebookContainer = gd.closest('#notebook-container');\n",
       "if (notebookContainer) {{\n",
       "    x.observe(notebookContainer, {childList: true});\n",
       "}}\n",
       "\n",
       "// Listen for the clearing of the current output cell\n",
       "var outputEl = gd.closest('.output');\n",
       "if (outputEl) {{\n",
       "    x.observe(outputEl, {childList: true});\n",
       "}}\n",
       "\n",
       "                        })                };                });            </script>        </div>"
      ]
     },
     "metadata": {},
     "output_type": "display_data"
    }
   ],
   "source": [
    "# Строим график частоты событий\n",
    "#fig2 = go.Figure(go.Bar(        x=event_user['event_cnt'],        y=event_user['event'],        orientation='h',        textposition=\"inside\",))\n",
    "\n",
    "#fig2.update_layout(    title=\"Частота событий\",    font=dict(size=12),    width=100,    height=500,)\n",
    "# Строим график воронки событий\n",
    "fig1 = go.Figure(go.Funnel(\n",
    "   \n",
    "    x=event_user['user_cnt'],\n",
    "    y=event_user['event'],\n",
    "    textposition=\"inside\",))\n",
    "\n",
    "fig1.update_layout(\n",
    "    title=\"Воронка событий\",\n",
    "    font=dict(size=12),\n",
    "    width=100,\n",
    "    height=500)\n",
    "\n",
    "# Объединяем два графика\n",
    "fig = sp.make_subplots(rows=1, cols=1, subplot_titles=(\"Воронка событий\", \"\"))\n",
    "fig.add_trace(fig1.data[0], row=1, col=1)\n",
    "#fig.add_trace(fig2.data[0], row=1, col=2)\n",
    "\n",
    "# Общее название графиков\n",
    "fig.update_layout(\n",
    "    title_x=0.50,\n",
    "    title_text=\"События в приложении\", \n",
    "    font=dict(size=12))\n",
    "\n",
    "fig.update_layout(width=1000, height=500)\n",
    "\n",
    "fig.show()"
   ]
  },
  {
   "cell_type": "markdown",
   "metadata": {},
   "source": [
    "**Выводы:**\n",
    "1. 7419 пользователей просмотрели Главный экран, \n",
    "из них 4593 просмотрели товар (61.9%), \n",
    "из них 3734 перешли в корзину (81.3% от предыдущего шага),\n",
    "из них 3539 завершили оплату (94.8% от предыдущего шага).\n",
    "2. Больше всего пользователей теряется после первого шага - только 61.9% переходят на карточку товара.\n",
    "3. По каждому шагу воронки прошло всего 11% пользователей (840 из 7419, начавших с главного экрана). "
   ]
  },
  {
   "cell_type": "markdown",
   "metadata": {},
   "source": [
    "<a id='5_1'></a>\n",
    "## Изучаем результаты эксперимента ##\n",
    "\n",
    "### Сколько пользователей в каждой экспериментальной группе? ###\n",
    "[*Назад к оглавлению*](#Оглавление)"
   ]
  },
  {
   "cell_type": "code",
   "execution_count": 196,
   "metadata": {
    "scrolled": true
   },
   "outputs": [
    {
     "data": {
      "text/html": [
       "<div>\n",
       "<style scoped>\n",
       "    .dataframe tbody tr th:only-of-type {\n",
       "        vertical-align: middle;\n",
       "    }\n",
       "\n",
       "    .dataframe tbody tr th {\n",
       "        vertical-align: top;\n",
       "    }\n",
       "\n",
       "    .dataframe thead th {\n",
       "        text-align: right;\n",
       "    }\n",
       "</style>\n",
       "<table border=\"1\" class=\"dataframe\">\n",
       "  <thead>\n",
       "    <tr style=\"text-align: right;\">\n",
       "      <th></th>\n",
       "      <th>count</th>\n",
       "    </tr>\n",
       "    <tr>\n",
       "      <th>test_group</th>\n",
       "      <th></th>\n",
       "    </tr>\n",
       "  </thead>\n",
       "  <tbody>\n",
       "    <tr>\n",
       "      <th>246</th>\n",
       "      <td>2484</td>\n",
       "    </tr>\n",
       "    <tr>\n",
       "      <th>247</th>\n",
       "      <td>2513</td>\n",
       "    </tr>\n",
       "    <tr>\n",
       "      <th>248</th>\n",
       "      <td>2537</td>\n",
       "    </tr>\n",
       "  </tbody>\n",
       "</table>\n",
       "</div>"
      ],
      "text/plain": [
       "            count\n",
       "test_group       \n",
       "246          2484\n",
       "247          2513\n",
       "248          2537"
      ]
     },
     "execution_count": 196,
     "metadata": {},
     "output_type": "execute_result"
    }
   ],
   "source": [
    "logs.groupby('test_group').agg(count=('user_id', 'nunique'))"
   ]
  },
  {
   "cell_type": "markdown",
   "metadata": {},
   "source": [
    "<a id='5_2'></a>\n",
    "### Есть 2 контрольные группы для А/А-эксперимента, чтобы проверить корректность всех механизмов и расчётов. Проверим, находят ли статистические критерии разницу между выборками 246 и 247. ###\n",
    "[*Назад к оглавлению*](#Оглавление)"
   ]
  },
  {
   "cell_type": "markdown",
   "metadata": {},
   "source": [
    "*Удобно обернуть проверку в отдельную функцию.*"
   ]
  },
  {
   "cell_type": "markdown",
   "metadata": {},
   "source": [
    "<div class=\"alert alert-block alert-info\">\n",
    "\n",
    "### Комментарий студента v_1:\n",
    "Устраняем замечания ниже v_1 () \"сформулировать нулевую и альтернативную гипотезы\". \n",
    "</div>"
   ]
  },
  {
   "cell_type": "markdown",
   "metadata": {},
   "source": [
    "Определим гипотезы:\n",
    "\n",
    "Гипотеза H0: доли двух выборок уникальных посетителей, побывавших на этапе воронки, равны между собой.\n",
    "Гипотеза H1: между долями уникальных посетителей, побывавших на этапе воронки, есть значимая разница..\n"
   ]
  },
  {
   "cell_type": "code",
   "execution_count": 197,
   "metadata": {},
   "outputs": [],
   "source": [
    "\"\"\"\n",
    "Функция принимает на вход два датафрейма с логами и по заданному событию попарно проверяет \n",
    "есть ли статистически значимая разница между долями пользователей, совершивших его в группе 1 и группе 2\n",
    "Входные параметры:\n",
    "    df1, df2 - датафреймы с логами\n",
    "    event - событие\n",
    "    alpha - критический уровень статистической значимости\n",
    "\"\"\"\n",
    "def z_test(df1, df2, event, alpha):\n",
    "    #alpha = alpha\n",
    "    # число пользователей в группе 1 и группе 2:\n",
    "    n_users = np.array([df1['user_id'].nunique(), df2['user_id'].nunique()])\n",
    "\n",
    "    # число пользователей, совершивших событие в группе 1 и группе 2\n",
    "    success = np.array([df1[df1['event'] == event]['user_id'].nunique(), df2[df2['event'] == event]['user_id'].nunique()])\n",
    "\n",
    "    # пропорции успехов в группах:\n",
    "    p1 = success[0]/n_users[0]\n",
    "    p2 = success[1]/n_users[1] \n",
    "    # пропорция успехов в комбинированном датасете:\n",
    "    p_combined = (success[0] + success[1]) / (n_users[0] + n_users[1])\n",
    "\n",
    "    # разница пропорций в датасетах\n",
    "    difference = p1 - p2 \n",
    "\n",
    "    z_value = difference / np.sqrt(p_combined * (1 - p_combined) * (1/n_users[0] + 1/n_users[1]))\n",
    "\n",
    "    # задаем стандартное нормальное распределение (среднее 0, ст.отклонение 1)\n",
    "    distr = st.norm(0, 1)  \n",
    "\n",
    "    p_value = (1 - distr.cdf(abs(z_value))) * 2\n",
    "\n",
    "    print('\\n'+'\\033[1m' + event + ':' + '\\033[0m') #Bold font\n",
    "    print('p-значение: ', p_value)\n",
    "\n",
    "    if (p_value < alpha):\n",
    "        print(\"Отвергаем нулевую гипотезу: между долями есть значимая разница.\")\n",
    "    else:\n",
    "        print(\"Не получилось отвергнуть нулевую гипотезу, нет оснований считать доли разными.\")"
   ]
  },
  {
   "cell_type": "code",
   "execution_count": 198,
   "metadata": {
    "scrolled": true
   },
   "outputs": [
    {
     "data": {
      "text/plain": [
       "array(['Tutorial', 'MainScreenAppear', 'OffersScreenAppear',\n",
       "       'CartScreenAppear', 'PaymentScreenSuccessful'], dtype=object)"
      ]
     },
     "execution_count": 198,
     "metadata": {},
     "output_type": "execute_result"
    }
   ],
   "source": [
    "# Составим список всех возможных событий:\n",
    "EVENTS_ARRAY = logs['event'].unique()\n",
    "EVENTS_ARRAY\n"
   ]
  },
  {
   "cell_type": "markdown",
   "metadata": {},
   "source": [
    "<div class=\"alert alert-block alert-info\">\n",
    "\n",
    "### Комментарий студента v_1:\n",
    "Устраняем замечания ниже v_1 () \"Почему применяешь поправку Бонферрони\" \n",
    "</div>"
   ]
  },
  {
   "cell_type": "markdown",
   "metadata": {},
   "source": [
    "В задании сказано: При уровне значимости 0.1 в 10% случаев можно ошибочно отклонить нулевую гипотезу при условии, что она верна.\n",
    "\n",
    "Понизил уровень значимости, потому что тестировать будем 4 группы между собой, и у нас идет множественная проверка гипотез, а значит - увеличивается риск ложноположительного результата (найти различия там, где их на самом деле нет).\n",
    "Зададим критический уровень статистической значимости:\n",
    "Поскольку в итоге проведем 5*4=20 тестов, то нами была применена поправка Бонферрони к коэффициенту статистической значимости."
   ]
  },
  {
   "cell_type": "code",
   "execution_count": 199,
   "metadata": {},
   "outputs": [
    {
     "data": {
      "text/plain": [
       "0.005"
      ]
     },
     "execution_count": 199,
     "metadata": {},
     "output_type": "execute_result"
    }
   ],
   "source": [
    "ALPHA = 0.1/20\n",
    "ALPHA"
   ]
  },
  {
   "cell_type": "markdown",
   "metadata": {},
   "source": [
    "<a id='5_3'></a>\n",
    "### Посчитаем число пользователей, совершивших  событие в каждой из контрольных групп. Посчитаем долю пользователей, совершивших это событие. Проверим, будет ли отличие между группами статистически достоверным. Проделаем то же самое для всех других событий. Можно ли сказать, что разбиение на группы работает корректно? ###\n",
    "[*Назад к оглавлению*](#Оглавление)"
   ]
  },
  {
   "cell_type": "code",
   "execution_count": 200,
   "metadata": {},
   "outputs": [
    {
     "name": "stdout",
     "output_type": "stream",
     "text": [
      "\n",
      "\u001b[1mTutorial:\u001b[0m\n",
      "p-значение:  0.9376996189257114\n",
      "Не получилось отвергнуть нулевую гипотезу, нет оснований считать доли разными.\n",
      "\n",
      "\u001b[1mMainScreenAppear:\u001b[0m\n",
      "p-значение:  0.7570597232046099\n",
      "Не получилось отвергнуть нулевую гипотезу, нет оснований считать доли разными.\n",
      "\n",
      "\u001b[1mOffersScreenAppear:\u001b[0m\n",
      "p-значение:  0.2480954578522181\n",
      "Не получилось отвергнуть нулевую гипотезу, нет оснований считать доли разными.\n",
      "\n",
      "\u001b[1mCartScreenAppear:\u001b[0m\n",
      "p-значение:  0.22883372237997213\n",
      "Не получилось отвергнуть нулевую гипотезу, нет оснований считать доли разными.\n",
      "\n",
      "\u001b[1mPaymentScreenSuccessful:\u001b[0m\n",
      "p-значение:  0.11456679313141849\n",
      "Не получилось отвергнуть нулевую гипотезу, нет оснований считать доли разными.\n"
     ]
    }
   ],
   "source": [
    "# Проверим, есть ли статистически значимая разница между контрольными группами 246 и 247:\n",
    "for event in EVENTS_ARRAY:\n",
    "    z_test(logs[logs['test_group'] == 246], logs[logs['test_group'] == 247], event, ALPHA)"
   ]
  },
  {
   "cell_type": "markdown",
   "metadata": {},
   "source": [
    "При заданном уровне значимости у нас нет оснований считать группы **246 и 247** разными."
   ]
  },
  {
   "cell_type": "markdown",
   "metadata": {},
   "source": [
    "<a id='5_4'></a>\n",
    "### Аналогично поступим с группой с изменённым шрифтом. Сравним результаты с каждой из контрольных групп в отдельности по каждому событию. Сравним результаты с объединённой контрольной группой. Какие выводы из эксперимента можно сделать? ###\n",
    "[*Назад к оглавлению*](#Оглавление)"
   ]
  },
  {
   "cell_type": "code",
   "execution_count": 201,
   "metadata": {},
   "outputs": [
    {
     "name": "stdout",
     "output_type": "stream",
     "text": [
      "\n",
      "\u001b[1mTutorial:\u001b[0m\n",
      "p-значение:  0.8264294010087645\n",
      "Не получилось отвергнуть нулевую гипотезу, нет оснований считать доли разными.\n",
      "\n",
      "\u001b[1mMainScreenAppear:\u001b[0m\n",
      "p-значение:  0.2949721933554552\n",
      "Не получилось отвергнуть нулевую гипотезу, нет оснований считать доли разными.\n",
      "\n",
      "\u001b[1mOffersScreenAppear:\u001b[0m\n",
      "p-значение:  0.20836205402738917\n",
      "Не получилось отвергнуть нулевую гипотезу, нет оснований считать доли разными.\n",
      "\n",
      "\u001b[1mCartScreenAppear:\u001b[0m\n",
      "p-значение:  0.07842923237520116\n",
      "Не получилось отвергнуть нулевую гипотезу, нет оснований считать доли разными.\n",
      "\n",
      "\u001b[1mPaymentScreenSuccessful:\u001b[0m\n",
      "p-значение:  0.2122553275697796\n",
      "Не получилось отвергнуть нулевую гипотезу, нет оснований считать доли разными.\n"
     ]
    }
   ],
   "source": [
    "# Проверим есть ли статистически значимая разница между контрольной 246 и экпериментальной 248 группами:\n",
    "for event in EVENTS_ARRAY:\n",
    "    z_test(logs[logs['test_group'] == 246], logs[logs['test_group'] == 248], event, ALPHA)"
   ]
  },
  {
   "cell_type": "markdown",
   "metadata": {},
   "source": [
    "При заданном уровне значимости у нас нет оснований считать группы **246 и 248** разными."
   ]
  },
  {
   "cell_type": "code",
   "execution_count": 202,
   "metadata": {},
   "outputs": [
    {
     "name": "stdout",
     "output_type": "stream",
     "text": [
      "\n",
      "\u001b[1mTutorial:\u001b[0m\n",
      "p-значение:  0.765323922474501\n",
      "Не получилось отвергнуть нулевую гипотезу, нет оснований считать доли разными.\n",
      "\n",
      "\u001b[1mMainScreenAppear:\u001b[0m\n",
      "p-значение:  0.4587053616621515\n",
      "Не получилось отвергнуть нулевую гипотезу, нет оснований считать доли разными.\n",
      "\n",
      "\u001b[1mOffersScreenAppear:\u001b[0m\n",
      "p-значение:  0.9197817830592261\n",
      "Не получилось отвергнуть нулевую гипотезу, нет оснований считать доли разными.\n",
      "\n",
      "\u001b[1mCartScreenAppear:\u001b[0m\n",
      "p-значение:  0.5786197879539783\n",
      "Не получилось отвергнуть нулевую гипотезу, нет оснований считать доли разными.\n",
      "\n",
      "\u001b[1mPaymentScreenSuccessful:\u001b[0m\n",
      "p-значение:  0.7373415053803964\n",
      "Не получилось отвергнуть нулевую гипотезу, нет оснований считать доли разными.\n"
     ]
    }
   ],
   "source": [
    "# Проверим есть ли статистически значимая разница между контрольной 247 и экпериментальной 248 группами:\n",
    "for event in EVENTS_ARRAY:\n",
    "    z_test(logs[logs['test_group'] == 247], logs[logs['test_group'] == 248], event, ALPHA)"
   ]
  },
  {
   "cell_type": "markdown",
   "metadata": {},
   "source": [
    "При заданном уровне значимости у нас нет оснований считать группы **247 и 248** разными."
   ]
  },
  {
   "cell_type": "code",
   "execution_count": 203,
   "metadata": {},
   "outputs": [
    {
     "name": "stdout",
     "output_type": "stream",
     "text": [
      "\n",
      "\u001b[1mTutorial:\u001b[0m\n",
      "p-значение:  0.764862472531507\n",
      "Не получилось отвергнуть нулевую гипотезу, нет оснований считать доли разными.\n",
      "\n",
      "\u001b[1mMainScreenAppear:\u001b[0m\n",
      "p-значение:  0.29424526837179577\n",
      "Не получилось отвергнуть нулевую гипотезу, нет оснований считать доли разными.\n",
      "\n",
      "\u001b[1mOffersScreenAppear:\u001b[0m\n",
      "p-значение:  0.43425549655188256\n",
      "Не получилось отвергнуть нулевую гипотезу, нет оснований считать доли разными.\n",
      "\n",
      "\u001b[1mCartScreenAppear:\u001b[0m\n",
      "p-значение:  0.18175875284404386\n",
      "Не получилось отвергнуть нулевую гипотезу, нет оснований считать доли разными.\n",
      "\n",
      "\u001b[1mPaymentScreenSuccessful:\u001b[0m\n",
      "p-значение:  0.6004294282308704\n",
      "Не получилось отвергнуть нулевую гипотезу, нет оснований считать доли разными.\n"
     ]
    }
   ],
   "source": [
    "# Проверим есть ли статистически значимая разница между объединённой контрольной и экпериментальной 248 группами:\n",
    "for event in EVENTS_ARRAY:\n",
    "    z_test(pd.concat([logs[logs['test_group'] == 246], logs[logs['test_group'] == 247]]), logs[logs['test_group'] == 248], \n",
    "           event, ALPHA)"
   ]
  },
  {
   "cell_type": "markdown",
   "metadata": {},
   "source": [
    "При заданном уровне значимости у нас нет оснований считать группы **(246+247) и 248** разными."
   ]
  },
  {
   "cell_type": "markdown",
   "metadata": {},
   "source": [
    "<a id='5_5'></a>\n",
    "### Какой уровень значимости выбрали при проверке статистических гипотез выше? Посчитаем, сколько проверок статистических гипотез мы сделали. При уровне значимости 0.1 в 10% случаев можно ошибочно отклонить нулевую гипотезу при условии, что она верна. Какой уровень значимости стоит применить? Если мы хотим изменить его, проделаем предыдущие пункты и проверим свои выводы. ###\n",
    "[*Назад к оглавлению*](#Оглавление)"
   ]
  },
  {
   "cell_type": "markdown",
   "metadata": {},
   "source": [
    "**Вывод:**\n",
    "Изменение шрифтов во всём приложении на поведение пользователей не повлияло."
   ]
  },
  {
   "cell_type": "markdown",
   "metadata": {},
   "source": [
    "<a id='6'></a>\n",
    "**Общие выводы:**  \n",
    "[*Назад к оглавлению*](#Оглавление)  \n",
    "В нашем распоряжении оказалось 240887 логов, 7534 пользователя и 5 возможных событий.\n",
    "\n",
    "*Анализ поведения пользователей*\n",
    "\n",
    "Среднее количество событий на пользователя: 20.\n",
    "\n",
    "Распределение логов по событиям выглядит следующим образом:\n",
    "\n",
    "MainScreenAppear (Главный экран) увидели 117328 раз\n",
    "OffersScreenAppear (Продающий экран) увидели 46333 раз\n",
    "CartScreenAppear (Корзина продаж) увидели 42303 раз\n",
    "PaymentScreenSuccessful (Завершение оплаты) увидели 33918 раз\n",
    "Tutorial (Урок) просмотрели 1005 раз\n",
    "\n",
    "*Воронка событий (без учёта последовательности):*\n",
    "\n",
    "Просмотр Урока (и, возможно, другие шаги) не является обязательным условием совершения покупки.\n",
    "\n",
    "*Воронка событий с учётом последовательности событий:*  \n",
    "1. 7419 пользователей просмотрели Главный экран, \n",
    "из них 4593 просмотрели товар (61.9%), \n",
    "из них 3734 перешли в корзину (81.3% от предыдущего шага),\n",
    "из них 3539 завершили оплату (94.8% от предыдущего шага).\n",
    "2. Больше всего пользователей теряется после первого шага - только 61.9% переходят на карточку товара.\n",
    "3. По каждому шагу воронки прошло всего 11% пользователей (840 из 7419, начавших с главного экрана). Видимо, Урок не сделан привлекательным для пользователей, они его пропускают (\"скипают\") для экономии времени. Если это приводит к большим обращениям в техподдержку (что за пределами нашего исследования), то Урок нужно переделать.\n",
    "\n",
    "*Проверка результатов А/А/В-эксперимента*\n",
    "\n",
    "Размеры тестовых групп несколько отличаются:\n",
    "\n",
    "246(А) : 79302  \n",
    "247(А) : 77022  \n",
    "248(В) : 84563  \n",
    "\n",
    "Количество уникальных пользователей по группам:\n",
    "\n",
    "246(А) : 2484  \n",
    "247(А) : 2513  \n",
    "248(В) : 2537  \n",
    "В будущем стоит поработать над принципом выделения групп, чтобы их размер был абсолютно одинаковым.\n",
    "\n",
    "Множество А/В-тестов, проведённых по каждому из событий, не обнаружило статистически значимой разницы между группами. Т.е. **изменение шрифтов во всём приложении на поведение пользователей не повлияло.**"
   ]
  },
  {
   "cell_type": "code",
   "execution_count": null,
   "metadata": {},
   "outputs": [],
   "source": []
  }
 ],
 "metadata": {
  "ExecuteTimeLog": [
   {
    "duration": 1264,
    "start_time": "2023-08-09T15:53:41.802Z"
   },
   {
    "duration": 576,
    "start_time": "2023-08-09T15:54:52.018Z"
   },
   {
    "duration": 275,
    "start_time": "2023-08-09T15:55:14.171Z"
   },
   {
    "duration": 142,
    "start_time": "2023-08-09T15:57:00.567Z"
   },
   {
    "duration": 138,
    "start_time": "2023-08-09T15:57:15.031Z"
   },
   {
    "duration": 137,
    "start_time": "2023-08-09T15:58:30.528Z"
   },
   {
    "duration": 84,
    "start_time": "2023-08-09T15:58:41.985Z"
   },
   {
    "duration": 16,
    "start_time": "2023-08-09T16:00:28.654Z"
   },
   {
    "duration": 74,
    "start_time": "2023-08-09T16:01:42.961Z"
   },
   {
    "duration": 3,
    "start_time": "2023-08-09T16:08:28.436Z"
   },
   {
    "duration": 154,
    "start_time": "2023-08-09T16:08:28.441Z"
   },
   {
    "duration": 85,
    "start_time": "2023-08-09T16:08:28.596Z"
   },
   {
    "duration": 19,
    "start_time": "2023-08-09T16:08:28.683Z"
   },
   {
    "duration": 96,
    "start_time": "2023-08-09T16:09:09.676Z"
   },
   {
    "duration": 14,
    "start_time": "2023-08-09T16:09:17.340Z"
   },
   {
    "duration": 13,
    "start_time": "2023-08-09T16:09:32.177Z"
   },
   {
    "duration": 122,
    "start_time": "2023-08-09T16:19:43.295Z"
   },
   {
    "duration": 9,
    "start_time": "2023-08-09T16:22:35.030Z"
   },
   {
    "duration": 120,
    "start_time": "2023-08-09T16:22:50.377Z"
   },
   {
    "duration": 3,
    "start_time": "2023-08-09T16:25:03.709Z"
   },
   {
    "duration": 148,
    "start_time": "2023-08-09T16:25:03.713Z"
   },
   {
    "duration": 58,
    "start_time": "2023-08-09T16:25:03.863Z"
   },
   {
    "duration": 29,
    "start_time": "2023-08-09T16:25:03.923Z"
   },
   {
    "duration": 13,
    "start_time": "2023-08-09T16:25:03.954Z"
   },
   {
    "duration": 110,
    "start_time": "2023-08-09T16:25:03.968Z"
   },
   {
    "duration": 119,
    "start_time": "2023-08-09T16:25:04.080Z"
   },
   {
    "duration": 3,
    "start_time": "2023-08-09T16:50:11.502Z"
   },
   {
    "duration": 151,
    "start_time": "2023-08-09T16:50:11.506Z"
   },
   {
    "duration": 58,
    "start_time": "2023-08-09T16:50:11.659Z"
   },
   {
    "duration": 27,
    "start_time": "2023-08-09T16:50:11.718Z"
   },
   {
    "duration": 14,
    "start_time": "2023-08-09T16:50:11.747Z"
   },
   {
    "duration": 126,
    "start_time": "2023-08-09T16:50:11.763Z"
   },
   {
    "duration": 124,
    "start_time": "2023-08-09T16:50:11.891Z"
   },
   {
    "duration": 2,
    "start_time": "2023-08-09T17:45:49.992Z"
   },
   {
    "duration": 159,
    "start_time": "2023-08-09T17:45:49.996Z"
   },
   {
    "duration": 59,
    "start_time": "2023-08-09T17:45:50.156Z"
   },
   {
    "duration": 31,
    "start_time": "2023-08-09T17:45:50.217Z"
   },
   {
    "duration": 13,
    "start_time": "2023-08-09T17:45:50.250Z"
   },
   {
    "duration": 107,
    "start_time": "2023-08-09T17:45:50.265Z"
   },
   {
    "duration": 107,
    "start_time": "2023-08-09T17:45:50.373Z"
   },
   {
    "duration": 6,
    "start_time": "2023-08-09T17:46:44.655Z"
   },
   {
    "duration": 7,
    "start_time": "2023-08-09T17:47:51.289Z"
   },
   {
    "duration": 3,
    "start_time": "2023-08-09T17:47:53.222Z"
   },
   {
    "duration": 8,
    "start_time": "2023-08-09T17:49:26.837Z"
   },
   {
    "duration": 145,
    "start_time": "2023-08-09T17:49:41.609Z"
   },
   {
    "duration": 126,
    "start_time": "2023-08-09T17:50:07.530Z"
   },
   {
    "duration": 8,
    "start_time": "2023-08-09T17:50:11.128Z"
   },
   {
    "duration": 183,
    "start_time": "2023-08-09T17:50:11.138Z"
   },
   {
    "duration": 65,
    "start_time": "2023-08-09T17:50:11.323Z"
   },
   {
    "duration": 18,
    "start_time": "2023-08-09T17:50:11.390Z"
   },
   {
    "duration": 34,
    "start_time": "2023-08-09T17:50:11.410Z"
   },
   {
    "duration": 103,
    "start_time": "2023-08-09T17:50:11.445Z"
   },
   {
    "duration": 114,
    "start_time": "2023-08-09T17:50:11.549Z"
   },
   {
    "duration": 2,
    "start_time": "2023-08-09T17:50:11.665Z"
   },
   {
    "duration": 16,
    "start_time": "2023-08-09T17:50:11.669Z"
   },
   {
    "duration": 261,
    "start_time": "2023-08-09T17:50:11.686Z"
   },
   {
    "duration": 5,
    "start_time": "2023-08-09T17:51:09.528Z"
   },
   {
    "duration": 3,
    "start_time": "2023-08-09T17:51:15.660Z"
   },
   {
    "duration": 1404,
    "start_time": "2023-08-09T17:52:41.110Z"
   },
   {
    "duration": 24,
    "start_time": "2023-08-09T17:52:48.529Z"
   },
   {
    "duration": 118,
    "start_time": "2023-08-09T17:54:29.722Z"
   },
   {
    "duration": 581,
    "start_time": "2023-08-09T17:54:47.666Z"
   },
   {
    "duration": 333,
    "start_time": "2023-08-09T17:56:21.610Z"
   },
   {
    "duration": 271,
    "start_time": "2023-08-09T17:56:25.631Z"
   },
   {
    "duration": 95,
    "start_time": "2023-08-09T17:58:21.130Z"
   },
   {
    "duration": 78,
    "start_time": "2023-08-09T17:58:52.921Z"
   },
   {
    "duration": 28,
    "start_time": "2023-08-09T17:59:33.990Z"
   },
   {
    "duration": 29,
    "start_time": "2023-08-09T18:00:20.147Z"
   },
   {
    "duration": 19,
    "start_time": "2023-08-09T18:00:45.930Z"
   },
   {
    "duration": 6,
    "start_time": "2023-08-09T18:02:55.454Z"
   },
   {
    "duration": 154,
    "start_time": "2023-08-09T18:02:55.462Z"
   },
   {
    "duration": 62,
    "start_time": "2023-08-09T18:02:55.618Z"
   },
   {
    "duration": 18,
    "start_time": "2023-08-09T18:02:55.681Z"
   },
   {
    "duration": 15,
    "start_time": "2023-08-09T18:02:55.701Z"
   },
   {
    "duration": 114,
    "start_time": "2023-08-09T18:02:55.717Z"
   },
   {
    "duration": 105,
    "start_time": "2023-08-09T18:02:55.833Z"
   },
   {
    "duration": 3,
    "start_time": "2023-08-09T18:02:55.939Z"
   },
   {
    "duration": 28,
    "start_time": "2023-08-09T18:02:55.944Z"
   },
   {
    "duration": 220,
    "start_time": "2023-08-09T18:02:55.973Z"
   },
   {
    "duration": 4,
    "start_time": "2023-08-09T18:02:56.194Z"
   },
   {
    "duration": 30,
    "start_time": "2023-08-09T18:02:56.200Z"
   },
   {
    "duration": 275,
    "start_time": "2023-08-09T18:02:56.238Z"
   },
   {
    "duration": 260,
    "start_time": "2023-08-09T18:02:56.516Z"
   },
   {
    "duration": 35,
    "start_time": "2023-08-09T18:02:56.778Z"
   },
   {
    "duration": 33,
    "start_time": "2023-08-09T18:02:56.814Z"
   },
   {
    "duration": 13,
    "start_time": "2023-08-09T18:04:39.540Z"
   },
   {
    "duration": 3,
    "start_time": "2023-08-09T18:10:28.895Z"
   },
   {
    "duration": 3,
    "start_time": "2023-08-09T18:10:56.661Z"
   },
   {
    "duration": 7,
    "start_time": "2023-08-09T18:11:07.199Z"
   },
   {
    "duration": 9,
    "start_time": "2023-08-09T18:11:25.516Z"
   },
   {
    "duration": 14,
    "start_time": "2023-08-09T18:13:13.507Z"
   },
   {
    "duration": 1445,
    "start_time": "2023-08-10T15:23:16.407Z"
   },
   {
    "duration": 975,
    "start_time": "2023-08-10T15:23:17.853Z"
   },
   {
    "duration": 97,
    "start_time": "2023-08-10T15:23:18.830Z"
   },
   {
    "duration": 43,
    "start_time": "2023-08-10T15:23:18.929Z"
   },
   {
    "duration": 41,
    "start_time": "2023-08-10T15:23:18.975Z"
   },
   {
    "duration": 169,
    "start_time": "2023-08-10T15:23:19.018Z"
   },
   {
    "duration": 141,
    "start_time": "2023-08-10T15:23:19.189Z"
   },
   {
    "duration": 3,
    "start_time": "2023-08-10T15:23:19.332Z"
   },
   {
    "duration": 49,
    "start_time": "2023-08-10T15:23:19.336Z"
   },
   {
    "duration": 317,
    "start_time": "2023-08-10T15:23:19.388Z"
   },
   {
    "duration": 4,
    "start_time": "2023-08-10T15:23:19.707Z"
   },
   {
    "duration": 65,
    "start_time": "2023-08-10T15:23:19.713Z"
   },
   {
    "duration": 422,
    "start_time": "2023-08-10T15:23:19.779Z"
   },
   {
    "duration": 318,
    "start_time": "2023-08-10T15:23:20.203Z"
   },
   {
    "duration": 69,
    "start_time": "2023-08-10T15:23:20.523Z"
   },
   {
    "duration": 42,
    "start_time": "2023-08-10T15:23:20.593Z"
   },
   {
    "duration": 18,
    "start_time": "2023-08-10T15:23:20.637Z"
   },
   {
    "duration": 63,
    "start_time": "2023-08-10T15:23:20.657Z"
   },
   {
    "duration": 308,
    "start_time": "2023-08-10T15:23:20.721Z"
   },
   {
    "duration": 453,
    "start_time": "2023-08-10T15:27:11.815Z"
   },
   {
    "duration": 242,
    "start_time": "2023-08-10T15:27:38.193Z"
   },
   {
    "duration": 85,
    "start_time": "2023-08-10T15:27:40.619Z"
   },
   {
    "duration": 218,
    "start_time": "2023-08-10T15:27:59.835Z"
   },
   {
    "duration": 50,
    "start_time": "2023-08-10T15:28:06.566Z"
   },
   {
    "duration": 297,
    "start_time": "2023-08-10T15:28:30.010Z"
   },
   {
    "duration": 347,
    "start_time": "2023-08-10T15:28:40.702Z"
   },
   {
    "duration": 177,
    "start_time": "2023-08-10T15:32:53.272Z"
   },
   {
    "duration": 332,
    "start_time": "2023-08-10T15:33:03.965Z"
   },
   {
    "duration": 107,
    "start_time": "2023-08-10T15:38:23.188Z"
   },
   {
    "duration": 132,
    "start_time": "2023-08-10T15:38:44.731Z"
   },
   {
    "duration": 4,
    "start_time": "2023-08-10T15:41:09.109Z"
   },
   {
    "duration": 90,
    "start_time": "2023-08-10T15:48:33.086Z"
   },
   {
    "duration": 14,
    "start_time": "2023-08-10T15:48:45.659Z"
   },
   {
    "duration": 92,
    "start_time": "2023-08-10T15:48:57.464Z"
   },
   {
    "duration": 163,
    "start_time": "2023-08-10T15:49:15.435Z"
   },
   {
    "duration": 115,
    "start_time": "2023-08-10T15:49:33.109Z"
   },
   {
    "duration": 116,
    "start_time": "2023-08-10T15:49:45.486Z"
   },
   {
    "duration": 143,
    "start_time": "2023-08-10T15:49:57.338Z"
   },
   {
    "duration": 123,
    "start_time": "2023-08-10T15:50:07.264Z"
   },
   {
    "duration": 1610,
    "start_time": "2023-08-10T15:50:16.601Z"
   },
   {
    "duration": 133,
    "start_time": "2023-08-10T15:50:31.064Z"
   },
   {
    "duration": 15,
    "start_time": "2023-08-10T15:53:18.613Z"
   },
   {
    "duration": 304,
    "start_time": "2023-08-10T15:53:18.630Z"
   },
   {
    "duration": 95,
    "start_time": "2023-08-10T15:53:18.935Z"
   },
   {
    "duration": 51,
    "start_time": "2023-08-10T15:53:19.033Z"
   },
   {
    "duration": 36,
    "start_time": "2023-08-10T15:53:19.092Z"
   },
   {
    "duration": 166,
    "start_time": "2023-08-10T15:53:19.130Z"
   },
   {
    "duration": 166,
    "start_time": "2023-08-10T15:53:19.298Z"
   },
   {
    "duration": 13,
    "start_time": "2023-08-10T15:53:19.476Z"
   },
   {
    "duration": 8,
    "start_time": "2023-08-10T15:53:19.495Z"
   },
   {
    "duration": 350,
    "start_time": "2023-08-10T15:53:19.505Z"
   },
   {
    "duration": 7,
    "start_time": "2023-08-10T15:53:19.857Z"
   },
   {
    "duration": 105,
    "start_time": "2023-08-10T15:53:19.865Z"
   },
   {
    "duration": 375,
    "start_time": "2023-08-10T15:53:19.972Z"
   },
   {
    "duration": 298,
    "start_time": "2023-08-10T15:53:20.350Z"
   },
   {
    "duration": 47,
    "start_time": "2023-08-10T15:53:20.649Z"
   },
   {
    "duration": 26,
    "start_time": "2023-08-10T15:53:20.700Z"
   },
   {
    "duration": 20,
    "start_time": "2023-08-10T15:53:20.727Z"
   },
   {
    "duration": 63,
    "start_time": "2023-08-10T15:53:20.748Z"
   },
   {
    "duration": 59,
    "start_time": "2023-08-10T15:53:20.813Z"
   },
   {
    "duration": 244,
    "start_time": "2023-08-10T15:53:20.873Z"
   },
   {
    "duration": 110,
    "start_time": "2023-08-10T15:53:21.119Z"
   },
   {
    "duration": 354,
    "start_time": "2023-08-10T15:53:21.230Z"
   },
   {
    "duration": 140,
    "start_time": "2023-08-10T15:53:21.585Z"
   },
   {
    "duration": 48,
    "start_time": "2023-08-10T15:53:21.727Z"
   },
   {
    "duration": 60,
    "start_time": "2023-08-10T15:54:11.512Z"
   },
   {
    "duration": 8,
    "start_time": "2023-08-10T16:35:42.715Z"
   },
   {
    "duration": 6,
    "start_time": "2023-08-10T16:36:45.316Z"
   },
   {
    "duration": 21,
    "start_time": "2023-08-10T16:38:36.325Z"
   },
   {
    "duration": 156,
    "start_time": "2023-08-10T16:38:46.038Z"
   },
   {
    "duration": 266,
    "start_time": "2023-08-10T16:42:31.162Z"
   },
   {
    "duration": 219,
    "start_time": "2023-08-10T16:44:00.907Z"
   },
   {
    "duration": 42,
    "start_time": "2023-08-10T16:48:07.065Z"
   },
   {
    "duration": 6,
    "start_time": "2023-08-10T16:48:14.192Z"
   },
   {
    "duration": 237,
    "start_time": "2023-08-10T16:52:14.164Z"
   },
   {
    "duration": 212,
    "start_time": "2023-08-10T17:06:36.791Z"
   },
   {
    "duration": 167,
    "start_time": "2023-08-10T17:06:40.462Z"
   },
   {
    "duration": 353,
    "start_time": "2023-08-10T17:10:24.531Z"
   },
   {
    "duration": 1269,
    "start_time": "2023-08-10T19:51:40.920Z"
   },
   {
    "duration": 174,
    "start_time": "2023-08-10T19:51:42.191Z"
   },
   {
    "duration": 84,
    "start_time": "2023-08-10T19:51:42.366Z"
   },
   {
    "duration": 21,
    "start_time": "2023-08-10T19:51:42.452Z"
   },
   {
    "duration": 19,
    "start_time": "2023-08-10T19:51:42.475Z"
   },
   {
    "duration": 135,
    "start_time": "2023-08-10T19:51:42.496Z"
   },
   {
    "duration": 135,
    "start_time": "2023-08-10T19:51:42.637Z"
   },
   {
    "duration": 4,
    "start_time": "2023-08-10T19:51:42.774Z"
   },
   {
    "duration": 31,
    "start_time": "2023-08-10T19:51:42.779Z"
   },
   {
    "duration": 278,
    "start_time": "2023-08-10T19:51:42.812Z"
   },
   {
    "duration": 4,
    "start_time": "2023-08-10T19:51:43.092Z"
   },
   {
    "duration": 30,
    "start_time": "2023-08-10T19:51:43.097Z"
   },
   {
    "duration": 352,
    "start_time": "2023-08-10T19:51:43.141Z"
   },
   {
    "duration": 275,
    "start_time": "2023-08-10T19:51:43.495Z"
   },
   {
    "duration": 37,
    "start_time": "2023-08-10T19:51:43.772Z"
   },
   {
    "duration": 40,
    "start_time": "2023-08-10T19:51:43.811Z"
   },
   {
    "duration": 9,
    "start_time": "2023-08-10T19:51:43.854Z"
   },
   {
    "duration": 19,
    "start_time": "2023-08-10T19:51:43.865Z"
   },
   {
    "duration": 26,
    "start_time": "2023-08-10T19:51:43.886Z"
   },
   {
    "duration": 199,
    "start_time": "2023-08-10T19:51:43.914Z"
   },
   {
    "duration": 70,
    "start_time": "2023-08-10T19:51:44.114Z"
   },
   {
    "duration": 225,
    "start_time": "2023-08-10T19:51:44.185Z"
   },
   {
    "duration": 201,
    "start_time": "2023-08-10T19:51:44.411Z"
   },
   {
    "duration": 396,
    "start_time": "2023-08-10T19:51:44.613Z"
   },
   {
    "duration": 50,
    "start_time": "2023-08-10T19:51:45.011Z"
   },
   {
    "duration": 6,
    "start_time": "2023-08-10T19:51:45.063Z"
   },
   {
    "duration": 91,
    "start_time": "2023-08-10T19:51:45.070Z"
   },
   {
    "duration": 13,
    "start_time": "2023-08-10T19:51:45.166Z"
   },
   {
    "duration": 139,
    "start_time": "2023-08-10T19:51:45.181Z"
   },
   {
    "duration": 132,
    "start_time": "2023-08-10T19:51:45.322Z"
   },
   {
    "duration": 131,
    "start_time": "2023-08-10T19:51:45.456Z"
   },
   {
    "duration": 229,
    "start_time": "2023-08-10T19:51:45.588Z"
   },
   {
    "duration": 52,
    "start_time": "2023-08-11T10:17:41.168Z"
   },
   {
    "duration": 1497,
    "start_time": "2023-08-11T10:17:54.064Z"
   },
   {
    "duration": 724,
    "start_time": "2023-08-11T10:17:55.563Z"
   },
   {
    "duration": 90,
    "start_time": "2023-08-11T10:17:56.288Z"
   },
   {
    "duration": 18,
    "start_time": "2023-08-11T10:17:56.380Z"
   },
   {
    "duration": 27,
    "start_time": "2023-08-11T10:17:56.400Z"
   },
   {
    "duration": 151,
    "start_time": "2023-08-11T10:17:56.429Z"
   },
   {
    "duration": 128,
    "start_time": "2023-08-11T10:17:56.582Z"
   },
   {
    "duration": 67,
    "start_time": "2023-08-11T10:17:56.711Z"
   },
   {
    "duration": 3,
    "start_time": "2023-08-11T10:17:56.779Z"
   },
   {
    "duration": 10,
    "start_time": "2023-08-11T10:17:56.785Z"
   },
   {
    "duration": 277,
    "start_time": "2023-08-11T10:17:56.796Z"
   },
   {
    "duration": 4,
    "start_time": "2023-08-11T10:17:57.074Z"
   },
   {
    "duration": 51,
    "start_time": "2023-08-11T10:17:57.080Z"
   },
   {
    "duration": 417,
    "start_time": "2023-08-11T10:17:57.133Z"
   },
   {
    "duration": 316,
    "start_time": "2023-08-11T10:17:57.556Z"
   },
   {
    "duration": 40,
    "start_time": "2023-08-11T10:17:57.873Z"
   },
   {
    "duration": 43,
    "start_time": "2023-08-11T10:17:57.915Z"
   },
   {
    "duration": 9,
    "start_time": "2023-08-11T10:17:57.959Z"
   },
   {
    "duration": 14,
    "start_time": "2023-08-11T10:17:57.970Z"
   },
   {
    "duration": 31,
    "start_time": "2023-08-11T10:17:57.986Z"
   },
   {
    "duration": 231,
    "start_time": "2023-08-11T10:17:58.019Z"
   },
   {
    "duration": 62,
    "start_time": "2023-08-11T10:17:58.252Z"
   },
   {
    "duration": 257,
    "start_time": "2023-08-11T10:17:58.316Z"
   },
   {
    "duration": 186,
    "start_time": "2023-08-11T10:17:58.575Z"
   },
   {
    "duration": 248,
    "start_time": "2023-08-11T10:17:58.763Z"
   },
   {
    "duration": 71,
    "start_time": "2023-08-11T10:17:59.012Z"
   },
   {
    "duration": 9,
    "start_time": "2023-08-11T10:17:59.086Z"
   },
   {
    "duration": 70,
    "start_time": "2023-08-11T10:17:59.099Z"
   },
   {
    "duration": 4,
    "start_time": "2023-08-11T10:17:59.171Z"
   },
   {
    "duration": 163,
    "start_time": "2023-08-11T10:17:59.177Z"
   },
   {
    "duration": 144,
    "start_time": "2023-08-11T10:17:59.342Z"
   },
   {
    "duration": 135,
    "start_time": "2023-08-11T10:17:59.488Z"
   },
   {
    "duration": 247,
    "start_time": "2023-08-11T10:17:59.625Z"
   },
   {
    "duration": 85,
    "start_time": "2023-08-11T10:27:50.153Z"
   },
   {
    "duration": 45,
    "start_time": "2023-08-11T10:30:25.333Z"
   },
   {
    "duration": 39,
    "start_time": "2023-08-11T10:30:51.920Z"
   },
   {
    "duration": 41,
    "start_time": "2023-08-11T10:30:58.722Z"
   },
   {
    "duration": 45,
    "start_time": "2023-08-11T10:31:24.513Z"
   },
   {
    "duration": 3545,
    "start_time": "2023-08-11T10:32:47.731Z"
   },
   {
    "duration": 73,
    "start_time": "2023-08-11T10:32:59.410Z"
   },
   {
    "duration": 10,
    "start_time": "2023-08-11T10:33:06.698Z"
   },
   {
    "duration": 42,
    "start_time": "2023-08-11T10:33:16.186Z"
   },
   {
    "duration": 41,
    "start_time": "2023-08-11T10:33:30.374Z"
   },
   {
    "duration": 40,
    "start_time": "2023-08-11T10:34:04.654Z"
   },
   {
    "duration": 47,
    "start_time": "2023-08-11T10:34:13.203Z"
   },
   {
    "duration": 3,
    "start_time": "2023-08-11T10:35:10.812Z"
   },
   {
    "duration": 44,
    "start_time": "2023-08-11T10:36:01.605Z"
   },
   {
    "duration": 42,
    "start_time": "2023-08-11T10:36:10.013Z"
   },
   {
    "duration": 8,
    "start_time": "2023-08-11T10:37:13.954Z"
   },
   {
    "duration": 197,
    "start_time": "2023-08-11T10:37:13.964Z"
   },
   {
    "duration": 72,
    "start_time": "2023-08-11T10:37:14.162Z"
   },
   {
    "duration": 34,
    "start_time": "2023-08-11T10:37:14.236Z"
   },
   {
    "duration": 18,
    "start_time": "2023-08-11T10:37:14.272Z"
   },
   {
    "duration": 129,
    "start_time": "2023-08-11T10:37:14.292Z"
   },
   {
    "duration": 145,
    "start_time": "2023-08-11T10:37:14.422Z"
   },
   {
    "duration": 59,
    "start_time": "2023-08-11T10:37:14.569Z"
   },
   {
    "duration": 55,
    "start_time": "2023-08-11T10:37:14.630Z"
   },
   {
    "duration": 38,
    "start_time": "2023-08-11T10:37:14.688Z"
   },
   {
    "duration": 3,
    "start_time": "2023-08-11T10:37:14.728Z"
   },
   {
    "duration": 28,
    "start_time": "2023-08-11T10:37:14.733Z"
   },
   {
    "duration": 258,
    "start_time": "2023-08-11T10:37:14.763Z"
   },
   {
    "duration": 3,
    "start_time": "2023-08-11T10:37:15.024Z"
   },
   {
    "duration": 48,
    "start_time": "2023-08-11T10:37:15.029Z"
   },
   {
    "duration": 336,
    "start_time": "2023-08-11T10:37:15.079Z"
   },
   {
    "duration": 312,
    "start_time": "2023-08-11T10:37:15.417Z"
   },
   {
    "duration": 48,
    "start_time": "2023-08-11T10:37:15.730Z"
   },
   {
    "duration": 21,
    "start_time": "2023-08-11T10:37:15.780Z"
   },
   {
    "duration": 8,
    "start_time": "2023-08-11T10:37:15.803Z"
   },
   {
    "duration": 34,
    "start_time": "2023-08-11T10:37:15.812Z"
   },
   {
    "duration": 39,
    "start_time": "2023-08-11T10:37:15.848Z"
   },
   {
    "duration": 207,
    "start_time": "2023-08-11T10:37:15.888Z"
   },
   {
    "duration": 71,
    "start_time": "2023-08-11T10:37:16.097Z"
   },
   {
    "duration": 223,
    "start_time": "2023-08-11T10:37:16.169Z"
   },
   {
    "duration": 95,
    "start_time": "2023-08-11T10:37:16.394Z"
   },
   {
    "duration": 11,
    "start_time": "2023-08-11T10:37:16.491Z"
   },
   {
    "duration": 56,
    "start_time": "2023-08-11T10:37:16.505Z"
   },
   {
    "duration": 7,
    "start_time": "2023-08-11T10:37:16.562Z"
   },
   {
    "duration": 41,
    "start_time": "2023-08-11T10:37:16.570Z"
   },
   {
    "duration": 9,
    "start_time": "2023-08-11T10:37:16.613Z"
   },
   {
    "duration": 129,
    "start_time": "2023-08-11T10:37:16.623Z"
   },
   {
    "duration": 128,
    "start_time": "2023-08-11T10:37:16.756Z"
   },
   {
    "duration": 137,
    "start_time": "2023-08-11T10:37:16.885Z"
   },
   {
    "duration": 216,
    "start_time": "2023-08-11T10:37:17.024Z"
   },
   {
    "duration": 270,
    "start_time": "2023-08-11T10:38:47.033Z"
   },
   {
    "duration": 277,
    "start_time": "2023-08-11T10:41:47.787Z"
   },
   {
    "duration": 810,
    "start_time": "2023-08-11T10:42:03.804Z"
   },
   {
    "duration": 1528,
    "start_time": "2023-08-11T11:12:35.137Z"
   },
   {
    "duration": 20,
    "start_time": "2023-08-11T11:12:51.767Z"
   },
   {
    "duration": 54,
    "start_time": "2023-08-11T11:14:56.468Z"
   },
   {
    "duration": 60,
    "start_time": "2023-08-11T11:15:18.861Z"
   },
   {
    "duration": 16,
    "start_time": "2023-08-11T11:17:48.957Z"
   },
   {
    "duration": 68,
    "start_time": "2023-08-11T11:18:36.662Z"
   },
   {
    "duration": 74,
    "start_time": "2023-08-11T11:19:08.626Z"
   },
   {
    "duration": 12,
    "start_time": "2023-08-11T11:21:51.096Z"
   },
   {
    "duration": 1158,
    "start_time": "2023-08-11T11:22:38.291Z"
   },
   {
    "duration": 57,
    "start_time": "2023-08-11T11:22:55.861Z"
   },
   {
    "duration": 1373,
    "start_time": "2023-08-11T11:23:00.266Z"
   },
   {
    "duration": 95,
    "start_time": "2023-08-11T11:23:47.494Z"
   },
   {
    "duration": 83,
    "start_time": "2023-08-11T11:23:51.112Z"
   },
   {
    "duration": 1239,
    "start_time": "2023-08-11T11:28:00.061Z"
   },
   {
    "duration": 8,
    "start_time": "2023-08-11T11:28:17.388Z"
   },
   {
    "duration": 167,
    "start_time": "2023-08-11T11:28:17.398Z"
   },
   {
    "duration": 67,
    "start_time": "2023-08-11T11:28:17.566Z"
   },
   {
    "duration": 34,
    "start_time": "2023-08-11T11:28:17.634Z"
   },
   {
    "duration": 16,
    "start_time": "2023-08-11T11:28:17.670Z"
   },
   {
    "duration": 123,
    "start_time": "2023-08-11T11:28:17.688Z"
   },
   {
    "duration": 133,
    "start_time": "2023-08-11T11:28:17.813Z"
   },
   {
    "duration": 62,
    "start_time": "2023-08-11T11:28:17.948Z"
   },
   {
    "duration": 56,
    "start_time": "2023-08-11T11:28:18.012Z"
   },
   {
    "duration": 43,
    "start_time": "2023-08-11T11:28:18.071Z"
   },
   {
    "duration": 3,
    "start_time": "2023-08-11T11:28:18.116Z"
   },
   {
    "duration": 15,
    "start_time": "2023-08-11T11:28:18.121Z"
   },
   {
    "duration": 285,
    "start_time": "2023-08-11T11:28:18.138Z"
   },
   {
    "duration": 6,
    "start_time": "2023-08-11T11:28:18.425Z"
   },
   {
    "duration": 46,
    "start_time": "2023-08-11T11:28:18.432Z"
   },
   {
    "duration": 770,
    "start_time": "2023-08-11T11:28:18.480Z"
   },
   {
    "duration": 336,
    "start_time": "2023-08-11T11:28:19.252Z"
   },
   {
    "duration": 43,
    "start_time": "2023-08-11T11:28:19.590Z"
   },
   {
    "duration": 49,
    "start_time": "2023-08-11T11:28:19.635Z"
   },
   {
    "duration": 31,
    "start_time": "2023-08-11T11:28:19.686Z"
   },
   {
    "duration": 352,
    "start_time": "2023-08-11T11:28:19.719Z"
   },
   {
    "duration": 62,
    "start_time": "2023-08-11T11:28:20.074Z"
   },
   {
    "duration": 244,
    "start_time": "2023-08-11T11:28:20.157Z"
   },
   {
    "duration": 91,
    "start_time": "2023-08-11T11:28:20.403Z"
   },
   {
    "duration": 21,
    "start_time": "2023-08-11T11:28:20.495Z"
   },
   {
    "duration": 73,
    "start_time": "2023-08-11T11:28:20.518Z"
   },
   {
    "duration": 90,
    "start_time": "2023-08-11T11:28:20.592Z"
   },
   {
    "duration": 1090,
    "start_time": "2023-08-11T11:28:20.685Z"
   },
   {
    "duration": 0,
    "start_time": "2023-08-11T11:28:21.777Z"
   },
   {
    "duration": 0,
    "start_time": "2023-08-11T11:28:21.778Z"
   },
   {
    "duration": 0,
    "start_time": "2023-08-11T11:28:21.779Z"
   },
   {
    "duration": 0,
    "start_time": "2023-08-11T11:28:21.780Z"
   },
   {
    "duration": 0,
    "start_time": "2023-08-11T11:28:21.781Z"
   },
   {
    "duration": 0,
    "start_time": "2023-08-11T11:28:21.782Z"
   },
   {
    "duration": 0,
    "start_time": "2023-08-11T11:28:21.784Z"
   },
   {
    "duration": 0,
    "start_time": "2023-08-11T11:28:21.785Z"
   },
   {
    "duration": 0,
    "start_time": "2023-08-11T11:28:21.786Z"
   },
   {
    "duration": 23,
    "start_time": "2023-08-11T12:19:12.417Z"
   },
   {
    "duration": 6,
    "start_time": "2023-08-11T12:20:15.046Z"
   },
   {
    "duration": 6,
    "start_time": "2023-08-11T12:20:18.409Z"
   },
   {
    "duration": 169,
    "start_time": "2023-08-11T12:20:18.417Z"
   },
   {
    "duration": 84,
    "start_time": "2023-08-11T12:20:18.588Z"
   },
   {
    "duration": 17,
    "start_time": "2023-08-11T12:20:18.673Z"
   },
   {
    "duration": 16,
    "start_time": "2023-08-11T12:20:18.692Z"
   },
   {
    "duration": 130,
    "start_time": "2023-08-11T12:20:18.710Z"
   },
   {
    "duration": 156,
    "start_time": "2023-08-11T12:20:18.842Z"
   },
   {
    "duration": 85,
    "start_time": "2023-08-11T12:20:19.000Z"
   },
   {
    "duration": 45,
    "start_time": "2023-08-11T12:20:19.087Z"
   },
   {
    "duration": 57,
    "start_time": "2023-08-11T12:20:19.134Z"
   },
   {
    "duration": 3,
    "start_time": "2023-08-11T12:20:19.193Z"
   },
   {
    "duration": 22,
    "start_time": "2023-08-11T12:20:19.198Z"
   },
   {
    "duration": 250,
    "start_time": "2023-08-11T12:20:19.222Z"
   },
   {
    "duration": 3,
    "start_time": "2023-08-11T12:20:19.475Z"
   },
   {
    "duration": 36,
    "start_time": "2023-08-11T12:20:19.480Z"
   },
   {
    "duration": 658,
    "start_time": "2023-08-11T12:20:19.517Z"
   },
   {
    "duration": 308,
    "start_time": "2023-08-11T12:20:20.177Z"
   },
   {
    "duration": 35,
    "start_time": "2023-08-11T12:20:20.487Z"
   },
   {
    "duration": 41,
    "start_time": "2023-08-11T12:20:20.524Z"
   },
   {
    "duration": 30,
    "start_time": "2023-08-11T12:20:20.566Z"
   },
   {
    "duration": 325,
    "start_time": "2023-08-11T12:20:20.598Z"
   },
   {
    "duration": 72,
    "start_time": "2023-08-11T12:20:20.925Z"
   },
   {
    "duration": 231,
    "start_time": "2023-08-11T12:20:20.999Z"
   },
   {
    "duration": 87,
    "start_time": "2023-08-11T12:20:21.231Z"
   },
   {
    "duration": 19,
    "start_time": "2023-08-11T12:20:21.320Z"
   },
   {
    "duration": 66,
    "start_time": "2023-08-11T12:20:21.341Z"
   },
   {
    "duration": 81,
    "start_time": "2023-08-11T12:20:21.409Z"
   },
   {
    "duration": 94,
    "start_time": "2023-08-11T12:20:21.491Z"
   },
   {
    "duration": 0,
    "start_time": "2023-08-11T12:20:21.586Z"
   },
   {
    "duration": 0,
    "start_time": "2023-08-11T12:20:21.588Z"
   },
   {
    "duration": 0,
    "start_time": "2023-08-11T12:20:21.589Z"
   },
   {
    "duration": 0,
    "start_time": "2023-08-11T12:20:21.590Z"
   },
   {
    "duration": 0,
    "start_time": "2023-08-11T12:20:21.591Z"
   },
   {
    "duration": 0,
    "start_time": "2023-08-11T12:20:21.592Z"
   },
   {
    "duration": 0,
    "start_time": "2023-08-11T12:20:21.593Z"
   },
   {
    "duration": 0,
    "start_time": "2023-08-11T12:20:21.594Z"
   },
   {
    "duration": 0,
    "start_time": "2023-08-11T12:20:21.595Z"
   },
   {
    "duration": 37,
    "start_time": "2023-08-11T12:21:05.319Z"
   },
   {
    "duration": 13,
    "start_time": "2023-08-11T12:21:26.778Z"
   },
   {
    "duration": 77,
    "start_time": "2023-08-11T12:26:50.708Z"
   },
   {
    "duration": 32,
    "start_time": "2023-08-11T12:29:42.114Z"
   },
   {
    "duration": 33,
    "start_time": "2023-08-11T12:29:54.935Z"
   },
   {
    "duration": 36,
    "start_time": "2023-08-11T12:30:02.178Z"
   },
   {
    "duration": 98,
    "start_time": "2023-08-11T12:31:04.436Z"
   },
   {
    "duration": 32,
    "start_time": "2023-08-11T12:31:54.058Z"
   },
   {
    "duration": 36,
    "start_time": "2023-08-11T13:06:52.406Z"
   },
   {
    "duration": 6,
    "start_time": "2023-08-11T13:06:58.047Z"
   },
   {
    "duration": 177,
    "start_time": "2023-08-11T13:06:58.055Z"
   },
   {
    "duration": 77,
    "start_time": "2023-08-11T13:06:58.234Z"
   },
   {
    "duration": 20,
    "start_time": "2023-08-11T13:06:58.313Z"
   },
   {
    "duration": 36,
    "start_time": "2023-08-11T13:06:58.336Z"
   },
   {
    "duration": 149,
    "start_time": "2023-08-11T13:06:58.374Z"
   },
   {
    "duration": 148,
    "start_time": "2023-08-11T13:06:58.525Z"
   },
   {
    "duration": 57,
    "start_time": "2023-08-11T13:06:58.675Z"
   },
   {
    "duration": 58,
    "start_time": "2023-08-11T13:06:58.734Z"
   },
   {
    "duration": 41,
    "start_time": "2023-08-11T13:06:58.794Z"
   },
   {
    "duration": 12,
    "start_time": "2023-08-11T13:06:58.845Z"
   },
   {
    "duration": 16,
    "start_time": "2023-08-11T13:06:58.859Z"
   },
   {
    "duration": 328,
    "start_time": "2023-08-11T13:06:58.877Z"
   },
   {
    "duration": 5,
    "start_time": "2023-08-11T13:06:59.210Z"
   },
   {
    "duration": 49,
    "start_time": "2023-08-11T13:06:59.217Z"
   },
   {
    "duration": 750,
    "start_time": "2023-08-11T13:06:59.268Z"
   },
   {
    "duration": 323,
    "start_time": "2023-08-11T13:07:00.020Z"
   },
   {
    "duration": 46,
    "start_time": "2023-08-11T13:07:00.345Z"
   },
   {
    "duration": 32,
    "start_time": "2023-08-11T13:07:00.392Z"
   },
   {
    "duration": 53,
    "start_time": "2023-08-11T13:07:00.426Z"
   },
   {
    "duration": 229,
    "start_time": "2023-08-11T13:07:00.481Z"
   },
   {
    "duration": 73,
    "start_time": "2023-08-11T13:07:00.712Z"
   },
   {
    "duration": 259,
    "start_time": "2023-08-11T13:07:00.787Z"
   },
   {
    "duration": 83,
    "start_time": "2023-08-11T13:07:01.056Z"
   },
   {
    "duration": 31,
    "start_time": "2023-08-11T13:07:01.141Z"
   },
   {
    "duration": 100,
    "start_time": "2023-08-11T13:07:01.174Z"
   },
   {
    "duration": 33,
    "start_time": "2023-08-11T13:07:01.276Z"
   },
   {
    "duration": 89,
    "start_time": "2023-08-11T13:07:01.310Z"
   },
   {
    "duration": 7,
    "start_time": "2023-08-11T13:07:01.401Z"
   },
   {
    "duration": 69,
    "start_time": "2023-08-11T13:07:01.409Z"
   },
   {
    "duration": 39,
    "start_time": "2023-08-11T13:07:01.480Z"
   },
   {
    "duration": 161,
    "start_time": "2023-08-11T13:07:01.521Z"
   },
   {
    "duration": 159,
    "start_time": "2023-08-11T13:07:01.684Z"
   },
   {
    "duration": 150,
    "start_time": "2023-08-11T13:07:01.857Z"
   },
   {
    "duration": 261,
    "start_time": "2023-08-11T13:07:02.009Z"
   },
   {
    "duration": 33,
    "start_time": "2023-08-11T13:07:25.141Z"
   },
   {
    "duration": 34,
    "start_time": "2023-08-11T13:17:05.317Z"
   },
   {
    "duration": 32,
    "start_time": "2023-08-11T13:29:34.966Z"
   },
   {
    "duration": 44,
    "start_time": "2023-08-11T13:29:50.271Z"
   },
   {
    "duration": 72,
    "start_time": "2023-08-11T13:30:03.207Z"
   },
   {
    "duration": 29,
    "start_time": "2023-08-11T13:30:08.231Z"
   },
   {
    "duration": 22,
    "start_time": "2023-08-11T13:30:22.356Z"
   },
   {
    "duration": 23,
    "start_time": "2023-08-11T13:30:34.434Z"
   },
   {
    "duration": 23,
    "start_time": "2023-08-11T13:30:39.862Z"
   },
   {
    "duration": 13,
    "start_time": "2023-08-11T13:30:49.175Z"
   },
   {
    "duration": 23,
    "start_time": "2023-08-11T13:31:03.023Z"
   },
   {
    "duration": 70,
    "start_time": "2023-08-11T13:31:13.624Z"
   },
   {
    "duration": 32,
    "start_time": "2023-08-11T13:31:31.878Z"
   },
   {
    "duration": 67,
    "start_time": "2023-08-11T13:32:26.502Z"
   }
  ],
  "kernelspec": {
   "display_name": "Python 3 (ipykernel)",
   "language": "python",
   "name": "python3"
  },
  "language_info": {
   "codemirror_mode": {
    "name": "ipython",
    "version": 3
   },
   "file_extension": ".py",
   "mimetype": "text/x-python",
   "name": "python",
   "nbconvert_exporter": "python",
   "pygments_lexer": "ipython3",
   "version": "3.9.5"
  },
  "toc": {
   "base_numbering": 1,
   "nav_menu": {},
   "number_sections": false,
   "sideBar": true,
   "skip_h1_title": false,
   "title_cell": "Table of Contents",
   "title_sidebar": "Contents",
   "toc_cell": false,
   "toc_position": {},
   "toc_section_display": true,
   "toc_window_display": true
  }
 },
 "nbformat": 4,
 "nbformat_minor": 2
}
