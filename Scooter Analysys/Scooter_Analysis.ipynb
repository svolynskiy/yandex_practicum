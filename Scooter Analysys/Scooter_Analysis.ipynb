{
 "cells": [
  {
   "cell_type": "markdown",
   "id": "9a784b69",
   "metadata": {},
   "source": [
    "# Проект: Статистический анализ данных"
   ]
  },
  {
   "cell_type": "markdown",
   "id": "520a9189",
   "metadata": {},
   "source": [
    "Вы аналитик популярного сервиса аренды самокатов GoFast. Вам передали данные о некоторых пользователях из нескольких городов, а также об их поездках. Проанализируйте данные и проверьте некоторые гипотезы, которые могут помочь бизнесу вырасти.\n",
    "Чтобы совершать поездки по городу, пользователи сервиса GoFast пользуются мобильным приложением. Сервисом можно пользоваться:\n",
    "•\tбез подписки \n",
    "o\tабонентская плата отсутствует;\n",
    "o\tстоимость одной минуты поездки — 8 рублей;\n",
    "o\tстоимость старта (начала поездки) — 50 рублей;\n",
    "•\tс подпиской Ultra \n",
    "o\tабонентская плата — 199 рублей в месяц;\n",
    "o\tстоимость одной минуты поездки — 6 рублей;\n",
    "o\tстоимость старта — бесплатно.\n",
    "Описание данных  \n",
    "В основных данных есть информация о пользователях, их поездках и подписках.\n"
   ]
  },
  {
   "cell_type": "markdown",
   "id": "ec65718e",
   "metadata": {},
   "source": [
    "Пользователи — users_go.csv  \n",
    "user_id\tуникальный идентификатор пользователя\n",
    "name\tимя пользователя\n",
    "age\tвозраст\n",
    "city\tгород\n",
    "subscription_type\tтип подписки (free, ultra)\n",
    "\n",
    "Поездки — rides_go.csv  \n",
    "user_id\tуникальный идентификатор пользователя\n",
    "distance\tрасстояние, которое пользователь проехал в текущей сессии (в метрах)\n",
    "duration\tпродолжительность сессии (в минутах) — время с того момента, как пользователь нажал кнопку «Начать поездку» до момента, как он нажал кнопку «Завершить поездку»\n",
    "date\tдата совершения поездки\n",
    "\n",
    "Подписки — subscriptions_go.csv  \n",
    "subscription_type\tтип подписки\n",
    "minute_price\tстоимость одной минуты поездки по данной подписке\n",
    "start_ride_price\tстоимость начала поездки\n",
    "subscription_fee\tстоимость ежемесячного платежа\n"
   ]
  },
  {
   "cell_type": "markdown",
   "id": "0c0b5cf5",
   "metadata": {},
   "source": [
    "#### Шаг 1. Загрузка данных"
   ]
  },
  {
   "cell_type": "markdown",
   "id": "452508c0",
   "metadata": {},
   "source": [
    "<div class=\"alert alert-block alert-info\">\n",
    "<b>🔄Комментарий № 1 студента :</b>   \n",
    "Здесь и далее по требованию Яндекс-Практикум УДАЛЕНЫ замечания ревьюера.  \n",
    "\n",
    "Учтены замечания ревьюера! ✔\n",
    "</div>"
   ]
  },
  {
   "cell_type": "code",
   "execution_count": 1,
   "id": "822aeae7",
   "metadata": {},
   "outputs": [],
   "source": [
    "#импорт всех библиотек в одной ячейке\n",
    "import pandas as pd\n",
    "import numpy as np \n",
    "from scipy import stats as st\n",
    "#from scipy.stats import binom\n",
    "from math import sqrt\n",
    "from matplotlib import pyplot as plt\n",
    "#import matplotlib.pyplot as plt\n",
    "from scipy.stats import binom, norm"
   ]
  },
  {
   "cell_type": "markdown",
   "id": "4f1b155b",
   "metadata": {},
   "source": [
    "1.1 Считайте CSV-файлы с данными с помощью библиотеки Pandas и сохраните их в датафреймы. Пути к файлам:\n",
    "•\t/datasets/users_go.csv\n",
    "•\t/datasets/rides_go.csv\n",
    "•\t/datasets/subscriptions_go.csv"
   ]
  },
  {
   "cell_type": "code",
   "execution_count": 2,
   "id": "2358d0e8",
   "metadata": {},
   "outputs": [],
   "source": [
    "users_go = pd.read_csv('/datasets/users_go.csv')\n",
    "rides_go = pd.read_csv('/datasets/rides_go.csv')\n",
    "subscriptions_go = pd.read_csv('/datasets/subscriptions_go.csv')"
   ]
  },
  {
   "cell_type": "markdown",
   "id": "78126693",
   "metadata": {},
   "source": [
    "1.2 Выведите первые строки каждого набора данных. Изучите общую информацию о каждом датафрейме."
   ]
  },
  {
   "cell_type": "markdown",
   "id": "62000718",
   "metadata": {},
   "source": [
    "<div class=\"alert alert-block alert-info\">\n",
    "<b>🔄Комментарий № 1 студента :</b> \n",
    "Учтены замечания ревьюера - убираем Print ✔\n",
    "</div>"
   ]
  },
  {
   "cell_type": "code",
   "execution_count": 3,
   "id": "b218409d",
   "metadata": {},
   "outputs": [
    {
     "name": "stdout",
     "output_type": "stream",
     "text": [
      "<class 'pandas.core.frame.DataFrame'>\n",
      "RangeIndex: 1565 entries, 0 to 1564\n",
      "Data columns (total 5 columns):\n",
      " #   Column             Non-Null Count  Dtype \n",
      "---  ------             --------------  ----- \n",
      " 0   user_id            1565 non-null   int64 \n",
      " 1   name               1565 non-null   object\n",
      " 2   age                1565 non-null   int64 \n",
      " 3   city               1565 non-null   object\n",
      " 4   subscription_type  1565 non-null   object\n",
      "dtypes: int64(2), object(3)\n",
      "memory usage: 61.3+ KB\n"
     ]
    },
    {
     "data": {
      "text/html": [
       "<div>\n",
       "<style scoped>\n",
       "    .dataframe tbody tr th:only-of-type {\n",
       "        vertical-align: middle;\n",
       "    }\n",
       "\n",
       "    .dataframe tbody tr th {\n",
       "        vertical-align: top;\n",
       "    }\n",
       "\n",
       "    .dataframe thead th {\n",
       "        text-align: right;\n",
       "    }\n",
       "</style>\n",
       "<table border=\"1\" class=\"dataframe\">\n",
       "  <thead>\n",
       "    <tr style=\"text-align: right;\">\n",
       "      <th></th>\n",
       "      <th>user_id</th>\n",
       "      <th>name</th>\n",
       "      <th>age</th>\n",
       "      <th>city</th>\n",
       "      <th>subscription_type</th>\n",
       "    </tr>\n",
       "  </thead>\n",
       "  <tbody>\n",
       "    <tr>\n",
       "      <th>0</th>\n",
       "      <td>1</td>\n",
       "      <td>Кира</td>\n",
       "      <td>22</td>\n",
       "      <td>Тюмень</td>\n",
       "      <td>ultra</td>\n",
       "    </tr>\n",
       "    <tr>\n",
       "      <th>1</th>\n",
       "      <td>2</td>\n",
       "      <td>Станислав</td>\n",
       "      <td>31</td>\n",
       "      <td>Омск</td>\n",
       "      <td>ultra</td>\n",
       "    </tr>\n",
       "    <tr>\n",
       "      <th>2</th>\n",
       "      <td>3</td>\n",
       "      <td>Алексей</td>\n",
       "      <td>20</td>\n",
       "      <td>Москва</td>\n",
       "      <td>ultra</td>\n",
       "    </tr>\n",
       "    <tr>\n",
       "      <th>3</th>\n",
       "      <td>4</td>\n",
       "      <td>Константин</td>\n",
       "      <td>26</td>\n",
       "      <td>Ростов-на-Дону</td>\n",
       "      <td>ultra</td>\n",
       "    </tr>\n",
       "    <tr>\n",
       "      <th>4</th>\n",
       "      <td>5</td>\n",
       "      <td>Адель</td>\n",
       "      <td>28</td>\n",
       "      <td>Омск</td>\n",
       "      <td>ultra</td>\n",
       "    </tr>\n",
       "  </tbody>\n",
       "</table>\n",
       "</div>"
      ],
      "text/plain": [
       "   user_id        name  age            city subscription_type\n",
       "0        1        Кира   22          Тюмень             ultra\n",
       "1        2   Станислав   31            Омск             ultra\n",
       "2        3     Алексей   20          Москва             ultra\n",
       "3        4  Константин   26  Ростов-на-Дону             ultra\n",
       "4        5       Адель   28            Омск             ultra"
      ]
     },
     "execution_count": 3,
     "metadata": {},
     "output_type": "execute_result"
    }
   ],
   "source": [
    "#print(users_go.head(5) )\n",
    "users_go.info()\n",
    "users_go.head(5)"
   ]
  },
  {
   "cell_type": "code",
   "execution_count": 4,
   "id": "1958f396",
   "metadata": {},
   "outputs": [
    {
     "name": "stdout",
     "output_type": "stream",
     "text": [
      "<class 'pandas.core.frame.DataFrame'>\n",
      "RangeIndex: 18068 entries, 0 to 18067\n",
      "Data columns (total 4 columns):\n",
      " #   Column    Non-Null Count  Dtype  \n",
      "---  ------    --------------  -----  \n",
      " 0   user_id   18068 non-null  int64  \n",
      " 1   distance  18068 non-null  float64\n",
      " 2   duration  18068 non-null  float64\n",
      " 3   date      18068 non-null  object \n",
      "dtypes: float64(2), int64(1), object(1)\n",
      "memory usage: 564.8+ KB\n"
     ]
    },
    {
     "data": {
      "text/html": [
       "<div>\n",
       "<style scoped>\n",
       "    .dataframe tbody tr th:only-of-type {\n",
       "        vertical-align: middle;\n",
       "    }\n",
       "\n",
       "    .dataframe tbody tr th {\n",
       "        vertical-align: top;\n",
       "    }\n",
       "\n",
       "    .dataframe thead th {\n",
       "        text-align: right;\n",
       "    }\n",
       "</style>\n",
       "<table border=\"1\" class=\"dataframe\">\n",
       "  <thead>\n",
       "    <tr style=\"text-align: right;\">\n",
       "      <th></th>\n",
       "      <th>user_id</th>\n",
       "      <th>distance</th>\n",
       "      <th>duration</th>\n",
       "      <th>date</th>\n",
       "    </tr>\n",
       "  </thead>\n",
       "  <tbody>\n",
       "    <tr>\n",
       "      <th>0</th>\n",
       "      <td>1</td>\n",
       "      <td>4409.919140</td>\n",
       "      <td>25.599769</td>\n",
       "      <td>2021-01-01</td>\n",
       "    </tr>\n",
       "    <tr>\n",
       "      <th>1</th>\n",
       "      <td>1</td>\n",
       "      <td>2617.592153</td>\n",
       "      <td>15.816871</td>\n",
       "      <td>2021-01-18</td>\n",
       "    </tr>\n",
       "    <tr>\n",
       "      <th>2</th>\n",
       "      <td>1</td>\n",
       "      <td>754.159807</td>\n",
       "      <td>6.232113</td>\n",
       "      <td>2021-04-20</td>\n",
       "    </tr>\n",
       "    <tr>\n",
       "      <th>3</th>\n",
       "      <td>1</td>\n",
       "      <td>2694.783254</td>\n",
       "      <td>18.511000</td>\n",
       "      <td>2021-08-11</td>\n",
       "    </tr>\n",
       "    <tr>\n",
       "      <th>4</th>\n",
       "      <td>1</td>\n",
       "      <td>4028.687306</td>\n",
       "      <td>26.265803</td>\n",
       "      <td>2021-08-28</td>\n",
       "    </tr>\n",
       "  </tbody>\n",
       "</table>\n",
       "</div>"
      ],
      "text/plain": [
       "   user_id     distance   duration        date\n",
       "0        1  4409.919140  25.599769  2021-01-01\n",
       "1        1  2617.592153  15.816871  2021-01-18\n",
       "2        1   754.159807   6.232113  2021-04-20\n",
       "3        1  2694.783254  18.511000  2021-08-11\n",
       "4        1  4028.687306  26.265803  2021-08-28"
      ]
     },
     "execution_count": 4,
     "metadata": {},
     "output_type": "execute_result"
    }
   ],
   "source": [
    "rides_go.info()\n",
    "rides_go.head(5)"
   ]
  },
  {
   "cell_type": "code",
   "execution_count": 5,
   "id": "506f4868",
   "metadata": {},
   "outputs": [
    {
     "name": "stdout",
     "output_type": "stream",
     "text": [
      "<class 'pandas.core.frame.DataFrame'>\n",
      "RangeIndex: 2 entries, 0 to 1\n",
      "Data columns (total 4 columns):\n",
      " #   Column             Non-Null Count  Dtype \n",
      "---  ------             --------------  ----- \n",
      " 0   subscription_type  2 non-null      object\n",
      " 1   minute_price       2 non-null      int64 \n",
      " 2   start_ride_price   2 non-null      int64 \n",
      " 3   subscription_fee   2 non-null      int64 \n",
      "dtypes: int64(3), object(1)\n",
      "memory usage: 192.0+ bytes\n"
     ]
    },
    {
     "data": {
      "text/html": [
       "<div>\n",
       "<style scoped>\n",
       "    .dataframe tbody tr th:only-of-type {\n",
       "        vertical-align: middle;\n",
       "    }\n",
       "\n",
       "    .dataframe tbody tr th {\n",
       "        vertical-align: top;\n",
       "    }\n",
       "\n",
       "    .dataframe thead th {\n",
       "        text-align: right;\n",
       "    }\n",
       "</style>\n",
       "<table border=\"1\" class=\"dataframe\">\n",
       "  <thead>\n",
       "    <tr style=\"text-align: right;\">\n",
       "      <th></th>\n",
       "      <th>subscription_type</th>\n",
       "      <th>minute_price</th>\n",
       "      <th>start_ride_price</th>\n",
       "      <th>subscription_fee</th>\n",
       "    </tr>\n",
       "  </thead>\n",
       "  <tbody>\n",
       "    <tr>\n",
       "      <th>0</th>\n",
       "      <td>free</td>\n",
       "      <td>8</td>\n",
       "      <td>50</td>\n",
       "      <td>0</td>\n",
       "    </tr>\n",
       "    <tr>\n",
       "      <th>1</th>\n",
       "      <td>ultra</td>\n",
       "      <td>6</td>\n",
       "      <td>0</td>\n",
       "      <td>199</td>\n",
       "    </tr>\n",
       "  </tbody>\n",
       "</table>\n",
       "</div>"
      ],
      "text/plain": [
       "  subscription_type  minute_price  start_ride_price  subscription_fee\n",
       "0              free             8                50                 0\n",
       "1             ultra             6                 0               199"
      ]
     },
     "execution_count": 5,
     "metadata": {},
     "output_type": "execute_result"
    }
   ],
   "source": [
    "#print(subscriptions_go.head(2) )\n",
    "subscriptions_go.info()\n",
    "subscriptions_go"
   ]
  },
  {
   "cell_type": "markdown",
   "id": "1c3493bb",
   "metadata": {},
   "source": [
    "<div class=\"alert alert-block alert-info\">\n",
    "<b>🔄Вывод 1:</b> \n",
    "Все данные загружены, некоторые столбцы содержат дату как Object. ✔\n",
    "</div>"
   ]
  },
  {
   "cell_type": "markdown",
   "id": "bce54625",
   "metadata": {},
   "source": [
    "#### Шаг 2. Предобработка данных"
   ]
  },
  {
   "cell_type": "markdown",
   "id": "f38e73e9",
   "metadata": {},
   "source": [
    "2.1 Приведите столбец date к типу даты Pandas.  "
   ]
  },
  {
   "cell_type": "code",
   "execution_count": 6,
   "id": "7425cb44",
   "metadata": {},
   "outputs": [],
   "source": [
    "rides_go['date']= rides_go['date'].astype('datetime64')"
   ]
  },
  {
   "cell_type": "markdown",
   "id": "c5fb6c77",
   "metadata": {},
   "source": [
    "2.2 Создайте новый столбец с номером месяца на основе столбца date.  "
   ]
  },
  {
   "cell_type": "code",
   "execution_count": 7,
   "id": "1f2d30e1",
   "metadata": {},
   "outputs": [
    {
     "name": "stdout",
     "output_type": "stream",
     "text": [
      "   user_id     distance   duration       date  ride_month\n",
      "0        1  4409.919140  25.599769 2021-01-01           1\n",
      "1        1  2617.592153  15.816871 2021-01-18           1\n",
      "2        1   754.159807   6.232113 2021-04-20           4\n",
      "3        1  2694.783254  18.511000 2021-08-11           8\n",
      "4        1  4028.687306  26.265803 2021-08-28           8\n",
      "<class 'pandas.core.frame.DataFrame'>\n",
      "RangeIndex: 18068 entries, 0 to 18067\n",
      "Data columns (total 5 columns):\n",
      " #   Column      Non-Null Count  Dtype         \n",
      "---  ------      --------------  -----         \n",
      " 0   user_id     18068 non-null  int64         \n",
      " 1   distance    18068 non-null  float64       \n",
      " 2   duration    18068 non-null  float64       \n",
      " 3   date        18068 non-null  datetime64[ns]\n",
      " 4   ride_month  18068 non-null  int64         \n",
      "dtypes: datetime64[ns](1), float64(2), int64(2)\n",
      "memory usage: 705.9 KB\n"
     ]
    }
   ],
   "source": [
    "rides_go['ride_month'] =pd.DatetimeIndex(rides_go['date']).month \n",
    "print(rides_go.head(5) )\n",
    "rides_go.info()"
   ]
  },
  {
   "cell_type": "markdown",
   "id": "7c0830d0",
   "metadata": {},
   "source": [
    "<div class=\"alert alert-block alert-info\">\n",
    "<b>🔄Комментарий № 2 студента :</b> \n",
    "Учтены замечания ревьюера! ✔\n",
    "</div>"
   ]
  },
  {
   "cell_type": "code",
   "execution_count": 8,
   "id": "d7a936ba",
   "metadata": {},
   "outputs": [
    {
     "data": {
      "text/plain": [
       "(Timestamp('2021-01-01 00:00:00'), Timestamp('2021-12-30 00:00:00'))"
      ]
     },
     "execution_count": 8,
     "metadata": {},
     "output_type": "execute_result"
    }
   ],
   "source": [
    "#данные за какой период у нас имеются \n",
    "rides_go['date'].min(),rides_go['date'].max()"
   ]
  },
  {
   "cell_type": "markdown",
   "id": "5457a6eb",
   "metadata": {},
   "source": [
    "2.3 Проверьте наличие пропущенных значений и дубликатов в датафреймах. Обработайте их, если такие значения присутствуют."
   ]
  },
  {
   "cell_type": "code",
   "execution_count": 9,
   "id": "092d46b4",
   "metadata": {},
   "outputs": [
    {
     "name": "stdout",
     "output_type": "stream",
     "text": [
      "user_id              0\n",
      "name                 0\n",
      "age                  0\n",
      "city                 0\n",
      "subscription_type    0\n",
      "dtype: int64\n",
      "user_id       0\n",
      "distance      0\n",
      "duration      0\n",
      "date          0\n",
      "ride_month    0\n",
      "dtype: int64\n",
      "subscription_type    0\n",
      "minute_price         0\n",
      "start_ride_price     0\n",
      "subscription_fee     0\n",
      "dtype: int64\n",
      "\n",
      " Дубликаты:\n",
      "users_go 31\n",
      "rides_go 0\n",
      "subscriptions_go 0\n"
     ]
    },
    {
     "data": {
      "text/html": [
       "<div>\n",
       "<style scoped>\n",
       "    .dataframe tbody tr th:only-of-type {\n",
       "        vertical-align: middle;\n",
       "    }\n",
       "\n",
       "    .dataframe tbody tr th {\n",
       "        vertical-align: top;\n",
       "    }\n",
       "\n",
       "    .dataframe thead th {\n",
       "        text-align: right;\n",
       "    }\n",
       "</style>\n",
       "<table border=\"1\" class=\"dataframe\">\n",
       "  <thead>\n",
       "    <tr style=\"text-align: right;\">\n",
       "      <th></th>\n",
       "      <th>user_id</th>\n",
       "      <th>name</th>\n",
       "      <th>age</th>\n",
       "      <th>city</th>\n",
       "      <th>subscription_type</th>\n",
       "    </tr>\n",
       "  </thead>\n",
       "  <tbody>\n",
       "    <tr>\n",
       "      <th>0</th>\n",
       "      <td>1</td>\n",
       "      <td>Кира</td>\n",
       "      <td>22</td>\n",
       "      <td>Тюмень</td>\n",
       "      <td>ultra</td>\n",
       "    </tr>\n",
       "    <tr>\n",
       "      <th>1</th>\n",
       "      <td>2</td>\n",
       "      <td>Станислав</td>\n",
       "      <td>31</td>\n",
       "      <td>Омск</td>\n",
       "      <td>ultra</td>\n",
       "    </tr>\n",
       "    <tr>\n",
       "      <th>2</th>\n",
       "      <td>3</td>\n",
       "      <td>Алексей</td>\n",
       "      <td>20</td>\n",
       "      <td>Москва</td>\n",
       "      <td>ultra</td>\n",
       "    </tr>\n",
       "    <tr>\n",
       "      <th>3</th>\n",
       "      <td>4</td>\n",
       "      <td>Константин</td>\n",
       "      <td>26</td>\n",
       "      <td>Ростов-на-Дону</td>\n",
       "      <td>ultra</td>\n",
       "    </tr>\n",
       "    <tr>\n",
       "      <th>4</th>\n",
       "      <td>5</td>\n",
       "      <td>Адель</td>\n",
       "      <td>28</td>\n",
       "      <td>Омск</td>\n",
       "      <td>ultra</td>\n",
       "    </tr>\n",
       "    <tr>\n",
       "      <th>...</th>\n",
       "      <td>...</td>\n",
       "      <td>...</td>\n",
       "      <td>...</td>\n",
       "      <td>...</td>\n",
       "      <td>...</td>\n",
       "    </tr>\n",
       "    <tr>\n",
       "      <th>1529</th>\n",
       "      <td>1530</td>\n",
       "      <td>Ростислав</td>\n",
       "      <td>29</td>\n",
       "      <td>Сочи</td>\n",
       "      <td>free</td>\n",
       "    </tr>\n",
       "    <tr>\n",
       "      <th>1530</th>\n",
       "      <td>1531</td>\n",
       "      <td>Никита</td>\n",
       "      <td>25</td>\n",
       "      <td>Пятигорск</td>\n",
       "      <td>free</td>\n",
       "    </tr>\n",
       "    <tr>\n",
       "      <th>1531</th>\n",
       "      <td>1532</td>\n",
       "      <td>Алексей</td>\n",
       "      <td>26</td>\n",
       "      <td>Тюмень</td>\n",
       "      <td>free</td>\n",
       "    </tr>\n",
       "    <tr>\n",
       "      <th>1532</th>\n",
       "      <td>1533</td>\n",
       "      <td>Степан</td>\n",
       "      <td>22</td>\n",
       "      <td>Краснодар</td>\n",
       "      <td>free</td>\n",
       "    </tr>\n",
       "    <tr>\n",
       "      <th>1533</th>\n",
       "      <td>1534</td>\n",
       "      <td>Альберт</td>\n",
       "      <td>25</td>\n",
       "      <td>Краснодар</td>\n",
       "      <td>free</td>\n",
       "    </tr>\n",
       "  </tbody>\n",
       "</table>\n",
       "<p>1534 rows × 5 columns</p>\n",
       "</div>"
      ],
      "text/plain": [
       "      user_id        name  age            city subscription_type\n",
       "0           1        Кира   22          Тюмень             ultra\n",
       "1           2   Станислав   31            Омск             ultra\n",
       "2           3     Алексей   20          Москва             ultra\n",
       "3           4  Константин   26  Ростов-на-Дону             ultra\n",
       "4           5       Адель   28            Омск             ultra\n",
       "...       ...         ...  ...             ...               ...\n",
       "1529     1530   Ростислав   29            Сочи              free\n",
       "1530     1531      Никита   25       Пятигорск              free\n",
       "1531     1532     Алексей   26          Тюмень              free\n",
       "1532     1533      Степан   22       Краснодар              free\n",
       "1533     1534     Альберт   25       Краснодар              free\n",
       "\n",
       "[1534 rows x 5 columns]"
      ]
     },
     "execution_count": 9,
     "metadata": {},
     "output_type": "execute_result"
    }
   ],
   "source": [
    "#Пропущенные есть?\n",
    "print(users_go.isna().sum()) \n",
    "print(rides_go.isna().sum()) \n",
    "print(subscriptions_go.isna().sum()) \n",
    "print('\\n Дубликаты:')\n",
    "print('users_go', users_go.duplicated().sum())  #Было 1565 строк\n",
    "print('rides_go', rides_go.duplicated().sum()) \n",
    "print('subscriptions_go', subscriptions_go.duplicated().sum()) \n",
    "users_go = users_go.drop_duplicates().reset_index(drop=True) \n",
    "#print('users_go', users_go.duplicated().sum())  #Было 1565 строк\n",
    "#print(users_go) #Стало 1534\n",
    "users_go"
   ]
  },
  {
   "cell_type": "markdown",
   "id": "c8acfdb5",
   "metadata": {},
   "source": [
    "<div class=\"alert alert-block alert-info\">\n",
    "<b>🔄Вывод 2:</b> \n",
    "Все данные загружены, типы столбцов преобразованы. Проверено наличие пропущенных значений (их нет) и дубликатов в датафреймах (31 дубликат найден и удален).\n",
    "</div>"
   ]
  },
  {
   "cell_type": "markdown",
   "id": "f988e4da",
   "metadata": {},
   "source": [
    "#### Шаг 3. Исследовательский анализ данных"
   ]
  },
  {
   "cell_type": "markdown",
   "id": "81201058",
   "metadata": {},
   "source": [
    "Опишите и визуализируйте общую информацию о пользователях и поездках:  \n",
    "3.1 частота встречаемости городов;"
   ]
  },
  {
   "cell_type": "code",
   "execution_count": 10,
   "id": "52bdfd3f",
   "metadata": {},
   "outputs": [
    {
     "data": {
      "text/plain": [
       "array(['Тюмень', 'Омск', 'Москва', 'Ростов-на-Дону', 'Краснодар',\n",
       "       'Пятигорск', 'Екатеринбург', 'Сочи'], dtype=object)"
      ]
     },
     "metadata": {},
     "output_type": "display_data"
    }
   ],
   "source": [
    "display(users_go.city.unique() )\n",
    "#users_go.city.hist(figsize = (10,8)); #orientation='horizontal'"
   ]
  },
  {
   "cell_type": "code",
   "execution_count": 11,
   "id": "345e1377",
   "metadata": {},
   "outputs": [
    {
     "data": {
      "image/png": "[encoded data removed]",
      "text/plain": [
       "<Figure size 432x288 with 1 Axes>"
      ]
     },
     "metadata": {
      "needs_background": "light"
     },
     "output_type": "display_data"
    }
   ],
   "source": [
    "#Учтен комментарий ревьюера на красном фоне\n",
    "ug_pt1 = users_go.groupby('city')['city'].count().sort_values(ascending=True)\n",
    "ug_pt1.plot(kind='barh',title=\"К-во пользователей по городам\",xlabel=\"Город\",ylabel=\"К-во\")\n",
    "plt.show()"
   ]
  },
  {
   "cell_type": "markdown",
   "id": "813ae23b",
   "metadata": {},
   "source": [
    "3.2 соотношение пользователей с подпиской и без подписки;\n"
   ]
  },
  {
   "cell_type": "code",
   "execution_count": 12,
   "id": "076b1c94",
   "metadata": {},
   "outputs": [
    {
     "name": "stdout",
     "output_type": "stream",
     "text": [
      "                   name\n",
      "subscription_type      \n",
      "free                835\n",
      "ultra               699\n"
     ]
    },
    {
     "data": {
      "image/png": "[encoded data removed]",
      "text/plain": [
       "<Figure size 576x576 with 1 Axes>"
      ]
     },
     "metadata": {},
     "output_type": "display_data"
    }
   ],
   "source": [
    "##Учтен комментарий ревьюера на желтом фоне\n",
    "us_go_pt1=users_go.pivot_table(index=['subscription_type'], values='name', aggfunc='count')#.reset_index(True) \n",
    "#pivot_table(index=['category_name', 'subcategory_name'], columns='source', values='visits', aggfunc='sum')\n",
    "us_go_pt1=us_go_pt1.rename({\"name\":\"total\"}) #не работает\n",
    "print(us_go_pt1)\n",
    "us_go_pt1.plot(kind='pie',title =\"Cоотношение пользователей с подпиской и без подписки, %\", y='name',ylabel=\"\",autopct='%.2f',figsize=(8, 8));"
   ]
  },
  {
   "cell_type": "markdown",
   "id": "861533cb",
   "metadata": {},
   "source": [
    "3.3 возраст пользователей;"
   ]
  },
  {
   "cell_type": "code",
   "execution_count": 13,
   "id": "b5d4cc49",
   "metadata": {},
   "outputs": [
    {
     "data": {
      "text/plain": [
       "24.903520208604956"
      ]
     },
     "execution_count": 13,
     "metadata": {},
     "output_type": "execute_result"
    },
    {
     "data": {
      "image/png": "[encoded data removed]",
      "text/plain": [
       "<Figure size 432x288 with 1 Axes>"
      ]
     },
     "metadata": {
      "needs_background": "light"
     },
     "output_type": "display_data"
    }
   ],
   "source": [
    "plt.xlabel(\"Возраст, лет\")\n",
    "plt.ylabel(\"Количество пользователей\")\n",
    "plt.title(\"Зависимость количества пользователей от возраста\")\n",
    "users_go.age.hist(bins=30)\n",
    "users_go.age.mean()"
   ]
  },
  {
   "cell_type": "markdown",
   "id": "9b0210bf",
   "metadata": {},
   "source": [
    "3.4 расстояние, которое пользователь преодолел за одну поездку;"
   ]
  },
  {
   "cell_type": "code",
   "execution_count": 14,
   "id": "115135bb",
   "metadata": {},
   "outputs": [
    {
     "data": {
      "text/plain": [
       "3070.6599756818814"
      ]
     },
     "execution_count": 14,
     "metadata": {},
     "output_type": "execute_result"
    },
    {
     "data": {
      "image/png": "[encoded data removed]",
      "text/plain": [
       "<Figure size 432x288 with 1 Axes>"
      ]
     },
     "metadata": {
      "needs_background": "light"
     },
     "output_type": "display_data"
    }
   ],
   "source": [
    "#Учтен комментарий ревьюера на красном фоне\n",
    "#rides_go_pt1=rides_go.pivot_table(index=['user_id'], values='distance', aggfunc='mean')\n",
    "#print(rides_go_pt1)\n",
    "#rides_go_pt1.hist();\n",
    "plt.xlabel(\"Расстояние, м\")\n",
    "plt.ylabel(\"Количество пользователей\")\n",
    "plt.title(\"Расстояние, которое пользователь преодолел за одну поездку\")\n",
    "rides_go.distance.hist(bins=100);\n",
    "rides_go.distance.mean()"
   ]
  },
  {
   "cell_type": "markdown",
   "id": "c144ad2d",
   "metadata": {},
   "source": [
    "3.5 продолжительность поездок."
   ]
  },
  {
   "cell_type": "code",
   "execution_count": 15,
   "id": "7a8fb32f",
   "metadata": {},
   "outputs": [
    {
     "data": {
      "text/plain": [
       "17.80501119798444"
      ]
     },
     "execution_count": 15,
     "metadata": {},
     "output_type": "execute_result"
    },
    {
     "data": {
      "image/png": "[encoded data removed]",
      "text/plain": [
       "<Figure size 432x288 with 1 Axes>"
      ]
     },
     "metadata": {
      "needs_background": "light"
     },
     "output_type": "display_data"
    }
   ],
   "source": [
    "##Учтен комментарий ревьюера на красном фоне\n",
    "#rides_go_pt2=rides_go.pivot_table(index=['user_id'], values='duration', aggfunc='mean')\n",
    "#print(rides_go_pt2)\n",
    "#rides_go_pt2.hist();\n",
    "plt.xlabel(\"Продолжительность поездки, мин\")\n",
    "plt.ylabel(\"Количество пользователей\")\n",
    "plt.title(\"Зависимость количества пользователей от продолжительности поездок.\")\n",
    "rides_go['duration'].hist(bins=100)\n",
    "rides_go.duration.mean()"
   ]
  },
  {
   "cell_type": "markdown",
   "id": "c325fa26",
   "metadata": {},
   "source": [
    "<div class=\"alert alert-block alert-info\">\n",
    "<b>🔄Вывод 3:</b>  \n",
    "    \n",
    "1) Самое маленькое количество пользователей сервиса в Москве, видимо, из-за конкурентов.  \n",
    "    \n",
    "2) 54% пользователей - без подписки (free).  \n",
    "\n",
    "3) Распределение возрастов -\"нормальное\". Пик на графике практически совпадает с медианой - 25 лет.\n",
    "    \n",
    "4) Дистанции, которые пользователь преодолел за 1 поездку, имеют 2 максимума -в малом и среднем диапазоне (видимо, слишком разные по масштабам города попали в исследование). Медиана 3070 м на графике практически совпадает с пиком в среднем диапазоне. \n",
    "    \n",
    "5) Продолжительность поездок имеет всплеск (выброс) около 0 минут, видимо, связанный с техническими неисправностями самоката СРАЗУ при начале движения. Медиана (17 минут) на графике практически совпадает с пиком в среднем диапазоне.\n",
    "</div>"
   ]
  },
  {
   "cell_type": "markdown",
   "id": "c40880d9",
   "metadata": {},
   "source": [
    "#### Шаг 4. Объединение данных"
   ]
  },
  {
   "cell_type": "markdown",
   "id": "3e2cf107",
   "metadata": {},
   "source": [
    "4.1 Объедините данные о пользователях, поездках и подписках в один датафрейм. Для этого воспользуйтесь методом merge()."
   ]
  },
  {
   "cell_type": "code",
   "execution_count": 16,
   "id": "0a530461",
   "metadata": {},
   "outputs": [
    {
     "data": {
      "text/html": [
       "<div>\n",
       "<style scoped>\n",
       "    .dataframe tbody tr th:only-of-type {\n",
       "        vertical-align: middle;\n",
       "    }\n",
       "\n",
       "    .dataframe tbody tr th {\n",
       "        vertical-align: top;\n",
       "    }\n",
       "\n",
       "    .dataframe thead th {\n",
       "        text-align: right;\n",
       "    }\n",
       "</style>\n",
       "<table border=\"1\" class=\"dataframe\">\n",
       "  <thead>\n",
       "    <tr style=\"text-align: right;\">\n",
       "      <th></th>\n",
       "      <th>user_id</th>\n",
       "      <th>name</th>\n",
       "      <th>age</th>\n",
       "      <th>city</th>\n",
       "      <th>subscription_type</th>\n",
       "      <th>distance</th>\n",
       "      <th>duration</th>\n",
       "      <th>date</th>\n",
       "      <th>ride_month</th>\n",
       "      <th>minute_price</th>\n",
       "      <th>start_ride_price</th>\n",
       "      <th>subscription_fee</th>\n",
       "    </tr>\n",
       "  </thead>\n",
       "  <tbody>\n",
       "    <tr>\n",
       "      <th>0</th>\n",
       "      <td>1</td>\n",
       "      <td>Кира</td>\n",
       "      <td>22</td>\n",
       "      <td>Тюмень</td>\n",
       "      <td>ultra</td>\n",
       "      <td>4409.919140</td>\n",
       "      <td>25.599769</td>\n",
       "      <td>2021-01-01</td>\n",
       "      <td>1</td>\n",
       "      <td>6</td>\n",
       "      <td>0</td>\n",
       "      <td>199</td>\n",
       "    </tr>\n",
       "    <tr>\n",
       "      <th>1</th>\n",
       "      <td>1</td>\n",
       "      <td>Кира</td>\n",
       "      <td>22</td>\n",
       "      <td>Тюмень</td>\n",
       "      <td>ultra</td>\n",
       "      <td>2617.592153</td>\n",
       "      <td>15.816871</td>\n",
       "      <td>2021-01-18</td>\n",
       "      <td>1</td>\n",
       "      <td>6</td>\n",
       "      <td>0</td>\n",
       "      <td>199</td>\n",
       "    </tr>\n",
       "    <tr>\n",
       "      <th>2</th>\n",
       "      <td>1</td>\n",
       "      <td>Кира</td>\n",
       "      <td>22</td>\n",
       "      <td>Тюмень</td>\n",
       "      <td>ultra</td>\n",
       "      <td>754.159807</td>\n",
       "      <td>6.232113</td>\n",
       "      <td>2021-04-20</td>\n",
       "      <td>4</td>\n",
       "      <td>6</td>\n",
       "      <td>0</td>\n",
       "      <td>199</td>\n",
       "    </tr>\n",
       "    <tr>\n",
       "      <th>3</th>\n",
       "      <td>1</td>\n",
       "      <td>Кира</td>\n",
       "      <td>22</td>\n",
       "      <td>Тюмень</td>\n",
       "      <td>ultra</td>\n",
       "      <td>2694.783254</td>\n",
       "      <td>18.511000</td>\n",
       "      <td>2021-08-11</td>\n",
       "      <td>8</td>\n",
       "      <td>6</td>\n",
       "      <td>0</td>\n",
       "      <td>199</td>\n",
       "    </tr>\n",
       "    <tr>\n",
       "      <th>4</th>\n",
       "      <td>1</td>\n",
       "      <td>Кира</td>\n",
       "      <td>22</td>\n",
       "      <td>Тюмень</td>\n",
       "      <td>ultra</td>\n",
       "      <td>4028.687306</td>\n",
       "      <td>26.265803</td>\n",
       "      <td>2021-08-28</td>\n",
       "      <td>8</td>\n",
       "      <td>6</td>\n",
       "      <td>0</td>\n",
       "      <td>199</td>\n",
       "    </tr>\n",
       "    <tr>\n",
       "      <th>...</th>\n",
       "      <td>...</td>\n",
       "      <td>...</td>\n",
       "      <td>...</td>\n",
       "      <td>...</td>\n",
       "      <td>...</td>\n",
       "      <td>...</td>\n",
       "      <td>...</td>\n",
       "      <td>...</td>\n",
       "      <td>...</td>\n",
       "      <td>...</td>\n",
       "      <td>...</td>\n",
       "      <td>...</td>\n",
       "    </tr>\n",
       "    <tr>\n",
       "      <th>18063</th>\n",
       "      <td>1534</td>\n",
       "      <td>Альберт</td>\n",
       "      <td>25</td>\n",
       "      <td>Краснодар</td>\n",
       "      <td>free</td>\n",
       "      <td>3781.098080</td>\n",
       "      <td>19.822962</td>\n",
       "      <td>2021-11-04</td>\n",
       "      <td>11</td>\n",
       "      <td>8</td>\n",
       "      <td>50</td>\n",
       "      <td>0</td>\n",
       "    </tr>\n",
       "    <tr>\n",
       "      <th>18064</th>\n",
       "      <td>1534</td>\n",
       "      <td>Альберт</td>\n",
       "      <td>25</td>\n",
       "      <td>Краснодар</td>\n",
       "      <td>free</td>\n",
       "      <td>2840.423057</td>\n",
       "      <td>21.409799</td>\n",
       "      <td>2021-11-16</td>\n",
       "      <td>11</td>\n",
       "      <td>8</td>\n",
       "      <td>50</td>\n",
       "      <td>0</td>\n",
       "    </tr>\n",
       "    <tr>\n",
       "      <th>18065</th>\n",
       "      <td>1534</td>\n",
       "      <td>Альберт</td>\n",
       "      <td>25</td>\n",
       "      <td>Краснодар</td>\n",
       "      <td>free</td>\n",
       "      <td>3826.185507</td>\n",
       "      <td>18.435051</td>\n",
       "      <td>2021-11-18</td>\n",
       "      <td>11</td>\n",
       "      <td>8</td>\n",
       "      <td>50</td>\n",
       "      <td>0</td>\n",
       "    </tr>\n",
       "    <tr>\n",
       "      <th>18066</th>\n",
       "      <td>1534</td>\n",
       "      <td>Альберт</td>\n",
       "      <td>25</td>\n",
       "      <td>Краснодар</td>\n",
       "      <td>free</td>\n",
       "      <td>2902.308661</td>\n",
       "      <td>16.674362</td>\n",
       "      <td>2021-11-27</td>\n",
       "      <td>11</td>\n",
       "      <td>8</td>\n",
       "      <td>50</td>\n",
       "      <td>0</td>\n",
       "    </tr>\n",
       "    <tr>\n",
       "      <th>18067</th>\n",
       "      <td>1534</td>\n",
       "      <td>Альберт</td>\n",
       "      <td>25</td>\n",
       "      <td>Краснодар</td>\n",
       "      <td>free</td>\n",
       "      <td>2371.711192</td>\n",
       "      <td>15.893917</td>\n",
       "      <td>2021-12-29</td>\n",
       "      <td>12</td>\n",
       "      <td>8</td>\n",
       "      <td>50</td>\n",
       "      <td>0</td>\n",
       "    </tr>\n",
       "  </tbody>\n",
       "</table>\n",
       "<p>18068 rows × 12 columns</p>\n",
       "</div>"
      ],
      "text/plain": [
       "       user_id     name  age       city subscription_type     distance  \\\n",
       "0            1     Кира   22     Тюмень             ultra  4409.919140   \n",
       "1            1     Кира   22     Тюмень             ultra  2617.592153   \n",
       "2            1     Кира   22     Тюмень             ultra   754.159807   \n",
       "3            1     Кира   22     Тюмень             ultra  2694.783254   \n",
       "4            1     Кира   22     Тюмень             ultra  4028.687306   \n",
       "...        ...      ...  ...        ...               ...          ...   \n",
       "18063     1534  Альберт   25  Краснодар              free  3781.098080   \n",
       "18064     1534  Альберт   25  Краснодар              free  2840.423057   \n",
       "18065     1534  Альберт   25  Краснодар              free  3826.185507   \n",
       "18066     1534  Альберт   25  Краснодар              free  2902.308661   \n",
       "18067     1534  Альберт   25  Краснодар              free  2371.711192   \n",
       "\n",
       "        duration       date  ride_month  minute_price  start_ride_price  \\\n",
       "0      25.599769 2021-01-01           1             6                 0   \n",
       "1      15.816871 2021-01-18           1             6                 0   \n",
       "2       6.232113 2021-04-20           4             6                 0   \n",
       "3      18.511000 2021-08-11           8             6                 0   \n",
       "4      26.265803 2021-08-28           8             6                 0   \n",
       "...          ...        ...         ...           ...               ...   \n",
       "18063  19.822962 2021-11-04          11             8                50   \n",
       "18064  21.409799 2021-11-16          11             8                50   \n",
       "18065  18.435051 2021-11-18          11             8                50   \n",
       "18066  16.674362 2021-11-27          11             8                50   \n",
       "18067  15.893917 2021-12-29          12             8                50   \n",
       "\n",
       "       subscription_fee  \n",
       "0                   199  \n",
       "1                   199  \n",
       "2                   199  \n",
       "3                   199  \n",
       "4                   199  \n",
       "...                 ...  \n",
       "18063                 0  \n",
       "18064                 0  \n",
       "18065                 0  \n",
       "18066                 0  \n",
       "18067                 0  \n",
       "\n",
       "[18068 rows x 12 columns]"
      ]
     },
     "execution_count": 16,
     "metadata": {},
     "output_type": "execute_result"
    }
   ],
   "source": [
    "big_df1=users_go.merge(rides_go, on='user_id', how='inner') #если left, то то же самое \n",
    "big_df2=big_df1.merge(subscriptions_go, on='subscription_type', how='inner') #если left, то то же самое -18068 строк\n",
    "big_df2"
   ]
  },
  {
   "cell_type": "code",
   "execution_count": 17,
   "id": "53393bb9",
   "metadata": {},
   "outputs": [
    {
     "data": {
      "text/plain": [
       "18068"
      ]
     },
     "execution_count": 17,
     "metadata": {},
     "output_type": "execute_result"
    }
   ],
   "source": [
    "#Учтен комментарий ревьюера на желтом фоне\n",
    "len (big_df2) #18068 - ничего не потеряли"
   ]
  },
  {
   "cell_type": "markdown",
   "id": "5543d886",
   "metadata": {},
   "source": [
    "4.2 Создайте ещё два датафрейма из датафрейма, созданного на этапе 4.1:  \n",
    "•\tc данными о пользователях без подписки;   \n",
    "•\tс данными о пользователях с подпиской.\n"
   ]
  },
  {
   "cell_type": "code",
   "execution_count": 18,
   "id": "3743bd96",
   "metadata": {},
   "outputs": [
    {
     "name": "stdout",
     "output_type": "stream",
     "text": [
      "Данные о пользователях без подписки: 11568\n"
     ]
    }
   ],
   "source": [
    "df_users_free=big_df2.query('subscription_type==\"free\"')\n",
    "print('Данные о пользователях без подписки:',len(df_users_free))"
   ]
  },
  {
   "cell_type": "code",
   "execution_count": 19,
   "id": "631884ff",
   "metadata": {},
   "outputs": [
    {
     "name": "stdout",
     "output_type": "stream",
     "text": [
      "Данные о пользователях с подпиской: 6500\n",
      "ВСЕГО данных о пользователях: 18068\n"
     ]
    }
   ],
   "source": [
    "df_users_ultra=big_df2.query('subscription_type==\"ultra\"')\n",
    "print('Данные о пользователях с подпиской:',len(df_users_ultra))\n",
    "print('ВСЕГО данных о пользователях:',len(df_users_free)+len(df_users_ultra))\n"
   ]
  },
  {
   "cell_type": "markdown",
   "id": "1f701d7a",
   "metadata": {},
   "source": [
    "4.3 Визуализируйте информацию о расстоянии и времени поездок для пользователей обеих категорий."
   ]
  },
  {
   "cell_type": "code",
   "execution_count": 20,
   "id": "83d93cd8",
   "metadata": {},
   "outputs": [],
   "source": [
    "#Учтен комментарий ревьюера на желтом фоне\n",
    "#df_users_free_pt1=df_users_free.pivot_table(index=['user_id'], values='distance', aggfunc='mean')\n",
    "#print(df_users_free_pt1)\n",
    "#df_users_free_pt1.hist();\n",
    "#plt.title(\"Данные о пользователях\")\n",
    "#df_users_free.distance.hist();"
   ]
  },
  {
   "cell_type": "markdown",
   "id": "db3849f5",
   "metadata": {},
   "source": [
    "Данные о пользователях:"
   ]
  },
  {
   "cell_type": "code",
   "execution_count": 21,
   "id": "7ff3bd11",
   "metadata": {},
   "outputs": [
    {
     "data": {
      "image/png": "[encoded data removed]",
      "text/plain": [
       "<Figure size 432x288 with 1 Axes>"
      ]
     },
     "metadata": {
      "needs_background": "light"
     },
     "output_type": "display_data"
    }
   ],
   "source": [
    "#Учтен комментарий ревьюера на желтом фоне НИЖЕ\n",
    "#df_users_ultra_pt1=df_users_ultra.pivot_table(index=['user_id'], values='distance', aggfunc='mean')\n",
    "#print(df_users_ultra_pt1)\n",
    "#df_users_ultra_pt1.hist();\n",
    "fig, ax = plt.subplots(1, 1)\n",
    "ax.hist(df_users_free['distance'],label=\"Без подписки\" )\n",
    "ax.hist(df_users_ultra['distance'],label=\"Подписка Ultra\" )\n",
    "#df_users_ultra.distance.hist();\n",
    "ax.set_title('Соотношение между пользователями и расстояниями')\n",
    "ax.set_xlabel('Расстояние, м')\n",
    "ax.set_ylabel('К-во пользователей')\n",
    "ax.legend()\n",
    "#plt.figure() \n",
    "plt.show()"
   ]
  },
  {
   "cell_type": "code",
   "execution_count": 22,
   "id": "5abde9f9",
   "metadata": {},
   "outputs": [
    {
     "data": {
      "image/png": "[encoded data removed]",
      "text/plain": [
       "<Figure size 432x288 with 1 Axes>"
      ]
     },
     "metadata": {
      "needs_background": "light"
     },
     "output_type": "display_data"
    }
   ],
   "source": [
    "#Учтен комментарий ревьюера на красном фоне ВЫШЕ\n",
    "fig, ax = plt.subplots(1, 1)\n",
    "ax.hist(df_users_free['duration'],label=\"Без подписки\" )\n",
    "ax.hist(df_users_ultra['duration'],label=\"Подписка Ultra\" )\n",
    "#df_users_ultra.distance.hist();\n",
    "ax.set_title('Соотношение между пользователями и времени поездок')\n",
    "ax.set_xlabel('Длительность, мин')\n",
    "ax.set_ylabel('К-во пользователей')\n",
    "ax.legend()\n",
    "#plt.figure() \n",
    "plt.show()"
   ]
  },
  {
   "cell_type": "markdown",
   "id": "8bcc0e62",
   "metadata": {},
   "source": [
    "<div class=\"alert alert-block alert-info\">\n",
    "<b>🔄Вывод 4:</b>  \n",
    "    \n",
    "1) Объединили данные о пользователях, поездках и подписках в один датафрейм. \n",
    "\n",
    "2) Создайли ещё два датафрейма из датафрейма, созданного на этапе 1: c данными о пользователях без подписки и с данными о пользователях с подпиской.  \n",
    "    \n",
    "3) Визуализировали информацию о расстоянии и времени поездок для пользователей обеих категорий. **Видно, что пользователи без подписки ездят в среднем на бОльшие расстояния.**\n",
    "</div>"
   ]
  },
  {
   "cell_type": "markdown",
   "id": "c642ee48",
   "metadata": {},
   "source": [
    "#### Шаг 5. Подсчёт выручки"
   ]
  },
  {
   "cell_type": "markdown",
   "id": "46596bd9",
   "metadata": {},
   "source": [
    "5.1 Создайте датафрейм с агрегированными данными о поездках на основе датафрейма с объединёнными данными из шага 4: найдите суммарное расстояние, количество поездок и суммарное время для каждого пользователя за каждый месяц."
   ]
  },
  {
   "cell_type": "code",
   "execution_count": 23,
   "id": "f572fe43",
   "metadata": {
    "scrolled": true
   },
   "outputs": [],
   "source": [
    "#big_df3=big_df2.pivot_table(index=['user_id','ride_month'], values=['distance','duration'], aggfunc=['sum','count']).reset_index()\n",
    "#If you want to coalesce the multi-index into a single string index without caring about the index level order,\n",
    "#you can simply map a join function over the columns, and assign the result list back:\n",
    "#https://stackoverflow.com/questions/42099024/pandas-pivot-table-rename-columns\n",
    "#big_df3.columns = list(map(\"_\".join, big_df3.columns)) #\n",
    "#big_df3.head()"
   ]
  },
  {
   "cell_type": "markdown",
   "id": "dcf38db0",
   "metadata": {},
   "source": [
    "5.2 В этот же датафрейм добавьте столбец с помесячной выручкой, которую принёс каждый пользователь. Для этого обратитесь к информации об условиях оплаты для подписчиков и тех, у кого нет подписки. Продолжительность каждой поездки в каждой строке исходного датафрейма для подсчёта стоимости округляется до следующего целого числа: например, значения 25.3, 25.5 и 26.0 должны быть преобразованы к 26."
   ]
  },
  {
   "cell_type": "code",
   "execution_count": 24,
   "id": "88141cef",
   "metadata": {
    "scrolled": true
   },
   "outputs": [
    {
     "data": {
      "text/html": [
       "<div>\n",
       "<style scoped>\n",
       "    .dataframe tbody tr th:only-of-type {\n",
       "        vertical-align: middle;\n",
       "    }\n",
       "\n",
       "    .dataframe tbody tr th {\n",
       "        vertical-align: top;\n",
       "    }\n",
       "\n",
       "    .dataframe thead th {\n",
       "        text-align: right;\n",
       "    }\n",
       "</style>\n",
       "<table border=\"1\" class=\"dataframe\">\n",
       "  <thead>\n",
       "    <tr style=\"text-align: right;\">\n",
       "      <th></th>\n",
       "      <th>user_id</th>\n",
       "      <th>ride_month</th>\n",
       "      <th>sum_distance</th>\n",
       "      <th>sum_duration</th>\n",
       "      <th>count</th>\n",
       "    </tr>\n",
       "  </thead>\n",
       "  <tbody>\n",
       "    <tr>\n",
       "      <th>0</th>\n",
       "      <td>1</td>\n",
       "      <td>1</td>\n",
       "      <td>7027.511294</td>\n",
       "      <td>42.0</td>\n",
       "      <td>2</td>\n",
       "    </tr>\n",
       "    <tr>\n",
       "      <th>1</th>\n",
       "      <td>1</td>\n",
       "      <td>4</td>\n",
       "      <td>754.159807</td>\n",
       "      <td>7.0</td>\n",
       "      <td>1</td>\n",
       "    </tr>\n",
       "    <tr>\n",
       "      <th>2</th>\n",
       "      <td>1</td>\n",
       "      <td>8</td>\n",
       "      <td>6723.470560</td>\n",
       "      <td>46.0</td>\n",
       "      <td>2</td>\n",
       "    </tr>\n",
       "    <tr>\n",
       "      <th>3</th>\n",
       "      <td>1</td>\n",
       "      <td>10</td>\n",
       "      <td>5809.911100</td>\n",
       "      <td>32.0</td>\n",
       "      <td>2</td>\n",
       "    </tr>\n",
       "    <tr>\n",
       "      <th>4</th>\n",
       "      <td>1</td>\n",
       "      <td>11</td>\n",
       "      <td>7003.499363</td>\n",
       "      <td>56.0</td>\n",
       "      <td>3</td>\n",
       "    </tr>\n",
       "    <tr>\n",
       "      <th>...</th>\n",
       "      <td>...</td>\n",
       "      <td>...</td>\n",
       "      <td>...</td>\n",
       "      <td>...</td>\n",
       "      <td>...</td>\n",
       "    </tr>\n",
       "    <tr>\n",
       "      <th>11316</th>\n",
       "      <td>1533</td>\n",
       "      <td>2</td>\n",
       "      <td>310.488247</td>\n",
       "      <td>11.0</td>\n",
       "      <td>1</td>\n",
       "    </tr>\n",
       "    <tr>\n",
       "      <th>11317</th>\n",
       "      <td>1533</td>\n",
       "      <td>3</td>\n",
       "      <td>12822.696276</td>\n",
       "      <td>93.0</td>\n",
       "      <td>4</td>\n",
       "    </tr>\n",
       "    <tr>\n",
       "      <th>11318</th>\n",
       "      <td>1533</td>\n",
       "      <td>4</td>\n",
       "      <td>2514.498956</td>\n",
       "      <td>18.0</td>\n",
       "      <td>1</td>\n",
       "    </tr>\n",
       "    <tr>\n",
       "      <th>11319</th>\n",
       "      <td>1533</td>\n",
       "      <td>6</td>\n",
       "      <td>1034.998188</td>\n",
       "      <td>7.0</td>\n",
       "      <td>1</td>\n",
       "    </tr>\n",
       "    <tr>\n",
       "      <th>11320</th>\n",
       "      <td>1533</td>\n",
       "      <td>7</td>\n",
       "      <td>8772.518529</td>\n",
       "      <td>48.0</td>\n",
       "      <td>3</td>\n",
       "    </tr>\n",
       "  </tbody>\n",
       "</table>\n",
       "<p>11321 rows × 5 columns</p>\n",
       "</div>"
      ],
      "text/plain": [
       "       user_id  ride_month  sum_distance  sum_duration  count\n",
       "0            1           1   7027.511294          42.0      2\n",
       "1            1           4    754.159807           7.0      1\n",
       "2            1           8   6723.470560          46.0      2\n",
       "3            1          10   5809.911100          32.0      2\n",
       "4            1          11   7003.499363          56.0      3\n",
       "...        ...         ...           ...           ...    ...\n",
       "11316     1533           2    310.488247          11.0      1\n",
       "11317     1533           3  12822.696276          93.0      4\n",
       "11318     1533           4   2514.498956          18.0      1\n",
       "11319     1533           6   1034.998188           7.0      1\n",
       "11320     1533           7   8772.518529          48.0      3\n",
       "\n",
       "[11321 rows x 5 columns]"
      ]
     },
     "execution_count": 24,
     "metadata": {},
     "output_type": "execute_result"
    }
   ],
   "source": [
    "# каждое значение из столбца duration округляется с помощью «потолка»: \n",
    "big_df2['duration'] = np.ceil(big_df2['duration'])\n",
    "#Сводная таблица big_df4\n",
    "big_df4=big_df2.pivot_table(index=['user_id','ride_month'], values=['distance','duration'], aggfunc=['sum','count']).reset_index()\n",
    "big_df4.columns = list(map(\"\".join, big_df4.columns)) #\n",
    "#Переименовываем колонки\n",
    "big_df4 = big_df4.rename(columns={\"sumdistance\":\"sum_distance\",\n",
    "                                  \"sumduration\":\"sum_duration\",\n",
    "                                  \"countdistance\":\"count\"}) #,errors=\"raise\")\n",
    "#Удаляем ненужные колонки\n",
    "del big_df4['countduration']\n",
    "big_df4.head(-10) "
   ]
  },
  {
   "cell_type": "markdown",
   "id": "1883ddd8",
   "metadata": {},
   "source": [
    "Помесячная выручка считается по формуле: (стоимость старта поездки × количество поездок) + стоимость одной минуты поездки × общая продолжительность всех поездок в минутах) + стоимость подписки."
   ]
  },
  {
   "cell_type": "code",
   "execution_count": 25,
   "id": "e1540b88",
   "metadata": {},
   "outputs": [],
   "source": [
    "##Учтен комментарий ревьюера на красном  фоне ВЫШЕ\n",
    "#df4_pt1=big_df4.merge(big_df2.drop(columns=['duration','city','date','distance','name','age']),on='user_id', how='inner') #,'subscription_type'\n",
    "df4_pt1=big_df4.merge(big_df2.drop(columns=['duration','city','date','distance','name','age']), \n",
    "                      on=['user_id','ride_month'], how='inner') #,'subscription_type'\n",
    "df4_pt1['revenue'] = df4_pt1['start_ride_price']*df4_pt1['count'] + df4_pt1['minute_price']*df4_pt1['sum_duration'] + df4_pt1['subscription_fee']\n",
    "df4_pt1=df4_pt1.drop_duplicates() #Убираем дубликаты"
   ]
  },
  {
   "cell_type": "code",
   "execution_count": 26,
   "id": "aa27e9b1",
   "metadata": {
    "scrolled": true
   },
   "outputs": [
    {
     "data": {
      "text/html": [
       "<div>\n",
       "<style scoped>\n",
       "    .dataframe tbody tr th:only-of-type {\n",
       "        vertical-align: middle;\n",
       "    }\n",
       "\n",
       "    .dataframe tbody tr th {\n",
       "        vertical-align: top;\n",
       "    }\n",
       "\n",
       "    .dataframe thead th {\n",
       "        text-align: right;\n",
       "    }\n",
       "</style>\n",
       "<table border=\"1\" class=\"dataframe\">\n",
       "  <thead>\n",
       "    <tr style=\"text-align: right;\">\n",
       "      <th></th>\n",
       "      <th>user_id</th>\n",
       "      <th>ride_month</th>\n",
       "      <th>sum_distance</th>\n",
       "      <th>sum_duration</th>\n",
       "      <th>count</th>\n",
       "      <th>subscription_type</th>\n",
       "      <th>minute_price</th>\n",
       "      <th>start_ride_price</th>\n",
       "      <th>subscription_fee</th>\n",
       "      <th>revenue</th>\n",
       "    </tr>\n",
       "  </thead>\n",
       "  <tbody>\n",
       "    <tr>\n",
       "      <th>0</th>\n",
       "      <td>1</td>\n",
       "      <td>1</td>\n",
       "      <td>7027.511294</td>\n",
       "      <td>42.0</td>\n",
       "      <td>2</td>\n",
       "      <td>ultra</td>\n",
       "      <td>6</td>\n",
       "      <td>0</td>\n",
       "      <td>199</td>\n",
       "      <td>451.0</td>\n",
       "    </tr>\n",
       "    <tr>\n",
       "      <th>2</th>\n",
       "      <td>1</td>\n",
       "      <td>4</td>\n",
       "      <td>754.159807</td>\n",
       "      <td>7.0</td>\n",
       "      <td>1</td>\n",
       "      <td>ultra</td>\n",
       "      <td>6</td>\n",
       "      <td>0</td>\n",
       "      <td>199</td>\n",
       "      <td>241.0</td>\n",
       "    </tr>\n",
       "    <tr>\n",
       "      <th>3</th>\n",
       "      <td>1</td>\n",
       "      <td>8</td>\n",
       "      <td>6723.470560</td>\n",
       "      <td>46.0</td>\n",
       "      <td>2</td>\n",
       "      <td>ultra</td>\n",
       "      <td>6</td>\n",
       "      <td>0</td>\n",
       "      <td>199</td>\n",
       "      <td>475.0</td>\n",
       "    </tr>\n",
       "    <tr>\n",
       "      <th>5</th>\n",
       "      <td>1</td>\n",
       "      <td>10</td>\n",
       "      <td>5809.911100</td>\n",
       "      <td>32.0</td>\n",
       "      <td>2</td>\n",
       "      <td>ultra</td>\n",
       "      <td>6</td>\n",
       "      <td>0</td>\n",
       "      <td>199</td>\n",
       "      <td>391.0</td>\n",
       "    </tr>\n",
       "    <tr>\n",
       "      <th>7</th>\n",
       "      <td>1</td>\n",
       "      <td>11</td>\n",
       "      <td>7003.499363</td>\n",
       "      <td>56.0</td>\n",
       "      <td>3</td>\n",
       "      <td>ultra</td>\n",
       "      <td>6</td>\n",
       "      <td>0</td>\n",
       "      <td>199</td>\n",
       "      <td>535.0</td>\n",
       "    </tr>\n",
       "    <tr>\n",
       "      <th>...</th>\n",
       "      <td>...</td>\n",
       "      <td>...</td>\n",
       "      <td>...</td>\n",
       "      <td>...</td>\n",
       "      <td>...</td>\n",
       "      <td>...</td>\n",
       "      <td>...</td>\n",
       "      <td>...</td>\n",
       "      <td>...</td>\n",
       "      <td>...</td>\n",
       "    </tr>\n",
       "    <tr>\n",
       "      <th>18058</th>\n",
       "      <td>1534</td>\n",
       "      <td>6</td>\n",
       "      <td>3409.468534</td>\n",
       "      <td>26.0</td>\n",
       "      <td>2</td>\n",
       "      <td>free</td>\n",
       "      <td>8</td>\n",
       "      <td>50</td>\n",
       "      <td>0</td>\n",
       "      <td>308.0</td>\n",
       "    </tr>\n",
       "    <tr>\n",
       "      <th>18060</th>\n",
       "      <td>1534</td>\n",
       "      <td>8</td>\n",
       "      <td>7622.453034</td>\n",
       "      <td>48.0</td>\n",
       "      <td>2</td>\n",
       "      <td>free</td>\n",
       "      <td>8</td>\n",
       "      <td>50</td>\n",
       "      <td>0</td>\n",
       "      <td>484.0</td>\n",
       "    </tr>\n",
       "    <tr>\n",
       "      <th>18062</th>\n",
       "      <td>1534</td>\n",
       "      <td>9</td>\n",
       "      <td>4928.173852</td>\n",
       "      <td>23.0</td>\n",
       "      <td>1</td>\n",
       "      <td>free</td>\n",
       "      <td>8</td>\n",
       "      <td>50</td>\n",
       "      <td>0</td>\n",
       "      <td>234.0</td>\n",
       "    </tr>\n",
       "    <tr>\n",
       "      <th>18063</th>\n",
       "      <td>1534</td>\n",
       "      <td>11</td>\n",
       "      <td>13350.015305</td>\n",
       "      <td>78.0</td>\n",
       "      <td>4</td>\n",
       "      <td>free</td>\n",
       "      <td>8</td>\n",
       "      <td>50</td>\n",
       "      <td>0</td>\n",
       "      <td>824.0</td>\n",
       "    </tr>\n",
       "    <tr>\n",
       "      <th>18067</th>\n",
       "      <td>1534</td>\n",
       "      <td>12</td>\n",
       "      <td>2371.711192</td>\n",
       "      <td>16.0</td>\n",
       "      <td>1</td>\n",
       "      <td>free</td>\n",
       "      <td>8</td>\n",
       "      <td>50</td>\n",
       "      <td>0</td>\n",
       "      <td>178.0</td>\n",
       "    </tr>\n",
       "  </tbody>\n",
       "</table>\n",
       "<p>11331 rows × 10 columns</p>\n",
       "</div>"
      ],
      "text/plain": [
       "       user_id  ride_month  sum_distance  sum_duration  count  \\\n",
       "0            1           1   7027.511294          42.0      2   \n",
       "2            1           4    754.159807           7.0      1   \n",
       "3            1           8   6723.470560          46.0      2   \n",
       "5            1          10   5809.911100          32.0      2   \n",
       "7            1          11   7003.499363          56.0      3   \n",
       "...        ...         ...           ...           ...    ...   \n",
       "18058     1534           6   3409.468534          26.0      2   \n",
       "18060     1534           8   7622.453034          48.0      2   \n",
       "18062     1534           9   4928.173852          23.0      1   \n",
       "18063     1534          11  13350.015305          78.0      4   \n",
       "18067     1534          12   2371.711192          16.0      1   \n",
       "\n",
       "      subscription_type  minute_price  start_ride_price  subscription_fee  \\\n",
       "0                 ultra             6                 0               199   \n",
       "2                 ultra             6                 0               199   \n",
       "3                 ultra             6                 0               199   \n",
       "5                 ultra             6                 0               199   \n",
       "7                 ultra             6                 0               199   \n",
       "...                 ...           ...               ...               ...   \n",
       "18058              free             8                50                 0   \n",
       "18060              free             8                50                 0   \n",
       "18062              free             8                50                 0   \n",
       "18063              free             8                50                 0   \n",
       "18067              free             8                50                 0   \n",
       "\n",
       "       revenue  \n",
       "0        451.0  \n",
       "2        241.0  \n",
       "3        475.0  \n",
       "5        391.0  \n",
       "7        535.0  \n",
       "...        ...  \n",
       "18058    308.0  \n",
       "18060    484.0  \n",
       "18062    234.0  \n",
       "18063    824.0  \n",
       "18067    178.0  \n",
       "\n",
       "[11331 rows x 10 columns]"
      ]
     },
     "execution_count": 26,
     "metadata": {},
     "output_type": "execute_result"
    }
   ],
   "source": [
    "df4_pt1"
   ]
  },
  {
   "cell_type": "markdown",
   "id": "a9c32aca",
   "metadata": {},
   "source": [
    "<div class=\"alert alert-block alert-info\">\n",
    "<b>🔄Вывод 5:</b>  \n",
    "    \n",
    "Рассчитали столбец с помесячной выручкой, которую принёс каждый пользователь для подписчиков и тех, у кого нет подписки\n",
    "</div>"
   ]
  },
  {
   "cell_type": "markdown",
   "id": "66b2f98c",
   "metadata": {},
   "source": [
    "#### Шаг 6. Проверка гипотез"
   ]
  },
  {
   "cell_type": "markdown",
   "id": "a6939c8b",
   "metadata": {},
   "source": [
    "Продакт-менеджеры сервиса хотят увеличить количество пользователей с подпиской. Для этого они будут проводить различные акции, но сначала нужно выяснить несколько важных моментов.  \n",
    "6.1 Важно понять, тратят ли пользователи с подпиской больше времени на поездки? Если да, то пользователи с подпиской могут быть «выгоднее» для компании. Проверьте гипотезу. Используйте исходные данные о продолжительности каждой сессии — отдельно для подписчиков и тех, у кого нет подписки.\n"
   ]
  },
  {
   "cell_type": "markdown",
   "id": "03ccfe1c",
   "metadata": {},
   "source": [
    "Нулевая гипотеза: пользователи с подпиской тратят меньше или столько же времени на поездки\n",
    "Альтернативная гипотеза: пользователи с подпиской тратят больше времени на поездки"
   ]
  },
  {
   "cell_type": "code",
   "execution_count": 27,
   "id": "9aaee979",
   "metadata": {},
   "outputs": [
    {
     "name": "stdout",
     "output_type": "stream",
     "text": [
      "Средние значения продолжительности поездок:\n",
      "Без подписки:  17.39\n",
      "С подпиской:  18.54\n",
      "P-value 5.6757813771289775e-37\n",
      "Отвергаем нулевую гипотезу \n"
     ]
    }
   ],
   "source": [
    "sample_1 = df_users_free['duration'] \n",
    "sample_2 = df_users_ultra['duration'] \n",
    "print('Средние значения продолжительности поездок:')\n",
    "print ('Без подписки: ',float('{:.2f}'.format(sample_1.mean())) )\n",
    "print ('С подпиской: ',float('{:.2f}'.format(sample_2.mean())) )      \n",
    "results = st.ttest_ind(sample_2, sample_1, equal_var=False,alternative='greater')\n",
    "alpha = 0.05\n",
    "print('P-value',results.pvalue)\n",
    "if results.pvalue < alpha:\n",
    "    print('Отвергаем нулевую гипотезу ')\n",
    "else:\n",
    "    print('Не получилось отвергнуть нулевую гипотезу ')"
   ]
  },
  {
   "cell_type": "markdown",
   "id": "08b0f01c",
   "metadata": {},
   "source": [
    "<div class=\"alert alert-block alert-info\">\n",
    "<b>🔄Вывод 6.1:</b>  \n",
    "    \n",
    "Доказали, что пользователи с подпиской тратят БОЛЬШЕ времени на поездки."
   ]
  },
  {
   "cell_type": "markdown",
   "id": "0f71556e",
   "metadata": {},
   "source": [
    "6.2 Расстояние одной поездки в 3130 метров — оптимальное с точки зрения износа самоката. Можно ли сказать, что расстояние, которое проезжают пользователи **с подпиской** за одну поездку, не превышает 3130 метров? Проверьте гипотезу и сделайте выводы."
   ]
  },
  {
   "cell_type": "markdown",
   "id": "f728d123",
   "metadata": {},
   "source": [
    "Нулевая гипотеза: расстояние, которое проезжают пользователи с подпиской за одну поездку,\n",
    "не превышает 3130 метров\n",
    "Альтернативная гипотеза: расстояние, которое проезжают пользователи с подпиской за одну поездку, превышает 3130 метров"
   ]
  },
  {
   "cell_type": "code",
   "execution_count": 28,
   "id": "c6761bbf",
   "metadata": {},
   "outputs": [
    {
     "name": "stdout",
     "output_type": "stream",
     "text": [
      "Нулевая гипотеза: расстояние, которое проезжают пользователи с подпиской за одну поездку,\n",
      "не превышает 3130 метров\n",
      "Альтернативная гипотеза: расстояние, которое проезжают пользователи с подпиской за одну поездку,\n",
      " превышает 3130 метров\n",
      "Среднее значение расстояния поездок:\n",
      "3115.45\n",
      "p-значение: 0.08046311521502146\n",
      "Не получилось отвергнуть нулевую гипотезу\n"
     ]
    }
   ],
   "source": [
    "optimal_value = 3130# оптимальное с точки зрения износа самоката расстояние\n",
    "alpha = 0.05# \n",
    "#results = st.ttest_1samp(df_users_ultra_pt1['distance'], optimal_value,alternative='less')\n",
    "results = st.ttest_1samp(df_users_ultra['distance'], optimal_value,alternative='less')\n",
    "print('Нулевая гипотеза: расстояние, которое проезжают пользователи с подпиской за одну поездку,\\nне превышает 3130 метров')\n",
    "print('Альтернативная гипотеза: расстояние, которое проезжают пользователи с подпиской за одну поездку,\\n превышает 3130 метров')\n",
    "print('Среднее значение расстояния поездок:')\n",
    "print (float('{:.2f}'.format(df_users_ultra['distance'].mean())) )\n",
    " \n",
    "print('p-значение:', results.pvalue) # введите ваш код тут)\n",
    "if results.pvalue < alpha:\n",
    "      print('Отвергаем нулевую гипотезу') #ИСТИНА\n",
    "else:\n",
    "      print('Не получилось отвергнуть нулевую гипотезу')\n"
   ]
  },
  {
   "cell_type": "markdown",
   "id": "69dd9307",
   "metadata": {},
   "source": [
    "6.3. Проверьте гипотезу о том, будет ли помесячная выручка от пользователей с подпиской по месяцам выше, чем выручка от пользователей без подписки. Сделайте вывод."
   ]
  },
  {
   "cell_type": "markdown",
   "id": "0dcb254f",
   "metadata": {},
   "source": [
    "Нулевая гипотеза: помесячная выручка от пользователей с подпиской по месяцам ниже или равна выручке от пользователей без подписки\n",
    "\n",
    "Альтернативная гипотеза: помесячная выручка от пользователей с подпиской по месяцам выше, чем выручка от пользователей без подписки"
   ]
  },
  {
   "cell_type": "code",
   "execution_count": 29,
   "id": "8f2a4b14",
   "metadata": {},
   "outputs": [
    {
     "name": "stdout",
     "output_type": "stream",
     "text": [
      "Средние значения выручки:\n",
      "Без подписки:  328.64\n",
      "С подпиской:  362.79\n",
      "P-value 8.874140893976874e-40\n",
      "Отвергаем нулевую гипотезу \n"
     ]
    }
   ],
   "source": [
    "sample_1 = df4_pt1[df4_pt1['subscription_type'] == 'free']['revenue'] \n",
    "sample_2 = df4_pt1[df4_pt1['subscription_type'] == 'ultra']['revenue']\n",
    "print('Средние значения выручки:')\n",
    "print ('Без подписки: ',float('{:.2f}'.format(sample_1.mean())) )\n",
    "print ('С подпиской: ',float('{:.2f}'.format(sample_2.mean())) )  \n",
    "\n",
    "results = st.ttest_ind(sample_2, sample_1, equal_var=False,alternative='greater')\n",
    "alpha = 0.05\n",
    "print('P-value',results.pvalue)\n",
    "if results.pvalue < alpha:\n",
    "    print('Отвергаем нулевую гипотезу ')\n",
    "else:\n",
    "    print('Не получилось отвергнуть нулевую гипотезу ')"
   ]
  },
  {
   "cell_type": "markdown",
   "id": "88a97aca",
   "metadata": {},
   "source": [
    "<div class=\"alert alert-block alert-info\">\n",
    "<b>🔄Вывод 6.3:</b>  \n",
    "    \n",
    "Доказали, что помесячная выручка от пользователей с подпиской по месяцам ВЫШЕ выручки от пользователей без подписки"
   ]
  },
  {
   "cell_type": "markdown",
   "id": "413bba6f",
   "metadata": {},
   "source": [
    "6.4. Представьте такую ситуацию: техническая команда сервиса обновила сервера, с которыми взаимодействует мобильное приложение. Она надеется, что из-за этого количество обращений в техподдержку значимо снизилось. Некоторый файл содержит для каждого пользователя данные о количестве обращений до обновления и после него. Какой тест вам понадобился бы для проверки этой гипотезы?"
   ]
  },
  {
   "cell_type": "code",
   "execution_count": 30,
   "id": "2e4a31f3",
   "metadata": {},
   "outputs": [
    {
     "name": "stdout",
     "output_type": "stream",
     "text": [
      "Нулевая гипотеза: из-за обновления серверов количество обращений в техподдержку значимо снизилось.\n",
      "Альтернативная гипотеза: из-за обновления серверов количество обращений в техподдержку не снизилось.\n",
      "p-значение: 0.9624301027797493\n",
      "Не получилось отвергнуть нулевую гипотезу\n"
     ]
    }
   ],
   "source": [
    "#Нужен тест st.ttest_rel, пример:\n",
    "num_before = [1732, 1301, 1540, 2247, 1632, 1550, 754, 1946, 1889, \n",
    "          2748, 1349, 1648, 1665, 2416, 1470, 1681, 1868, 1629, \n",
    "          1271, 1633, 2131, 942, 1599, 1127, 2200, 661, 1207, \n",
    "          1737, 2410, 1486]\n",
    "num_after = [955, 2577, 360, 139, 1618, 990, 644, 1796, 1487, 949, 472, \n",
    "         1906, 1758, 1258, 2554, 612, 309, 1864, 1294, 1487, 1164, 1559, \n",
    "         491, 2286, 1270, 2069, 1553, 1629, 1704, 1623]\n",
    "\n",
    "alpha = 0.05 # уровень статистической значимости\n",
    "results = st.ttest_rel(num_before, num_after,alternative='less')\n",
    "print('Нулевая гипотеза: из-за обновления серверов количество обращений в техподдержку значимо снизилось.')\n",
    "print('Альтернативная гипотеза: из-за обновления серверов количество обращений в техподдержку не снизилось.')\n",
    "\n",
    "print('p-значение:', results.pvalue) \n",
    "if results.pvalue < alpha:\n",
    "    print('Отвергаем нулевую гипотезу')\n",
    "else:\n",
    "    print('Не получилось отвергнуть нулевую гипотезу') #\n"
   ]
  },
  {
   "cell_type": "markdown",
   "id": "92ef0fa6",
   "metadata": {},
   "source": [
    "<div class=\"alert alert-block alert-info\">\n",
    "<b>🔄Вывод 6.4:</b>  \n",
    "для сравнения количества обращений до и после обновления серверов понадобился бы st.ttest_rel"
   ]
  },
  {
   "cell_type": "markdown",
   "id": "7890f635",
   "metadata": {},
   "source": [
    "<div class=\"alert alert-block alert-info\">\n",
    "<b>🔄Выводы 6:</b>  \n",
    "    1. Доказали, что пользователи с подпиской тратят БОЛЬШЕ времени на поездки.  \n",
    "    2. Доказали, что расстояние, которое проезжают пользователи с подпиской за одну поездку, НЕ превышает 3130 метров  \n",
    "    3. Доказали, что помесячная выручка от пользователей с подпиской по месяцам ВЫШЕ выручки от пользователей без подписки  \n",
    "    4. Для сравнения количества обращений до и после обновления серверов понадобился бы st.ttest_rel  \n",
    "</div>\n"
   ]
  },
  {
   "cell_type": "markdown",
   "id": "fc59bbc5",
   "metadata": {},
   "source": [
    "#### Шаг 7 (необязательное задание). Распределения"
   ]
  },
  {
   "cell_type": "markdown",
   "id": "95e1fe99",
   "metadata": {},
   "source": [
    "7.1 Отделу маркетинга GoFast поставили задачу: нужно провести акцию с раздачей промокодов на один бесплатный месяц подписки, в рамках которой как минимум 100 существующих клиентов должны продлить эту подписку. То есть по завершении периода действия подписки пользователь может либо отказаться от неё, либо продлить, совершив соотвествующий платёж. \n",
    "Эта акция уже проводилась ранее и по итогу выяснилось, что после бесплатного пробного периода подписку продлевают 10 %пользователей. Выясните, какое минимальное количество промокодов нужно разослать, чтобы вероятность не выполнить план была примерно 5 %. Подберите параметры распределения, описывающего эту ситуацию, постройте график распределения и сформулируйте ответ на вопрос о количестве промокодов.\n",
    "Подсказка\n",
    "Нужно использовать биномиальное распределение, которое описывает указанную ситуацию. Затем подобрать подходящее значение параметра N для заданного параметра p=0.1 с помощью графиков и метода cdf() , сформулировать вывод и ответ.\n"
   ]
  },
  {
   "cell_type": "markdown",
   "id": "b8538b9e",
   "metadata": {},
   "source": [
    "От куратора: от вас хотят подобрать такое значение n. - чтобы вероятность не получить 100 продлений (то есть получить 100 и ниже) - было ниже 0.05 \n",
    "это условие формируется как binom.cdf(99, n, p) <= 0.05 - где n искомое количество разосланных промокодов, p=0.1 по задаче.\n",
    "в цикле перебрать все возможные значения"
   ]
  },
  {
   "cell_type": "code",
   "execution_count": 31,
   "id": "0c7e14d1",
   "metadata": {},
   "outputs": [
    {
     "name": "stdout",
     "output_type": "stream",
     "text": [
      "Минимальное число промокодов 1161\n"
     ]
    }
   ],
   "source": [
    "\n",
    "n=1100 #Определили примерные значения\n",
    "p=0.1\n",
    "prob=[]\n",
    "for n in range (1,1500):\n",
    "    prob.append(binom.cdf(99, n, p))\n",
    "    if binom.cdf(99, n, p) <= 0.05:\n",
    "        print(\"Минимальное число промокодов\",n) \n",
    "        break #стоп "
   ]
  },
  {
   "cell_type": "code",
   "execution_count": 32,
   "id": "664f6e8a",
   "metadata": {},
   "outputs": [
    {
     "data": {
      "image/png": "[encoded data removed]",
      "text/plain": [
       "<Figure size 432x288 with 1 Axes>"
      ]
     },
     "metadata": {
      "needs_background": "light"
     },
     "output_type": "display_data"
    }
   ],
   "source": [
    "#График распределения\n",
    "plt.plot(prob)\n",
    "plt.show()"
   ]
  },
  {
   "cell_type": "markdown",
   "id": "0f2bcafe",
   "metadata": {},
   "source": [
    "7.2 Отдел маркетинга рассылает клиентам push-уведомления в мобильном приложении. Клиенты могут открыть его или не открывать. Известно, что уведомления открывают около 40 % получивших клиентов. Отдел планирует разослать 1 млн уведомлений. С помощью аппроксимации постройте примерный график распределения и оцените вероятность того, что уведомление откроют не более 399,5 тыс. пользователей.\n",
    "\n",
    "Подсказка\n",
    "\n",
    "Эта ситуация тоже описывается биномиальным распределением. Но считать каждое отдельное значение достаточно долго. Вы можете воспользоваться нормальной аппроксимацией биномиального распределения и cdf() для быстрой оценки.\n"
   ]
  },
  {
   "cell_type": "code",
   "execution_count": 33,
   "id": "afffea6e",
   "metadata": {},
   "outputs": [
    {
     "name": "stdout",
     "output_type": "stream",
     "text": [
      "Вероятность, что уведомление откроют не более 399,5 тыс. пользователей: 0.15371708296369768\n",
      "15%\n"
     ]
    }
   ],
   "source": [
    "# задаём параметры биномиального распределения\n",
    "n = 1000000 #1 млн уведомлений\n",
    "p = 0.4 #уведомления открывают около 40 % получивших клиентов\n",
    "# зададим параметры нормального распределения равными мат.ожиданию и дисперсии биномиального распределения - это берется из цпт\n",
    "mu = n * p\n",
    "sigma = sqrt(n * p * (1 - p))\n",
    "# задаём нормальное распределение\n",
    "distr = st.norm(mu, sigma)  # моделируем исходное распределение\n",
    "x1=399500 #уведомление откроют не более 399,5 тыс. пользователей\n",
    "print('Вероятность, что уведомление откроют не более 399,5 тыс. пользователей:',  distr.cdf(x1) )\n",
    "print('{:.0%}'.format(distr.cdf(x1)))"
   ]
  },
  {
   "cell_type": "code",
   "execution_count": 34,
   "id": "5147da37",
   "metadata": {
    "scrolled": true
   },
   "outputs": [
    {
     "data": {
      "image/png": "[encoded data removed]",
      "text/plain": [
       "<Figure size 432x288 with 1 Axes>"
      ]
     },
     "metadata": {
      "needs_background": "light"
     },
     "output_type": "display_data"
    },
    {
     "name": "stdout",
     "output_type": "stream",
     "text": [
      "Условие аппроксимации выполняется\n"
     ]
    }
   ],
   "source": [
    "# зададим функцию, которая выдаёт <num> чисел,\n",
    "# равномерно распределённых от <start> до <stop>\n",
    "# (понадобится для визуализации нормального распределения)\n",
    "def linspace(start, stop, num):\n",
    "    step = (stop - start) / (num - 1)\n",
    "    result = []\n",
    "    for i in range(num):\n",
    "        result.append(start + step * i)\n",
    "    return result\n",
    " \n",
    "# задаём параметры биномиального распределения\n",
    "n = 1000 #расчет в тысячах 000\n",
    "p = 0.4\n",
    "\n",
    "# границы промежутка, в котором будем строить аппроксимацию -\n",
    "# от n*p минус 4 ст.отклонения бином.распределения\n",
    "# до n*p плюс 4 ст.отклонения бином.распределения\n",
    "# (там, где вероятности значений почти не равны нулю)\n",
    "left = int(n * p - 4 * sqrt(n * p * (1 - p)))\n",
    "right = int(n * p + 4 * sqrt(n * p * (1 - p)))\n",
    " \n",
    "# зададим набор значений биномиальной величины на выбранном промежутке:\n",
    "# все неотрицательные целые числа от left до right\n",
    "x = list(range(max(0, left), right))\n",
    "# рисуем график биномиального распределения\n",
    "ax = plt.subplot()\n",
    "# используем синие о-образные маркеры и размер маркера 5\n",
    "ax.plot(x, binom.pmf(x, n, p), 'bo', ms=5, label='вероятности биномиального распределения')\n",
    "\n",
    "# зададим параметры нормального распределения равными\n",
    "# мат.ожиданию и дисперсии биномиального распределения\n",
    "mu = n * p\n",
    "sigma = sqrt(n * p * (1 - p))\n",
    " \n",
    "# рисуем график нормального распределения:\n",
    "# получим список из n чисел от left до right\n",
    "x = linspace(left, right, n)\n",
    "# используем красную линию ширины 3 и прозрачности 0.3\n",
    "ax.plot(x, norm.pdf(x, mu, sigma), 'r-', lw=3, alpha=0.3, label='плотность вероятности нормального распределения')\n",
    "# зададим подписи по оси x в пределах ± 3 ст.отклонений от мат.ожидания\n",
    "# (последний аргумент в методе range - интервал между подписями)\n",
    "x_ticks = list(range(int(mu - 3 * sigma), int(mu + 3 * sigma), 1))\n",
    "#ax.set_xticks(x_ticks)\n",
    "#plt.xticks(rotation=90) #текст вертикально\n",
    "# настраиваем оптимальное расположение легенды и выводим график\n",
    "ax.set_title('Вероятности')\n",
    "ax.set_xlabel('К-во уведомлений, тыс.штук')\n",
    "ax.set_ylabel('Вероятность')\n",
    "ax.legend(loc='best')\n",
    "#ax.figure(figsize=(15,10));\n",
    "plt.show() #\n",
    "# выводим, выполняется ли наше условие аппроксимации:\n",
    "# лежит ли mu ± 3 sigma в промежутке от 0 до n:\n",
    "if (mu - (3 * sigma) >= 0) and ((mu + (3 * sigma) <= n)):\n",
    "    print('Условие аппроксимации выполняется')\n",
    "else:\n",
    "    print('Условие аппроксимации не выполняется')\n"
   ]
  },
  {
   "cell_type": "markdown",
   "id": "6744fe96",
   "metadata": {},
   "source": [
    "<div class=\"alert alert-block alert-info\">\n",
    "<b>🔄Вывод 1:</b> \n",
    "Все данные загружены, некоторые столбцы содержат дату как Object. \n",
    "</div>\n",
    "<div class=\"alert alert-block alert-info\">\n",
    "<b>🔄Вывод 2:</b> \n",
    "Все данные загружены, типы столбцов преобразованы. Проверено наличие пропущенных значений (их нет) и дубликатов в датафреймах (31 дубликат найден и удален).\n",
    "</div>\n",
    "<div class=\"alert alert-block alert-info\">\n",
    "<b>🔄Вывод 3:</b>  \n",
    "    \n",
    "1) Самое маленькое количество пользователей сервиса в Москве, видимо, из-за конкурентов.  \n",
    "    \n",
    "2) 54% пользователей - без подписки (free).  \n",
    "\n",
    "3) Распределение возрастов -\"нормальное\". Пик на графике практически совпадает с медианой - 25 лет.\n",
    "    \n",
    "4) Дистанции, которые пользователь преодолел за 1 поездку, имеют 2 максимума -в малом и среднем диапазоне (видимо, слишком разные по масштабам города попали в исследование). Медиана 3070 м на графике практически совпадает с пиком в среднем диапазоне. \n",
    "    \n",
    "5) Продолжительность поездок имеет всплеск (выброс) около 0 минут, видимо, связанный с техническими неисправностями самоката СРАЗУ при начале движения. Медиана (17 минут) на графике практически совпадает с пиком в среднем диапазоне.\n",
    "</div>\n",
    "<div class=\"alert alert-block alert-info\">\n",
    "<b>🔄Вывод 4:</b>  \n",
    "    \n",
    "1) Объединили данные о пользователях, поездках и подписках в один датафрейм. \n",
    "\n",
    "2) Создайли ещё два датафрейма из датафрейма, созданного на этапе 1: c данными о пользователях без подписки и с данными о пользователях с подпиской.  \n",
    "    \n",
    "3) Визуализировали информацию о расстоянии и времени поездок для пользователей обеих категорий. **Видно, что пользователи без подписки ездят в среднем на бОльшие расстояния.**\n",
    "</div>\n",
    "<div class=\"alert alert-block alert-info\">\n",
    "<b>🔄Вывод 5:</b>  \n",
    "    \n",
    "Рассчитали столбец с помесячной выручкой, которую принёс каждый пользователь для подписчиков и тех, у кого нет подписки\n",
    "</div>\n",
    "<div class=\"alert alert-block alert-info\">\n",
    "<b>🔄Выводы 6:</b>  \n",
    "    1. Доказали, что пользователи с подпиской тратят меньше или столько же времени на поездки.  \n",
    "    2. Доказали, что расстояние, которое проезжают пользователи с подпиской за одну поездку, не превышает 3130 метров  \n",
    "    3. Доказали, что помесячная выручка от пользователей с подпиской по месяцам ниже или равна выручке от пользователей без подписки  \n",
    "    4. Для сравнения количества обращений до и после обновления серверов понадобился бы st.ttest_rel  \n",
    "</div>\n",
    "\n",
    "\n",
    "Итоговый вывод:\n",
    "Статистические исследования проведены, задания выполнены."
   ]
  }
 ],
 "metadata": {
  "ExecuteTimeLog": [
   {
    "duration": 49,
    "start_time": "2023-05-22T11:20:03.555Z"
   },
   {
    "duration": 440,
    "start_time": "2023-05-22T11:20:10.520Z"
   },
   {
    "duration": 81,
    "start_time": "2023-05-22T11:20:10.962Z"
   },
   {
    "duration": 17,
    "start_time": "2023-05-22T11:20:33.729Z"
   },
   {
    "duration": 107,
    "start_time": "2023-05-22T11:21:06.843Z"
   },
   {
    "duration": 14,
    "start_time": "2023-05-22T11:21:20.937Z"
   },
   {
    "duration": 108,
    "start_time": "2023-05-22T11:22:04.344Z"
   },
   {
    "duration": 11,
    "start_time": "2023-05-22T11:22:19.428Z"
   },
   {
    "duration": 106,
    "start_time": "2023-05-22T11:24:21.134Z"
   },
   {
    "duration": 13,
    "start_time": "2023-05-22T11:24:29.765Z"
   },
   {
    "duration": 16,
    "start_time": "2023-05-22T11:24:48.279Z"
   },
   {
    "duration": 13,
    "start_time": "2023-05-22T11:25:01.630Z"
   },
   {
    "duration": 21,
    "start_time": "2023-05-22T11:25:21.055Z"
   },
   {
    "duration": 130,
    "start_time": "2023-05-22T11:30:23.466Z"
   },
   {
    "duration": 36,
    "start_time": "2023-05-22T11:30:30.323Z"
   },
   {
    "duration": 8,
    "start_time": "2023-05-22T11:31:36.172Z"
   },
   {
    "duration": 7,
    "start_time": "2023-05-22T11:32:54.725Z"
   },
   {
    "duration": 15,
    "start_time": "2023-05-22T11:33:07.797Z"
   },
   {
    "duration": 18,
    "start_time": "2023-05-22T11:33:14.182Z"
   },
   {
    "duration": 18,
    "start_time": "2023-05-22T11:33:21.706Z"
   },
   {
    "duration": 22,
    "start_time": "2023-05-22T11:33:30.735Z"
   },
   {
    "duration": 6,
    "start_time": "2023-05-22T11:35:04.064Z"
   },
   {
    "duration": 17,
    "start_time": "2023-05-22T11:35:14.143Z"
   },
   {
    "duration": 5,
    "start_time": "2023-05-22T11:37:34.674Z"
   },
   {
    "duration": 10,
    "start_time": "2023-05-22T11:38:15.251Z"
   },
   {
    "duration": 57,
    "start_time": "2023-05-22T11:40:53.364Z"
   },
   {
    "duration": 10,
    "start_time": "2023-05-22T11:41:00.380Z"
   },
   {
    "duration": 11,
    "start_time": "2023-05-22T11:41:27.260Z"
   },
   {
    "duration": 11,
    "start_time": "2023-05-22T11:41:44.197Z"
   },
   {
    "duration": 14,
    "start_time": "2023-05-22T11:41:58.789Z"
   },
   {
    "duration": 16,
    "start_time": "2023-05-22T11:42:15.862Z"
   },
   {
    "duration": 17,
    "start_time": "2023-05-22T11:42:30.479Z"
   },
   {
    "duration": 24,
    "start_time": "2023-05-22T11:42:39.197Z"
   },
   {
    "duration": 22,
    "start_time": "2023-05-22T11:44:00.044Z"
   },
   {
    "duration": 24,
    "start_time": "2023-05-22T11:45:19.035Z"
   },
   {
    "duration": 33,
    "start_time": "2023-05-22T11:45:49.047Z"
   },
   {
    "duration": 24,
    "start_time": "2023-05-22T11:46:27.116Z"
   },
   {
    "duration": 612,
    "start_time": "2023-05-22T11:49:58.982Z"
   },
   {
    "duration": 144,
    "start_time": "2023-05-22T11:50:17.328Z"
   },
   {
    "duration": 144,
    "start_time": "2023-05-22T11:50:24.977Z"
   },
   {
    "duration": 140,
    "start_time": "2023-05-22T11:51:33.272Z"
   },
   {
    "duration": 243,
    "start_time": "2023-05-22T11:51:43.890Z"
   },
   {
    "duration": 137,
    "start_time": "2023-05-22T11:55:19.212Z"
   },
   {
    "duration": 35,
    "start_time": "2023-05-22T11:55:55.332Z"
   },
   {
    "duration": 155,
    "start_time": "2023-05-22T11:56:02.031Z"
   },
   {
    "duration": 271,
    "start_time": "2023-05-22T11:56:54.798Z"
   },
   {
    "duration": 14,
    "start_time": "2023-05-22T11:57:17.374Z"
   },
   {
    "duration": 15,
    "start_time": "2023-05-22T11:57:32.360Z"
   },
   {
    "duration": 146,
    "start_time": "2023-05-22T11:57:55.657Z"
   },
   {
    "duration": 154,
    "start_time": "2023-05-22T11:58:16.664Z"
   },
   {
    "duration": 152,
    "start_time": "2023-05-22T11:58:26.756Z"
   },
   {
    "duration": 134,
    "start_time": "2023-05-22T11:58:49.382Z"
   },
   {
    "duration": 7,
    "start_time": "2023-05-22T12:01:40.427Z"
   },
   {
    "duration": 14,
    "start_time": "2023-05-22T12:01:45.098Z"
   },
   {
    "duration": 3,
    "start_time": "2023-05-22T12:03:28.934Z"
   },
   {
    "duration": 13,
    "start_time": "2023-05-22T12:03:40.095Z"
   },
   {
    "duration": 96,
    "start_time": "2023-05-22T12:04:41.469Z"
   },
   {
    "duration": 82,
    "start_time": "2023-05-22T12:04:54.432Z"
   },
   {
    "duration": 14,
    "start_time": "2023-05-22T12:05:22.125Z"
   },
   {
    "duration": 23,
    "start_time": "2023-05-22T12:05:39.538Z"
   },
   {
    "duration": 81,
    "start_time": "2023-05-22T12:05:48.532Z"
   },
   {
    "duration": 1589,
    "start_time": "2023-05-22T12:06:22.820Z"
   },
   {
    "duration": 32,
    "start_time": "2023-05-22T12:06:39.036Z"
   },
   {
    "duration": 166,
    "start_time": "2023-05-22T12:06:53.547Z"
   },
   {
    "duration": 166,
    "start_time": "2023-05-22T12:07:08.131Z"
   },
   {
    "duration": 155,
    "start_time": "2023-05-22T12:07:15.908Z"
   },
   {
    "duration": 1269,
    "start_time": "2023-05-22T12:07:37.587Z"
   },
   {
    "duration": 169,
    "start_time": "2023-05-22T12:08:12.836Z"
   },
   {
    "duration": 173,
    "start_time": "2023-05-22T12:08:20.139Z"
   },
   {
    "duration": 159,
    "start_time": "2023-05-22T12:09:48.039Z"
   },
   {
    "duration": 186,
    "start_time": "2023-05-22T12:10:22.173Z"
   },
   {
    "duration": 20,
    "start_time": "2023-05-22T12:10:38.838Z"
   },
   {
    "duration": 23,
    "start_time": "2023-05-22T12:11:21.537Z"
   },
   {
    "duration": 20,
    "start_time": "2023-05-22T12:11:34.433Z"
   },
   {
    "duration": 165,
    "start_time": "2023-05-22T12:11:51.053Z"
   },
   {
    "duration": 162,
    "start_time": "2023-05-22T12:31:54.898Z"
   },
   {
    "duration": 958,
    "start_time": "2023-05-22T12:33:23.810Z"
   },
   {
    "duration": 882,
    "start_time": "2023-05-22T12:33:31.094Z"
   },
   {
    "duration": 155,
    "start_time": "2023-05-22T12:33:38.963Z"
   },
   {
    "duration": 9,
    "start_time": "2023-05-22T12:36:29.303Z"
   },
   {
    "duration": 14,
    "start_time": "2023-05-22T12:36:47.951Z"
   },
   {
    "duration": 162,
    "start_time": "2023-05-22T12:37:32.304Z"
   },
   {
    "duration": 171,
    "start_time": "2023-05-22T12:37:44.195Z"
   },
   {
    "duration": 154,
    "start_time": "2023-05-22T12:38:33.945Z"
   },
   {
    "duration": 12,
    "start_time": "2023-05-22T12:52:45.283Z"
   },
   {
    "duration": 24,
    "start_time": "2023-05-22T12:53:03.244Z"
   },
   {
    "duration": 17,
    "start_time": "2023-05-22T12:53:47.160Z"
   },
   {
    "duration": 18,
    "start_time": "2023-05-22T12:53:57.466Z"
   },
   {
    "duration": 22,
    "start_time": "2023-05-22T12:55:49.760Z"
   },
   {
    "duration": 9,
    "start_time": "2023-05-22T12:58:22.764Z"
   },
   {
    "duration": 8,
    "start_time": "2023-05-22T12:58:49.812Z"
   },
   {
    "duration": 10,
    "start_time": "2023-05-22T12:59:16.644Z"
   },
   {
    "duration": 7,
    "start_time": "2023-05-22T12:59:50.061Z"
   },
   {
    "duration": 7,
    "start_time": "2023-05-22T13:00:00.807Z"
   },
   {
    "duration": 9,
    "start_time": "2023-05-22T13:00:42.821Z"
   },
   {
    "duration": 8,
    "start_time": "2023-05-22T13:00:44.510Z"
   },
   {
    "duration": 13,
    "start_time": "2023-05-22T13:01:52.313Z"
   },
   {
    "duration": 8,
    "start_time": "2023-05-22T13:02:04.999Z"
   },
   {
    "duration": 9,
    "start_time": "2023-05-22T13:02:16.919Z"
   },
   {
    "duration": 161,
    "start_time": "2023-05-22T13:03:48.347Z"
   },
   {
    "duration": 225,
    "start_time": "2023-05-22T13:05:23.440Z"
   },
   {
    "duration": 163,
    "start_time": "2023-05-22T13:05:44.288Z"
   },
   {
    "duration": 150,
    "start_time": "2023-05-22T13:06:26.467Z"
   },
   {
    "duration": 2,
    "start_time": "2023-05-22T13:06:48.292Z"
   },
   {
    "duration": 96,
    "start_time": "2023-05-22T13:06:48.303Z"
   },
   {
    "duration": 14,
    "start_time": "2023-05-22T13:06:48.401Z"
   },
   {
    "duration": 26,
    "start_time": "2023-05-22T13:06:48.417Z"
   },
   {
    "duration": 37,
    "start_time": "2023-05-22T13:06:48.446Z"
   },
   {
    "duration": 17,
    "start_time": "2023-05-22T13:06:48.485Z"
   },
   {
    "duration": 29,
    "start_time": "2023-05-22T13:06:48.504Z"
   },
   {
    "duration": 29,
    "start_time": "2023-05-22T13:06:48.535Z"
   },
   {
    "duration": 171,
    "start_time": "2023-05-22T13:06:48.565Z"
   },
   {
    "duration": 166,
    "start_time": "2023-05-22T13:06:48.738Z"
   },
   {
    "duration": 181,
    "start_time": "2023-05-22T13:06:48.906Z"
   },
   {
    "duration": 156,
    "start_time": "2023-05-22T13:06:49.089Z"
   },
   {
    "duration": 171,
    "start_time": "2023-05-22T13:06:49.247Z"
   },
   {
    "duration": 44,
    "start_time": "2023-05-22T13:06:49.421Z"
   },
   {
    "duration": 10,
    "start_time": "2023-05-22T13:06:49.467Z"
   },
   {
    "duration": 17,
    "start_time": "2023-05-22T13:06:49.479Z"
   },
   {
    "duration": 170,
    "start_time": "2023-05-22T13:06:49.498Z"
   },
   {
    "duration": 175,
    "start_time": "2023-05-22T13:06:49.670Z"
   },
   {
    "duration": 12,
    "start_time": "2023-05-22T13:31:31.048Z"
   },
   {
    "duration": 19,
    "start_time": "2023-05-22T13:31:39.246Z"
   },
   {
    "duration": 18,
    "start_time": "2023-05-22T13:32:22.397Z"
   },
   {
    "duration": 26,
    "start_time": "2023-05-22T13:32:45.113Z"
   },
   {
    "duration": 410,
    "start_time": "2023-05-23T05:16:31.240Z"
   },
   {
    "duration": 341,
    "start_time": "2023-05-23T05:16:31.653Z"
   },
   {
    "duration": 16,
    "start_time": "2023-05-23T05:16:31.996Z"
   },
   {
    "duration": 29,
    "start_time": "2023-05-23T05:16:32.014Z"
   },
   {
    "duration": 17,
    "start_time": "2023-05-23T05:16:32.051Z"
   },
   {
    "duration": 24,
    "start_time": "2023-05-23T05:16:32.070Z"
   },
   {
    "duration": 29,
    "start_time": "2023-05-23T05:16:32.097Z"
   },
   {
    "duration": 28,
    "start_time": "2023-05-23T05:16:32.128Z"
   },
   {
    "duration": 580,
    "start_time": "2023-05-23T05:16:32.157Z"
   },
   {
    "duration": 148,
    "start_time": "2023-05-23T05:16:32.742Z"
   },
   {
    "duration": 165,
    "start_time": "2023-05-23T05:16:32.892Z"
   },
   {
    "duration": 160,
    "start_time": "2023-05-23T05:16:33.059Z"
   },
   {
    "duration": 222,
    "start_time": "2023-05-23T05:16:33.221Z"
   },
   {
    "duration": 21,
    "start_time": "2023-05-23T05:16:33.447Z"
   },
   {
    "duration": 9,
    "start_time": "2023-05-23T05:16:33.470Z"
   },
   {
    "duration": 11,
    "start_time": "2023-05-23T05:16:33.481Z"
   },
   {
    "duration": 159,
    "start_time": "2023-05-23T05:16:33.494Z"
   },
   {
    "duration": 167,
    "start_time": "2023-05-23T05:16:33.655Z"
   },
   {
    "duration": 32,
    "start_time": "2023-05-23T05:16:33.824Z"
   },
   {
    "duration": 1346,
    "start_time": "2023-05-23T05:18:24.392Z"
   },
   {
    "duration": 22,
    "start_time": "2023-05-23T05:18:58.990Z"
   },
   {
    "duration": 33,
    "start_time": "2023-05-23T05:21:26.776Z"
   },
   {
    "duration": 32,
    "start_time": "2023-05-23T05:21:42.367Z"
   },
   {
    "duration": 4,
    "start_time": "2023-05-23T05:23:51.123Z"
   },
   {
    "duration": 7,
    "start_time": "2023-05-23T05:24:39.267Z"
   },
   {
    "duration": 17,
    "start_time": "2023-05-23T05:24:42.746Z"
   },
   {
    "duration": 24,
    "start_time": "2023-05-23T05:25:03.523Z"
   },
   {
    "duration": 19,
    "start_time": "2023-05-23T05:30:06.152Z"
   },
   {
    "duration": 6,
    "start_time": "2023-05-23T05:31:53.734Z"
   },
   {
    "duration": 22,
    "start_time": "2023-05-23T05:32:01.591Z"
   },
   {
    "duration": 33,
    "start_time": "2023-05-23T05:40:53.114Z"
   },
   {
    "duration": 31,
    "start_time": "2023-05-23T05:41:29.793Z"
   },
   {
    "duration": 86,
    "start_time": "2023-05-23T05:43:27.292Z"
   },
   {
    "duration": 7,
    "start_time": "2023-05-23T05:43:34.653Z"
   },
   {
    "duration": 9,
    "start_time": "2023-05-23T05:43:42.444Z"
   },
   {
    "duration": 8,
    "start_time": "2023-05-23T05:43:58.212Z"
   },
   {
    "duration": 27,
    "start_time": "2023-05-23T05:44:29.989Z"
   },
   {
    "duration": 40,
    "start_time": "2023-05-23T05:45:32.759Z"
   },
   {
    "duration": 30,
    "start_time": "2023-05-23T05:45:53.951Z"
   },
   {
    "duration": 31,
    "start_time": "2023-05-23T05:46:17.863Z"
   },
   {
    "duration": 36,
    "start_time": "2023-05-23T05:50:05.820Z"
   },
   {
    "duration": 29,
    "start_time": "2023-05-23T05:50:09.099Z"
   },
   {
    "duration": 29,
    "start_time": "2023-05-23T05:51:09.386Z"
   },
   {
    "duration": 27,
    "start_time": "2023-05-23T05:52:20.663Z"
   },
   {
    "duration": 22,
    "start_time": "2023-05-23T05:52:44.198Z"
   },
   {
    "duration": 80,
    "start_time": "2023-05-23T06:00:58.130Z"
   },
   {
    "duration": 28,
    "start_time": "2023-05-23T06:01:09.090Z"
   },
   {
    "duration": 25,
    "start_time": "2023-05-23T06:01:16.260Z"
   },
   {
    "duration": 3,
    "start_time": "2023-05-23T06:02:26.949Z"
   },
   {
    "duration": 15,
    "start_time": "2023-05-23T06:02:33.764Z"
   },
   {
    "duration": 17,
    "start_time": "2023-05-23T06:02:48.563Z"
   },
   {
    "duration": 20,
    "start_time": "2023-05-23T06:02:56.460Z"
   },
   {
    "duration": 18,
    "start_time": "2023-05-23T06:02:58.516Z"
   },
   {
    "duration": 15,
    "start_time": "2023-05-23T06:03:10.535Z"
   },
   {
    "duration": 15,
    "start_time": "2023-05-23T06:03:28.309Z"
   },
   {
    "duration": 20,
    "start_time": "2023-05-23T06:03:32.581Z"
   },
   {
    "duration": 17,
    "start_time": "2023-05-23T06:03:34.693Z"
   },
   {
    "duration": 14,
    "start_time": "2023-05-23T06:03:47.685Z"
   },
   {
    "duration": 8,
    "start_time": "2023-05-23T06:06:41.593Z"
   },
   {
    "duration": 1283,
    "start_time": "2023-05-23T06:06:56.680Z"
   },
   {
    "duration": 1143,
    "start_time": "2023-05-23T06:07:22.504Z"
   },
   {
    "duration": 1164,
    "start_time": "2023-05-23T06:07:34.249Z"
   },
   {
    "duration": 1173,
    "start_time": "2023-05-23T06:07:44.433Z"
   },
   {
    "duration": 1104,
    "start_time": "2023-05-23T06:07:53.218Z"
   },
   {
    "duration": 1196,
    "start_time": "2023-05-23T06:07:59.457Z"
   },
   {
    "duration": 27,
    "start_time": "2023-05-23T06:08:05.281Z"
   },
   {
    "duration": 1179,
    "start_time": "2023-05-23T06:08:08.034Z"
   },
   {
    "duration": 9,
    "start_time": "2023-05-23T06:08:15.258Z"
   },
   {
    "duration": 21,
    "start_time": "2023-05-23T06:08:45.177Z"
   },
   {
    "duration": 10,
    "start_time": "2023-05-23T06:08:59.036Z"
   },
   {
    "duration": 12,
    "start_time": "2023-05-23T06:09:09.107Z"
   },
   {
    "duration": 14,
    "start_time": "2023-05-23T06:09:15.050Z"
   },
   {
    "duration": 12,
    "start_time": "2023-05-23T06:10:08.716Z"
   },
   {
    "duration": 24,
    "start_time": "2023-05-23T06:10:27.516Z"
   },
   {
    "duration": 18,
    "start_time": "2023-05-23T06:10:42.300Z"
   },
   {
    "duration": 24,
    "start_time": "2023-05-23T06:10:56.470Z"
   },
   {
    "duration": 24,
    "start_time": "2023-05-23T06:12:32.214Z"
   },
   {
    "duration": 16,
    "start_time": "2023-05-23T06:12:52.006Z"
   },
   {
    "duration": 1249,
    "start_time": "2023-05-23T06:13:04.287Z"
   },
   {
    "duration": 1645,
    "start_time": "2023-05-23T06:13:44.447Z"
   },
   {
    "duration": 11,
    "start_time": "2023-05-23T06:13:54.063Z"
   },
   {
    "duration": 13,
    "start_time": "2023-05-23T06:16:09.481Z"
   },
   {
    "duration": 3052,
    "start_time": "2023-05-23T06:16:21.753Z"
   },
   {
    "duration": 1381,
    "start_time": "2023-05-23T06:16:38.579Z"
   },
   {
    "duration": 29,
    "start_time": "2023-05-23T06:16:50.635Z"
   },
   {
    "duration": 17,
    "start_time": "2023-05-23T06:16:52.707Z"
   },
   {
    "duration": 69,
    "start_time": "2023-05-23T06:17:16.026Z"
   },
   {
    "duration": 1288,
    "start_time": "2023-05-23T06:17:36.648Z"
   },
   {
    "duration": 20,
    "start_time": "2023-05-23T06:17:51.933Z"
   },
   {
    "duration": 14,
    "start_time": "2023-05-23T06:17:54.003Z"
   },
   {
    "duration": 20,
    "start_time": "2023-05-23T06:18:07.571Z"
   },
   {
    "duration": 1253,
    "start_time": "2023-05-23T06:18:10.299Z"
   },
   {
    "duration": 12,
    "start_time": "2023-05-23T06:18:49.268Z"
   },
   {
    "duration": 1199,
    "start_time": "2023-05-23T06:19:07.283Z"
   },
   {
    "duration": 20,
    "start_time": "2023-05-23T06:19:14.165Z"
   },
   {
    "duration": 19,
    "start_time": "2023-05-23T06:19:15.980Z"
   },
   {
    "duration": 22,
    "start_time": "2023-05-23T06:20:58.223Z"
   },
   {
    "duration": 24,
    "start_time": "2023-05-23T06:26:48.916Z"
   },
   {
    "duration": 25,
    "start_time": "2023-05-23T06:26:50.868Z"
   },
   {
    "duration": 99,
    "start_time": "2023-05-23T06:27:54.798Z"
   },
   {
    "duration": 1220,
    "start_time": "2023-05-23T06:29:37.990Z"
   },
   {
    "duration": 35,
    "start_time": "2023-05-23T06:29:56.744Z"
   },
   {
    "duration": 35,
    "start_time": "2023-05-23T06:30:30.256Z"
   },
   {
    "duration": 45,
    "start_time": "2023-05-23T06:30:37.657Z"
   },
   {
    "duration": 116,
    "start_time": "2023-05-23T06:31:22.459Z"
   },
   {
    "duration": 44,
    "start_time": "2023-05-23T06:31:27.920Z"
   },
   {
    "duration": 37,
    "start_time": "2023-05-23T06:31:47.039Z"
   },
   {
    "duration": 1211,
    "start_time": "2023-05-23T06:33:24.660Z"
   },
   {
    "duration": 1264,
    "start_time": "2023-05-23T06:33:38.252Z"
   },
   {
    "duration": 40,
    "start_time": "2023-05-23T06:33:48.182Z"
   },
   {
    "duration": 16,
    "start_time": "2023-05-23T06:39:52.393Z"
   },
   {
    "duration": 33,
    "start_time": "2023-05-23T06:41:59.932Z"
   },
   {
    "duration": 39,
    "start_time": "2023-05-23T06:42:26.724Z"
   },
   {
    "duration": 43,
    "start_time": "2023-05-23T06:43:01.334Z"
   },
   {
    "duration": 1213,
    "start_time": "2023-05-23T06:44:31.376Z"
   },
   {
    "duration": 31,
    "start_time": "2023-05-23T06:44:41.918Z"
   },
   {
    "duration": 23,
    "start_time": "2023-05-23T06:48:25.618Z"
   },
   {
    "duration": 13,
    "start_time": "2023-05-23T06:48:59.994Z"
   },
   {
    "duration": 33,
    "start_time": "2023-05-23T06:49:24.067Z"
   },
   {
    "duration": 4,
    "start_time": "2023-05-23T06:54:10.793Z"
   },
   {
    "duration": 5,
    "start_time": "2023-05-23T06:54:19.143Z"
   },
   {
    "duration": 14,
    "start_time": "2023-05-23T06:55:37.152Z"
   },
   {
    "duration": 22,
    "start_time": "2023-05-23T06:55:43.928Z"
   },
   {
    "duration": 30,
    "start_time": "2023-05-23T07:19:29.168Z"
   },
   {
    "duration": 31,
    "start_time": "2023-05-23T07:19:53.993Z"
   },
   {
    "duration": 24,
    "start_time": "2023-05-23T07:21:29.794Z"
   },
   {
    "duration": 37,
    "start_time": "2023-05-23T07:21:45.753Z"
   },
   {
    "duration": 45,
    "start_time": "2023-05-23T07:23:09.803Z"
   },
   {
    "duration": 31,
    "start_time": "2023-05-23T07:23:26.347Z"
   },
   {
    "duration": 50,
    "start_time": "2023-05-23T07:23:33.292Z"
   },
   {
    "duration": 25,
    "start_time": "2023-05-23T07:23:53.188Z"
   },
   {
    "duration": 27,
    "start_time": "2023-05-23T07:24:08.551Z"
   },
   {
    "duration": 1409,
    "start_time": "2023-05-23T07:32:19.467Z"
   },
   {
    "duration": 23,
    "start_time": "2023-05-23T07:32:26.659Z"
   },
   {
    "duration": 48,
    "start_time": "2023-05-23T07:33:18.011Z"
   },
   {
    "duration": 44,
    "start_time": "2023-05-23T07:37:28.019Z"
   },
   {
    "duration": 13,
    "start_time": "2023-05-23T07:38:47.439Z"
   },
   {
    "duration": 556,
    "start_time": "2023-05-23T07:39:28.450Z"
   },
   {
    "duration": 42,
    "start_time": "2023-05-23T07:40:24.961Z"
   },
   {
    "duration": 9,
    "start_time": "2023-05-23T07:40:40.699Z"
   },
   {
    "duration": 13,
    "start_time": "2023-05-23T07:41:21.792Z"
   },
   {
    "duration": 37,
    "start_time": "2023-05-23T07:44:07.266Z"
   },
   {
    "duration": 31,
    "start_time": "2023-05-23T07:44:28.681Z"
   },
   {
    "duration": 10,
    "start_time": "2023-05-23T07:44:44.781Z"
   },
   {
    "duration": 8,
    "start_time": "2023-05-23T07:45:29.382Z"
   },
   {
    "duration": 10,
    "start_time": "2023-05-23T07:45:46.384Z"
   },
   {
    "duration": 21,
    "start_time": "2023-05-23T08:49:35.420Z"
   },
   {
    "duration": 220,
    "start_time": "2023-05-23T08:49:49.548Z"
   },
   {
    "duration": 179,
    "start_time": "2023-05-23T08:50:16.506Z"
   },
   {
    "duration": 179,
    "start_time": "2023-05-23T08:51:01.167Z"
   },
   {
    "duration": 171,
    "start_time": "2023-05-23T08:51:36.583Z"
   },
   {
    "duration": 177,
    "start_time": "2023-05-23T09:35:38.294Z"
   },
   {
    "duration": 178,
    "start_time": "2023-05-23T09:36:52.562Z"
   },
   {
    "duration": 107,
    "start_time": "2023-05-23T09:37:35.085Z"
   },
   {
    "duration": 93,
    "start_time": "2023-05-23T09:37:46.174Z"
   },
   {
    "duration": 175,
    "start_time": "2023-05-23T09:37:54.392Z"
   },
   {
    "duration": 8,
    "start_time": "2023-05-23T09:42:32.374Z"
   },
   {
    "duration": 10,
    "start_time": "2023-05-23T09:43:19.107Z"
   },
   {
    "duration": 10,
    "start_time": "2023-05-23T09:43:38.152Z"
   },
   {
    "duration": 7,
    "start_time": "2023-05-23T09:44:58.267Z"
   },
   {
    "duration": 9,
    "start_time": "2023-05-23T09:45:04.514Z"
   },
   {
    "duration": 12,
    "start_time": "2023-05-23T09:46:43.652Z"
   },
   {
    "duration": 11,
    "start_time": "2023-05-23T09:46:59.699Z"
   },
   {
    "duration": 9,
    "start_time": "2023-05-23T09:47:13.016Z"
   },
   {
    "duration": 18,
    "start_time": "2023-05-23T09:53:02.317Z"
   },
   {
    "duration": 9,
    "start_time": "2023-05-23T09:53:36.269Z"
   },
   {
    "duration": 10,
    "start_time": "2023-05-23T09:54:58.155Z"
   },
   {
    "duration": 13,
    "start_time": "2023-05-23T09:56:22.506Z"
   },
   {
    "duration": 23,
    "start_time": "2023-05-23T09:59:38.425Z"
   },
   {
    "duration": 10,
    "start_time": "2023-05-23T10:01:25.369Z"
   },
   {
    "duration": 12,
    "start_time": "2023-05-23T10:08:01.852Z"
   },
   {
    "duration": 6,
    "start_time": "2023-05-23T10:09:44.236Z"
   },
   {
    "duration": 6,
    "start_time": "2023-05-23T10:09:50.047Z"
   },
   {
    "duration": 5,
    "start_time": "2023-05-23T10:09:56.217Z"
   },
   {
    "duration": 4,
    "start_time": "2023-05-23T10:10:04.918Z"
   },
   {
    "duration": 6,
    "start_time": "2023-05-23T10:10:15.860Z"
   },
   {
    "duration": 5,
    "start_time": "2023-05-23T10:10:20.389Z"
   },
   {
    "duration": 7,
    "start_time": "2023-05-23T10:10:55.907Z"
   },
   {
    "duration": 6,
    "start_time": "2023-05-23T10:11:08.203Z"
   },
   {
    "duration": 68,
    "start_time": "2023-05-23T10:12:14.049Z"
   },
   {
    "duration": 178,
    "start_time": "2023-05-23T10:13:04.867Z"
   },
   {
    "duration": 316,
    "start_time": "2023-05-23T10:13:14.317Z"
   },
   {
    "duration": 169,
    "start_time": "2023-05-23T10:14:42.967Z"
   },
   {
    "duration": 151,
    "start_time": "2023-05-23T10:16:15.163Z"
   },
   {
    "duration": 13,
    "start_time": "2023-05-23T10:18:11.879Z"
   },
   {
    "duration": 10,
    "start_time": "2023-05-23T10:18:30.410Z"
   },
   {
    "duration": 303,
    "start_time": "2023-05-23T10:18:51.762Z"
   },
   {
    "duration": 10,
    "start_time": "2023-05-23T10:19:16.147Z"
   },
   {
    "duration": 14,
    "start_time": "2023-05-23T10:19:19.669Z"
   },
   {
    "duration": 110,
    "start_time": "2023-05-23T10:23:33.258Z"
   },
   {
    "duration": 142,
    "start_time": "2023-05-23T10:23:49.467Z"
   },
   {
    "duration": 338,
    "start_time": "2023-05-23T10:24:26.058Z"
   },
   {
    "duration": 255,
    "start_time": "2023-05-23T10:24:28.596Z"
   },
   {
    "duration": 224,
    "start_time": "2023-05-23T10:30:53.181Z"
   },
   {
    "duration": 401,
    "start_time": "2023-05-24T05:20:53.313Z"
   },
   {
    "duration": 183,
    "start_time": "2023-05-24T05:20:53.715Z"
   },
   {
    "duration": 14,
    "start_time": "2023-05-24T05:20:53.899Z"
   },
   {
    "duration": 12,
    "start_time": "2023-05-24T05:20:53.916Z"
   },
   {
    "duration": 20,
    "start_time": "2023-05-24T05:20:53.929Z"
   },
   {
    "duration": 9,
    "start_time": "2023-05-24T05:20:53.950Z"
   },
   {
    "duration": 41,
    "start_time": "2023-05-24T05:20:53.960Z"
   },
   {
    "duration": 26,
    "start_time": "2023-05-24T05:20:54.003Z"
   },
   {
    "duration": 533,
    "start_time": "2023-05-24T05:20:54.031Z"
   },
   {
    "duration": 155,
    "start_time": "2023-05-24T05:20:54.569Z"
   },
   {
    "duration": 144,
    "start_time": "2023-05-24T05:20:54.725Z"
   },
   {
    "duration": 143,
    "start_time": "2023-05-24T05:20:54.871Z"
   },
   {
    "duration": 210,
    "start_time": "2023-05-24T05:20:55.015Z"
   },
   {
    "duration": 31,
    "start_time": "2023-05-24T05:20:55.227Z"
   },
   {
    "duration": 10,
    "start_time": "2023-05-24T05:20:55.260Z"
   },
   {
    "duration": 29,
    "start_time": "2023-05-24T05:20:55.272Z"
   },
   {
    "duration": 155,
    "start_time": "2023-05-24T05:20:55.303Z"
   },
   {
    "duration": 170,
    "start_time": "2023-05-24T05:20:55.460Z"
   },
   {
    "duration": 21,
    "start_time": "2023-05-24T05:20:55.632Z"
   },
   {
    "duration": 26,
    "start_time": "2023-05-24T05:20:55.654Z"
   },
   {
    "duration": 17,
    "start_time": "2023-05-24T05:20:55.697Z"
   },
   {
    "duration": 390,
    "start_time": "2023-05-24T05:20:55.716Z"
   },
   {
    "duration": 149,
    "start_time": "2023-05-24T05:20:56.107Z"
   },
   {
    "duration": 8,
    "start_time": "2023-05-24T05:20:56.257Z"
   },
   {
    "duration": 111,
    "start_time": "2023-05-24T05:20:56.267Z"
   },
   {
    "duration": 0,
    "start_time": "2023-05-24T05:20:56.379Z"
   },
   {
    "duration": 0,
    "start_time": "2023-05-24T05:20:56.381Z"
   },
   {
    "duration": 0,
    "start_time": "2023-05-24T05:20:56.382Z"
   },
   {
    "duration": 11,
    "start_time": "2023-05-24T05:24:27.769Z"
   },
   {
    "duration": 11,
    "start_time": "2023-05-24T05:24:57.422Z"
   },
   {
    "duration": 111,
    "start_time": "2023-05-24T05:25:11.076Z"
   },
   {
    "duration": 184,
    "start_time": "2023-05-24T05:25:29.786Z"
   },
   {
    "duration": 111,
    "start_time": "2023-05-24T05:26:11.270Z"
   },
   {
    "duration": 116,
    "start_time": "2023-05-24T05:26:34.227Z"
   },
   {
    "duration": 228,
    "start_time": "2023-05-24T05:27:24.980Z"
   },
   {
    "duration": 10,
    "start_time": "2023-05-24T05:28:39.723Z"
   },
   {
    "duration": 11,
    "start_time": "2023-05-24T05:28:54.909Z"
   },
   {
    "duration": 5,
    "start_time": "2023-05-24T05:29:20.678Z"
   },
   {
    "duration": 6,
    "start_time": "2023-05-24T05:31:22.655Z"
   },
   {
    "duration": 6,
    "start_time": "2023-05-24T05:31:29.016Z"
   },
   {
    "duration": 6,
    "start_time": "2023-05-24T05:39:19.990Z"
   },
   {
    "duration": 6,
    "start_time": "2023-05-24T05:41:51.025Z"
   },
   {
    "duration": 7,
    "start_time": "2023-05-24T05:43:33.118Z"
   },
   {
    "duration": 11,
    "start_time": "2023-05-24T05:45:44.498Z"
   },
   {
    "duration": 13,
    "start_time": "2023-05-24T05:46:29.563Z"
   },
   {
    "duration": 253,
    "start_time": "2023-05-24T05:48:06.167Z"
   },
   {
    "duration": 157,
    "start_time": "2023-05-24T05:48:50.058Z"
   },
   {
    "duration": 6238,
    "start_time": "2023-05-24T05:49:16.412Z"
   },
   {
    "duration": 189,
    "start_time": "2023-05-24T05:49:37.375Z"
   },
   {
    "duration": 37663,
    "start_time": "2023-05-24T05:51:17.677Z"
   },
   {
    "duration": 41297,
    "start_time": "2023-05-24T05:53:41.229Z"
   },
   {
    "duration": 40436,
    "start_time": "2023-05-24T05:55:53.823Z"
   },
   {
    "duration": 39566,
    "start_time": "2023-05-24T05:57:17.326Z"
   },
   {
    "duration": 41547,
    "start_time": "2023-05-24T06:00:00.464Z"
   },
   {
    "duration": 7,
    "start_time": "2023-05-24T06:03:01.309Z"
   },
   {
    "duration": 40138,
    "start_time": "2023-05-24T06:03:30.382Z"
   },
   {
    "duration": 3,
    "start_time": "2023-05-24T06:06:00.687Z"
   },
   {
    "duration": 98,
    "start_time": "2023-05-24T06:06:00.692Z"
   },
   {
    "duration": 16,
    "start_time": "2023-05-24T06:06:00.793Z"
   },
   {
    "duration": 52,
    "start_time": "2023-05-24T06:06:00.811Z"
   },
   {
    "duration": 64,
    "start_time": "2023-05-24T06:06:00.865Z"
   },
   {
    "duration": 44,
    "start_time": "2023-05-24T06:06:00.931Z"
   },
   {
    "duration": 49,
    "start_time": "2023-05-24T06:06:00.977Z"
   },
   {
    "duration": 30,
    "start_time": "2023-05-24T06:06:01.029Z"
   },
   {
    "duration": 177,
    "start_time": "2023-05-24T06:06:01.060Z"
   },
   {
    "duration": 180,
    "start_time": "2023-05-24T06:06:01.240Z"
   },
   {
    "duration": 160,
    "start_time": "2023-05-24T06:06:01.422Z"
   },
   {
    "duration": 173,
    "start_time": "2023-05-24T06:06:01.584Z"
   },
   {
    "duration": 208,
    "start_time": "2023-05-24T06:06:01.759Z"
   },
   {
    "duration": 60,
    "start_time": "2023-05-24T06:06:01.969Z"
   },
   {
    "duration": 10,
    "start_time": "2023-05-24T06:06:02.031Z"
   },
   {
    "duration": 26,
    "start_time": "2023-05-24T06:06:02.044Z"
   },
   {
    "duration": 158,
    "start_time": "2023-05-24T06:06:02.072Z"
   },
   {
    "duration": 172,
    "start_time": "2023-05-24T06:06:02.232Z"
   },
   {
    "duration": 23,
    "start_time": "2023-05-24T06:06:02.406Z"
   },
   {
    "duration": 38,
    "start_time": "2023-05-24T06:06:02.431Z"
   },
   {
    "duration": 35,
    "start_time": "2023-05-24T06:06:02.471Z"
   },
   {
    "duration": 14,
    "start_time": "2023-05-24T06:06:02.507Z"
   },
   {
    "duration": 176,
    "start_time": "2023-05-24T06:06:02.523Z"
   },
   {
    "duration": 10,
    "start_time": "2023-05-24T06:06:02.701Z"
   },
   {
    "duration": 44,
    "start_time": "2023-05-24T06:06:02.713Z"
   },
   {
    "duration": 0,
    "start_time": "2023-05-24T06:06:02.760Z"
   },
   {
    "duration": 0,
    "start_time": "2023-05-24T06:06:02.762Z"
   },
   {
    "duration": 0,
    "start_time": "2023-05-24T06:06:02.763Z"
   },
   {
    "duration": 0,
    "start_time": "2023-05-24T06:06:02.765Z"
   },
   {
    "duration": 7,
    "start_time": "2023-05-24T06:07:23.845Z"
   },
   {
    "duration": 2,
    "start_time": "2023-05-24T06:07:37.374Z"
   },
   {
    "duration": 71,
    "start_time": "2023-05-24T06:07:37.378Z"
   },
   {
    "duration": 14,
    "start_time": "2023-05-24T06:07:37.451Z"
   },
   {
    "duration": 16,
    "start_time": "2023-05-24T06:07:37.467Z"
   },
   {
    "duration": 24,
    "start_time": "2023-05-24T06:07:37.485Z"
   },
   {
    "duration": 12,
    "start_time": "2023-05-24T06:07:37.511Z"
   },
   {
    "duration": 18,
    "start_time": "2023-05-24T06:07:37.525Z"
   },
   {
    "duration": 23,
    "start_time": "2023-05-24T06:07:37.545Z"
   },
   {
    "duration": 154,
    "start_time": "2023-05-24T06:07:37.569Z"
   },
   {
    "duration": 152,
    "start_time": "2023-05-24T06:07:37.724Z"
   },
   {
    "duration": 143,
    "start_time": "2023-05-24T06:07:37.877Z"
   },
   {
    "duration": 141,
    "start_time": "2023-05-24T06:07:38.021Z"
   },
   {
    "duration": 146,
    "start_time": "2023-05-24T06:07:38.164Z"
   },
   {
    "duration": 28,
    "start_time": "2023-05-24T06:07:38.313Z"
   },
   {
    "duration": 9,
    "start_time": "2023-05-24T06:07:38.343Z"
   },
   {
    "duration": 8,
    "start_time": "2023-05-24T06:07:38.353Z"
   },
   {
    "duration": 169,
    "start_time": "2023-05-24T06:07:38.363Z"
   },
   {
    "duration": 159,
    "start_time": "2023-05-24T06:07:38.534Z"
   },
   {
    "duration": 28,
    "start_time": "2023-05-24T06:07:38.694Z"
   },
   {
    "duration": 29,
    "start_time": "2023-05-24T06:07:38.724Z"
   },
   {
    "duration": 43,
    "start_time": "2023-05-24T06:07:38.755Z"
   },
   {
    "duration": 9,
    "start_time": "2023-05-24T06:07:38.800Z"
   },
   {
    "duration": 162,
    "start_time": "2023-05-24T06:07:38.811Z"
   },
   {
    "duration": 9,
    "start_time": "2023-05-24T06:07:38.975Z"
   },
   {
    "duration": 16,
    "start_time": "2023-05-24T06:07:38.985Z"
   },
   {
    "duration": 294,
    "start_time": "2023-05-24T06:07:39.003Z"
   },
   {
    "duration": 135,
    "start_time": "2023-05-24T06:07:39.299Z"
   },
   {
    "duration": 8,
    "start_time": "2023-05-24T06:07:39.437Z"
   },
   {
    "duration": 37986,
    "start_time": "2023-05-24T06:07:39.447Z"
   },
   {
    "duration": 335,
    "start_time": "2023-05-24T06:10:02.424Z"
   },
   {
    "duration": 230,
    "start_time": "2023-05-24T06:11:32.990Z"
   },
   {
    "duration": 181,
    "start_time": "2023-05-24T06:11:56.422Z"
   },
   {
    "duration": 144,
    "start_time": "2023-05-24T06:12:07.022Z"
   },
   {
    "duration": 156,
    "start_time": "2023-05-24T06:12:12.567Z"
   },
   {
    "duration": 18,
    "start_time": "2023-05-24T06:13:35.289Z"
   },
   {
    "duration": 411,
    "start_time": "2023-05-24T15:09:47.108Z"
   },
   {
    "duration": 88,
    "start_time": "2023-05-24T15:09:47.521Z"
   },
   {
    "duration": 16,
    "start_time": "2023-05-24T15:09:47.619Z"
   },
   {
    "duration": 22,
    "start_time": "2023-05-24T15:09:47.637Z"
   },
   {
    "duration": 77,
    "start_time": "2023-05-24T15:09:47.661Z"
   },
   {
    "duration": 15,
    "start_time": "2023-05-24T15:09:47.740Z"
   },
   {
    "duration": 53,
    "start_time": "2023-05-24T15:09:47.757Z"
   },
   {
    "duration": 26,
    "start_time": "2023-05-24T15:09:47.813Z"
   },
   {
    "duration": 393,
    "start_time": "2023-05-24T15:09:47.840Z"
   },
   {
    "duration": 142,
    "start_time": "2023-05-24T15:09:48.235Z"
   },
   {
    "duration": 155,
    "start_time": "2023-05-24T15:09:48.379Z"
   },
   {
    "duration": 142,
    "start_time": "2023-05-24T15:09:48.535Z"
   },
   {
    "duration": 174,
    "start_time": "2023-05-24T15:09:48.679Z"
   },
   {
    "duration": 55,
    "start_time": "2023-05-24T15:09:48.856Z"
   },
   {
    "duration": 62,
    "start_time": "2023-05-24T15:09:48.913Z"
   },
   {
    "duration": 12,
    "start_time": "2023-05-24T15:09:48.977Z"
   },
   {
    "duration": 171,
    "start_time": "2023-05-24T15:09:48.991Z"
   },
   {
    "duration": 165,
    "start_time": "2023-05-24T15:09:49.163Z"
   },
   {
    "duration": 20,
    "start_time": "2023-05-24T15:09:49.330Z"
   },
   {
    "duration": 26,
    "start_time": "2023-05-24T15:09:49.352Z"
   },
   {
    "duration": 29,
    "start_time": "2023-05-24T15:09:49.384Z"
   },
   {
    "duration": 417,
    "start_time": "2023-05-24T15:09:49.415Z"
   },
   {
    "duration": 129,
    "start_time": "2023-05-24T15:09:49.833Z"
   },
   {
    "duration": 7,
    "start_time": "2023-05-24T15:09:49.964Z"
   },
   {
    "duration": 41,
    "start_time": "2023-05-24T15:09:49.985Z"
   },
   {
    "duration": 286,
    "start_time": "2023-05-24T15:09:50.028Z"
   },
   {
    "duration": 104,
    "start_time": "2023-05-24T15:09:50.323Z"
   },
   {
    "duration": 7,
    "start_time": "2023-05-24T15:09:50.430Z"
   },
   {
    "duration": 31854,
    "start_time": "2023-05-24T15:09:50.438Z"
   },
   {
    "duration": 19,
    "start_time": "2023-05-24T15:30:50.711Z"
   },
   {
    "duration": 4,
    "start_time": "2023-05-24T15:44:36.613Z"
   },
   {
    "duration": 393,
    "start_time": "2023-05-24T15:47:19.309Z"
   },
   {
    "duration": 72,
    "start_time": "2023-05-24T15:47:19.703Z"
   },
   {
    "duration": 30,
    "start_time": "2023-05-24T15:47:19.776Z"
   },
   {
    "duration": 24,
    "start_time": "2023-05-24T15:47:19.807Z"
   },
   {
    "duration": 28,
    "start_time": "2023-05-24T15:47:19.833Z"
   },
   {
    "duration": 9,
    "start_time": "2023-05-24T15:47:19.863Z"
   },
   {
    "duration": 32,
    "start_time": "2023-05-24T15:47:19.874Z"
   },
   {
    "duration": 37,
    "start_time": "2023-05-24T15:47:19.907Z"
   },
   {
    "duration": 386,
    "start_time": "2023-05-24T15:47:19.945Z"
   },
   {
    "duration": 159,
    "start_time": "2023-05-24T15:47:20.333Z"
   },
   {
    "duration": 129,
    "start_time": "2023-05-24T15:47:20.493Z"
   },
   {
    "duration": 126,
    "start_time": "2023-05-24T15:47:20.623Z"
   },
   {
    "duration": 147,
    "start_time": "2023-05-24T15:47:20.751Z"
   },
   {
    "duration": 29,
    "start_time": "2023-05-24T15:47:20.906Z"
   },
   {
    "duration": 76,
    "start_time": "2023-05-24T15:47:20.937Z"
   },
   {
    "duration": 9,
    "start_time": "2023-05-24T15:47:21.015Z"
   },
   {
    "duration": 147,
    "start_time": "2023-05-24T15:47:21.025Z"
   },
   {
    "duration": 145,
    "start_time": "2023-05-24T15:47:21.174Z"
   },
   {
    "duration": 21,
    "start_time": "2023-05-24T15:47:21.323Z"
   },
   {
    "duration": 22,
    "start_time": "2023-05-24T15:47:21.346Z"
   },
   {
    "duration": 29,
    "start_time": "2023-05-24T15:47:21.369Z"
   },
   {
    "duration": 54,
    "start_time": "2023-05-24T15:47:21.399Z"
   },
   {
    "duration": 455,
    "start_time": "2023-05-24T15:47:21.455Z"
   },
   {
    "duration": 137,
    "start_time": "2023-05-24T15:47:21.915Z"
   },
   {
    "duration": 8,
    "start_time": "2023-05-24T15:47:22.053Z"
   },
   {
    "duration": 18,
    "start_time": "2023-05-24T15:47:22.062Z"
   },
   {
    "duration": 317,
    "start_time": "2023-05-24T15:47:22.085Z"
   },
   {
    "duration": 103,
    "start_time": "2023-05-24T15:47:22.406Z"
   },
   {
    "duration": 7,
    "start_time": "2023-05-24T15:47:22.516Z"
   },
   {
    "duration": 31623,
    "start_time": "2023-05-24T15:47:22.525Z"
   },
   {
    "duration": 1176,
    "start_time": "2023-05-25T10:02:11.972Z"
   },
   {
    "duration": 3,
    "start_time": "2023-05-25T10:02:25.041Z"
   },
   {
    "duration": 260,
    "start_time": "2023-05-25T10:02:25.045Z"
   },
   {
    "duration": 14,
    "start_time": "2023-05-25T10:02:25.307Z"
   },
   {
    "duration": 15,
    "start_time": "2023-05-25T10:02:25.323Z"
   },
   {
    "duration": 24,
    "start_time": "2023-05-25T10:02:25.340Z"
   },
   {
    "duration": 30,
    "start_time": "2023-05-25T10:02:25.365Z"
   },
   {
    "duration": 38,
    "start_time": "2023-05-25T10:02:25.397Z"
   },
   {
    "duration": 26,
    "start_time": "2023-05-25T10:02:25.437Z"
   },
   {
    "duration": 172,
    "start_time": "2023-05-25T10:02:25.465Z"
   },
   {
    "duration": 128,
    "start_time": "2023-05-25T10:02:25.639Z"
   },
   {
    "duration": 121,
    "start_time": "2023-05-25T10:02:25.769Z"
   },
   {
    "duration": 141,
    "start_time": "2023-05-25T10:02:25.892Z"
   },
   {
    "duration": 170,
    "start_time": "2023-05-25T10:02:26.035Z"
   },
   {
    "duration": 27,
    "start_time": "2023-05-25T10:02:26.207Z"
   },
   {
    "duration": 9,
    "start_time": "2023-05-25T10:02:26.235Z"
   },
   {
    "duration": 8,
    "start_time": "2023-05-25T10:02:26.245Z"
   },
   {
    "duration": 132,
    "start_time": "2023-05-25T10:02:26.254Z"
   },
   {
    "duration": 142,
    "start_time": "2023-05-25T10:02:26.388Z"
   },
   {
    "duration": 18,
    "start_time": "2023-05-25T10:02:26.531Z"
   },
   {
    "duration": 36,
    "start_time": "2023-05-25T10:02:26.550Z"
   },
   {
    "duration": 16,
    "start_time": "2023-05-25T10:02:26.588Z"
   },
   {
    "duration": 16,
    "start_time": "2023-05-25T10:02:26.605Z"
   },
   {
    "duration": 11,
    "start_time": "2023-05-25T10:02:26.622Z"
   },
   {
    "duration": 149,
    "start_time": "2023-05-25T10:02:26.635Z"
   },
   {
    "duration": 7,
    "start_time": "2023-05-25T10:02:26.786Z"
   },
   {
    "duration": 19,
    "start_time": "2023-05-25T10:02:26.794Z"
   },
   {
    "duration": 242,
    "start_time": "2023-05-25T10:02:26.814Z"
   },
   {
    "duration": 103,
    "start_time": "2023-05-25T10:02:27.058Z"
   },
   {
    "duration": 5,
    "start_time": "2023-05-25T10:02:27.163Z"
   },
   {
    "duration": 30497,
    "start_time": "2023-05-25T10:02:27.169Z"
   },
   {
    "duration": 10,
    "start_time": "2023-05-25T10:03:30.528Z"
   },
   {
    "duration": 14,
    "start_time": "2023-05-25T10:03:48.577Z"
   },
   {
    "duration": 14,
    "start_time": "2023-05-25T10:04:20.785Z"
   },
   {
    "duration": 12,
    "start_time": "2023-05-25T10:04:33.690Z"
   },
   {
    "duration": 8,
    "start_time": "2023-05-25T10:09:19.531Z"
   },
   {
    "duration": 3,
    "start_time": "2023-05-25T10:09:36.723Z"
   },
   {
    "duration": 4,
    "start_time": "2023-05-25T10:09:48.221Z"
   },
   {
    "duration": 100,
    "start_time": "2023-05-25T10:10:05.333Z"
   },
   {
    "duration": 5,
    "start_time": "2023-05-25T10:10:47.197Z"
   },
   {
    "duration": 209,
    "start_time": "2023-05-25T10:16:55.428Z"
   },
   {
    "duration": 114,
    "start_time": "2023-05-25T10:17:59.819Z"
   },
   {
    "duration": 8,
    "start_time": "2023-05-25T10:20:38.918Z"
   },
   {
    "duration": 9,
    "start_time": "2023-05-25T10:20:53.918Z"
   },
   {
    "duration": 10,
    "start_time": "2023-05-25T10:21:41.662Z"
   },
   {
    "duration": 8,
    "start_time": "2023-05-25T10:22:02.288Z"
   },
   {
    "duration": 7,
    "start_time": "2023-05-25T10:22:10.927Z"
   },
   {
    "duration": 8,
    "start_time": "2023-05-25T10:57:47.313Z"
   },
   {
    "duration": 9,
    "start_time": "2023-05-25T10:58:36.839Z"
   },
   {
    "duration": 111,
    "start_time": "2023-05-25T10:59:12.192Z"
   },
   {
    "duration": 1945,
    "start_time": "2023-05-25T11:00:05.570Z"
   },
   {
    "duration": 8,
    "start_time": "2023-05-25T11:00:18.552Z"
   },
   {
    "duration": 1910,
    "start_time": "2023-05-25T11:00:25.281Z"
   },
   {
    "duration": 8,
    "start_time": "2023-05-25T11:00:52.338Z"
   },
   {
    "duration": 2281,
    "start_time": "2023-05-25T11:01:02.114Z"
   },
   {
    "duration": 1746,
    "start_time": "2023-05-25T11:01:11.849Z"
   },
   {
    "duration": 14,
    "start_time": "2023-05-25T11:02:13.900Z"
   },
   {
    "duration": 11,
    "start_time": "2023-05-25T11:20:00.025Z"
   },
   {
    "duration": 14,
    "start_time": "2023-05-25T11:22:13.258Z"
   },
   {
    "duration": 23,
    "start_time": "2023-05-25T11:22:27.313Z"
   },
   {
    "duration": 200,
    "start_time": "2023-05-25T11:22:33.772Z"
   },
   {
    "duration": 354,
    "start_time": "2023-05-25T11:22:52.510Z"
   },
   {
    "duration": 212,
    "start_time": "2023-05-25T11:23:07.872Z"
   },
   {
    "duration": 158,
    "start_time": "2023-05-25T11:24:00.171Z"
   },
   {
    "duration": 1097,
    "start_time": "2023-05-25T11:27:37.232Z"
   },
   {
    "duration": 122,
    "start_time": "2023-05-25T11:27:38.331Z"
   },
   {
    "duration": 26,
    "start_time": "2023-05-25T11:27:38.455Z"
   },
   {
    "duration": 21,
    "start_time": "2023-05-25T11:27:38.483Z"
   },
   {
    "duration": 19,
    "start_time": "2023-05-25T11:27:38.508Z"
   },
   {
    "duration": 13,
    "start_time": "2023-05-25T11:27:38.529Z"
   },
   {
    "duration": 15,
    "start_time": "2023-05-25T11:27:38.544Z"
   },
   {
    "duration": 43,
    "start_time": "2023-05-25T11:27:38.561Z"
   },
   {
    "duration": 39,
    "start_time": "2023-05-25T11:27:38.607Z"
   },
   {
    "duration": 178,
    "start_time": "2023-05-25T11:27:38.651Z"
   },
   {
    "duration": 207,
    "start_time": "2023-05-25T11:27:38.831Z"
   },
   {
    "duration": 222,
    "start_time": "2023-05-25T11:27:39.040Z"
   },
   {
    "duration": 163,
    "start_time": "2023-05-25T11:27:39.264Z"
   },
   {
    "duration": 141,
    "start_time": "2023-05-25T11:27:39.429Z"
   },
   {
    "duration": 187,
    "start_time": "2023-05-25T11:27:39.572Z"
   },
   {
    "duration": 64,
    "start_time": "2023-05-25T11:27:39.761Z"
   },
   {
    "duration": 14,
    "start_time": "2023-05-25T11:27:39.828Z"
   },
   {
    "duration": 8,
    "start_time": "2023-05-25T11:27:39.844Z"
   },
   {
    "duration": 161,
    "start_time": "2023-05-25T11:27:39.854Z"
   },
   {
    "duration": 187,
    "start_time": "2023-05-25T11:27:40.017Z"
   },
   {
    "duration": 30,
    "start_time": "2023-05-25T11:27:40.206Z"
   },
   {
    "duration": 29,
    "start_time": "2023-05-25T11:27:40.239Z"
   },
   {
    "duration": 54,
    "start_time": "2023-05-25T11:27:40.270Z"
   },
   {
    "duration": 18,
    "start_time": "2023-05-25T11:27:40.327Z"
   },
   {
    "duration": 13,
    "start_time": "2023-05-25T11:27:40.346Z"
   },
   {
    "duration": 179,
    "start_time": "2023-05-25T11:27:40.361Z"
   },
   {
    "duration": 11,
    "start_time": "2023-05-25T11:27:40.546Z"
   },
   {
    "duration": 33,
    "start_time": "2023-05-25T11:27:40.561Z"
   },
   {
    "duration": 401,
    "start_time": "2023-05-25T11:27:40.607Z"
   },
   {
    "duration": 158,
    "start_time": "2023-05-25T11:27:41.023Z"
   },
   {
    "duration": 32,
    "start_time": "2023-05-25T11:27:41.188Z"
   },
   {
    "duration": 35349,
    "start_time": "2023-05-25T11:27:41.223Z"
   },
   {
    "duration": 162,
    "start_time": "2023-05-25T11:29:06.330Z"
   },
   {
    "duration": 196,
    "start_time": "2023-05-25T11:29:21.728Z"
   },
   {
    "duration": 271,
    "start_time": "2023-05-25T11:29:46.101Z"
   },
   {
    "duration": 119,
    "start_time": "2023-05-25T11:30:53.306Z"
   },
   {
    "duration": 122,
    "start_time": "2023-05-25T11:34:03.853Z"
   },
   {
    "duration": 149,
    "start_time": "2023-05-25T11:34:20.708Z"
   },
   {
    "duration": 145,
    "start_time": "2023-05-25T11:34:53.062Z"
   },
   {
    "duration": 4,
    "start_time": "2023-05-25T11:35:24.678Z"
   },
   {
    "duration": 5,
    "start_time": "2023-05-25T11:36:49.823Z"
   },
   {
    "duration": 5,
    "start_time": "2023-05-25T11:37:11.657Z"
   },
   {
    "duration": 134,
    "start_time": "2023-05-25T11:38:25.425Z"
   },
   {
    "duration": 139,
    "start_time": "2023-05-25T11:38:47.039Z"
   },
   {
    "duration": 212,
    "start_time": "2023-05-25T11:38:55.403Z"
   },
   {
    "duration": 211,
    "start_time": "2023-05-25T11:39:31.819Z"
   },
   {
    "duration": 126,
    "start_time": "2023-05-25T11:40:09.219Z"
   },
   {
    "duration": 279,
    "start_time": "2023-05-25T11:40:23.212Z"
   },
   {
    "duration": 140,
    "start_time": "2023-05-25T11:40:34.764Z"
   },
   {
    "duration": 4,
    "start_time": "2023-05-25T11:40:39.357Z"
   },
   {
    "duration": 73,
    "start_time": "2023-05-25T11:40:39.364Z"
   },
   {
    "duration": 15,
    "start_time": "2023-05-25T11:40:39.438Z"
   },
   {
    "duration": 42,
    "start_time": "2023-05-25T11:40:39.455Z"
   },
   {
    "duration": 25,
    "start_time": "2023-05-25T11:40:39.499Z"
   },
   {
    "duration": 12,
    "start_time": "2023-05-25T11:40:39.525Z"
   },
   {
    "duration": 19,
    "start_time": "2023-05-25T11:40:39.539Z"
   },
   {
    "duration": 5,
    "start_time": "2023-05-25T11:40:39.560Z"
   },
   {
    "duration": 65,
    "start_time": "2023-05-25T11:40:39.567Z"
   },
   {
    "duration": 34,
    "start_time": "2023-05-25T11:40:39.634Z"
   },
   {
    "duration": 168,
    "start_time": "2023-05-25T11:40:39.669Z"
   },
   {
    "duration": 163,
    "start_time": "2023-05-25T11:40:39.839Z"
   },
   {
    "duration": 137,
    "start_time": "2023-05-25T11:40:40.004Z"
   },
   {
    "duration": 122,
    "start_time": "2023-05-25T11:40:40.144Z"
   },
   {
    "duration": 145,
    "start_time": "2023-05-25T11:40:40.267Z"
   },
   {
    "duration": 30,
    "start_time": "2023-05-25T11:40:40.414Z"
   },
   {
    "duration": 8,
    "start_time": "2023-05-25T11:40:40.446Z"
   },
   {
    "duration": 12,
    "start_time": "2023-05-25T11:40:40.456Z"
   },
   {
    "duration": 137,
    "start_time": "2023-05-25T11:40:40.469Z"
   },
   {
    "duration": 145,
    "start_time": "2023-05-25T11:40:40.607Z"
   },
   {
    "duration": 37,
    "start_time": "2023-05-25T11:40:40.753Z"
   },
   {
    "duration": 33,
    "start_time": "2023-05-25T11:40:40.791Z"
   },
   {
    "duration": 17,
    "start_time": "2023-05-25T11:40:40.826Z"
   },
   {
    "duration": 19,
    "start_time": "2023-05-25T11:40:40.845Z"
   },
   {
    "duration": 29,
    "start_time": "2023-05-25T11:40:40.865Z"
   },
   {
    "duration": 156,
    "start_time": "2023-05-25T11:40:40.895Z"
   },
   {
    "duration": 9,
    "start_time": "2023-05-25T11:40:41.053Z"
   },
   {
    "duration": 47,
    "start_time": "2023-05-25T11:40:41.064Z"
   },
   {
    "duration": 239,
    "start_time": "2023-05-25T11:40:41.113Z"
   },
   {
    "duration": 104,
    "start_time": "2023-05-25T11:40:41.353Z"
   },
   {
    "duration": 6,
    "start_time": "2023-05-25T11:40:41.458Z"
   },
   {
    "duration": 31837,
    "start_time": "2023-05-25T11:40:41.465Z"
   },
   {
    "duration": 140,
    "start_time": "2023-05-25T11:42:35.358Z"
   },
   {
    "duration": 148,
    "start_time": "2023-05-25T11:42:44.213Z"
   },
   {
    "duration": 111,
    "start_time": "2023-05-25T11:42:53.702Z"
   },
   {
    "duration": 129,
    "start_time": "2023-05-25T11:43:35.104Z"
   },
   {
    "duration": 119,
    "start_time": "2023-05-25T11:43:49.350Z"
   },
   {
    "duration": 2,
    "start_time": "2023-05-25T11:44:33.415Z"
   },
   {
    "duration": 118,
    "start_time": "2023-05-25T11:44:59.240Z"
   },
   {
    "duration": 146,
    "start_time": "2023-05-25T11:45:18.976Z"
   },
   {
    "duration": 135,
    "start_time": "2023-05-25T11:45:34.065Z"
   },
   {
    "duration": 138,
    "start_time": "2023-05-25T11:45:40.366Z"
   },
   {
    "duration": 197,
    "start_time": "2023-05-25T11:45:48.893Z"
   },
   {
    "duration": 226,
    "start_time": "2023-05-25T11:46:02.103Z"
   },
   {
    "duration": 201,
    "start_time": "2023-05-25T11:46:08.161Z"
   },
   {
    "duration": 161,
    "start_time": "2023-05-25T11:46:18.183Z"
   },
   {
    "duration": 122,
    "start_time": "2023-05-25T11:46:22.568Z"
   },
   {
    "duration": 264,
    "start_time": "2023-05-25T11:46:27.998Z"
   },
   {
    "duration": 175,
    "start_time": "2023-05-25T11:46:32.901Z"
   },
   {
    "duration": 148,
    "start_time": "2023-05-25T11:46:41.313Z"
   },
   {
    "duration": 155,
    "start_time": "2023-05-25T11:46:45.953Z"
   },
   {
    "duration": 141,
    "start_time": "2023-05-25T11:50:33.304Z"
   },
   {
    "duration": 225,
    "start_time": "2023-05-25T11:52:16.678Z"
   },
   {
    "duration": 152,
    "start_time": "2023-05-25T11:52:25.200Z"
   },
   {
    "duration": 226,
    "start_time": "2023-05-25T11:52:32.478Z"
   },
   {
    "duration": 211,
    "start_time": "2023-05-25T11:56:52.044Z"
   },
   {
    "duration": 4,
    "start_time": "2023-05-25T12:12:06.910Z"
   },
   {
    "duration": 4,
    "start_time": "2023-05-25T12:12:50.174Z"
   },
   {
    "duration": 261,
    "start_time": "2023-05-25T12:13:18.455Z"
   },
   {
    "duration": 124,
    "start_time": "2023-05-25T12:16:02.955Z"
   },
   {
    "duration": 323,
    "start_time": "2023-05-25T12:16:36.180Z"
   },
   {
    "duration": 138,
    "start_time": "2023-05-25T12:17:04.575Z"
   },
   {
    "duration": 140,
    "start_time": "2023-05-25T12:19:43.173Z"
   },
   {
    "duration": 14,
    "start_time": "2023-05-25T12:31:55.889Z"
   },
   {
    "duration": 23,
    "start_time": "2023-05-25T12:32:31.451Z"
   },
   {
    "duration": 23,
    "start_time": "2023-05-25T12:34:18.304Z"
   },
   {
    "duration": 172,
    "start_time": "2023-05-25T12:34:39.637Z"
   },
   {
    "duration": 151,
    "start_time": "2023-05-25T12:34:54.982Z"
   },
   {
    "duration": 161,
    "start_time": "2023-05-25T12:35:42.774Z"
   },
   {
    "duration": 170,
    "start_time": "2023-05-25T12:36:03.240Z"
   },
   {
    "duration": 177,
    "start_time": "2023-05-25T12:36:55.675Z"
   },
   {
    "duration": 160,
    "start_time": "2023-05-25T12:37:19.384Z"
   },
   {
    "duration": 2,
    "start_time": "2023-05-25T12:38:24.581Z"
   },
   {
    "duration": 131,
    "start_time": "2023-05-25T12:49:13.037Z"
   },
   {
    "duration": 144,
    "start_time": "2023-05-25T12:49:23.582Z"
   },
   {
    "duration": 186,
    "start_time": "2023-05-25T12:49:36.238Z"
   },
   {
    "duration": 208,
    "start_time": "2023-05-25T12:50:01.959Z"
   },
   {
    "duration": 137,
    "start_time": "2023-05-25T12:50:24.453Z"
   },
   {
    "duration": 147,
    "start_time": "2023-05-25T12:50:55.007Z"
   },
   {
    "duration": 23,
    "start_time": "2023-05-25T12:51:20.304Z"
   },
   {
    "duration": 142,
    "start_time": "2023-05-25T12:51:25.776Z"
   },
   {
    "duration": 672,
    "start_time": "2023-05-25T12:52:01.200Z"
   },
   {
    "duration": 136,
    "start_time": "2023-05-25T12:52:07.207Z"
   },
   {
    "duration": 378,
    "start_time": "2023-05-25T12:52:20.816Z"
   },
   {
    "duration": 134,
    "start_time": "2023-05-25T12:52:59.208Z"
   },
   {
    "duration": 177,
    "start_time": "2023-05-25T12:55:39.251Z"
   },
   {
    "duration": 148,
    "start_time": "2023-05-25T12:56:08.696Z"
   },
   {
    "duration": 278,
    "start_time": "2023-05-25T12:56:36.324Z"
   },
   {
    "duration": 136,
    "start_time": "2023-05-25T12:58:06.102Z"
   },
   {
    "duration": 153,
    "start_time": "2023-05-25T12:58:57.959Z"
   },
   {
    "duration": 236,
    "start_time": "2023-05-25T12:59:04.579Z"
   },
   {
    "duration": 33,
    "start_time": "2023-05-25T13:02:39.863Z"
   },
   {
    "duration": 47,
    "start_time": "2023-05-25T13:03:59.156Z"
   },
   {
    "duration": 19,
    "start_time": "2023-05-25T13:23:05.451Z"
   },
   {
    "duration": 15,
    "start_time": "2023-05-25T13:23:08.505Z"
   },
   {
    "duration": 25,
    "start_time": "2023-05-25T13:28:33.649Z"
   },
   {
    "duration": 22,
    "start_time": "2023-05-25T13:28:57.698Z"
   },
   {
    "duration": 21,
    "start_time": "2023-05-25T13:29:07.135Z"
   },
   {
    "duration": 76,
    "start_time": "2023-05-25T13:29:15.560Z"
   },
   {
    "duration": 21,
    "start_time": "2023-05-25T13:29:19.945Z"
   },
   {
    "duration": 18,
    "start_time": "2023-05-25T13:29:33.996Z"
   },
   {
    "duration": 38,
    "start_time": "2023-05-25T13:29:44.680Z"
   },
   {
    "duration": 15,
    "start_time": "2023-05-25T13:30:48.825Z"
   },
   {
    "duration": 48,
    "start_time": "2023-05-25T13:31:52.760Z"
   },
   {
    "duration": 15,
    "start_time": "2023-05-25T13:33:22.332Z"
   },
   {
    "duration": 20,
    "start_time": "2023-05-25T13:33:29.004Z"
   },
   {
    "duration": 8,
    "start_time": "2023-05-25T13:38:10.307Z"
   },
   {
    "duration": 20,
    "start_time": "2023-05-25T13:38:19.805Z"
   },
   {
    "duration": 20,
    "start_time": "2023-05-25T13:39:25.080Z"
   },
   {
    "duration": 3,
    "start_time": "2023-05-25T13:39:40.731Z"
   },
   {
    "duration": 8,
    "start_time": "2023-05-25T13:41:14.104Z"
   },
   {
    "duration": 6,
    "start_time": "2023-05-25T13:42:00.220Z"
   },
   {
    "duration": 7,
    "start_time": "2023-05-25T13:42:17.497Z"
   },
   {
    "duration": 27,
    "start_time": "2023-05-25T13:43:42.747Z"
   },
   {
    "duration": 127,
    "start_time": "2023-05-25T13:48:46.142Z"
   },
   {
    "duration": 9,
    "start_time": "2023-05-25T13:50:30.514Z"
   },
   {
    "duration": 8,
    "start_time": "2023-05-25T13:50:47.640Z"
   },
   {
    "duration": 18,
    "start_time": "2023-05-25T13:51:00.174Z"
   },
   {
    "duration": 10,
    "start_time": "2023-05-25T13:51:07.179Z"
   },
   {
    "duration": 7,
    "start_time": "2023-05-25T13:54:32.299Z"
   },
   {
    "duration": 6,
    "start_time": "2023-05-25T13:54:40.366Z"
   },
   {
    "duration": 1051,
    "start_time": "2023-05-25T13:59:06.199Z"
   },
   {
    "duration": 935,
    "start_time": "2023-05-25T14:00:07.539Z"
   },
   {
    "duration": 987,
    "start_time": "2023-05-25T14:00:16.379Z"
   },
   {
    "duration": 92,
    "start_time": "2023-05-26T05:44:14.838Z"
   },
   {
    "duration": 1450,
    "start_time": "2023-05-26T05:44:20.513Z"
   },
   {
    "duration": 474,
    "start_time": "2023-05-26T05:44:21.966Z"
   },
   {
    "duration": 37,
    "start_time": "2023-05-26T05:44:22.442Z"
   },
   {
    "duration": 34,
    "start_time": "2023-05-26T05:44:22.482Z"
   },
   {
    "duration": 23,
    "start_time": "2023-05-26T05:44:22.519Z"
   },
   {
    "duration": 32,
    "start_time": "2023-05-26T05:44:22.545Z"
   },
   {
    "duration": 40,
    "start_time": "2023-05-26T05:44:22.581Z"
   },
   {
    "duration": 15,
    "start_time": "2023-05-26T05:44:22.624Z"
   },
   {
    "duration": 68,
    "start_time": "2023-05-26T05:44:22.641Z"
   },
   {
    "duration": 10,
    "start_time": "2023-05-26T05:44:22.716Z"
   },
   {
    "duration": 182,
    "start_time": "2023-05-26T05:44:22.728Z"
   },
   {
    "duration": 190,
    "start_time": "2023-05-26T05:44:22.914Z"
   },
   {
    "duration": 262,
    "start_time": "2023-05-26T05:44:23.106Z"
   },
   {
    "duration": 336,
    "start_time": "2023-05-26T05:44:23.373Z"
   },
   {
    "duration": 386,
    "start_time": "2023-05-26T05:44:23.715Z"
   },
   {
    "duration": 63,
    "start_time": "2023-05-26T05:44:24.103Z"
   },
   {
    "duration": 15,
    "start_time": "2023-05-26T05:44:24.168Z"
   },
   {
    "duration": 18,
    "start_time": "2023-05-26T05:44:24.196Z"
   },
   {
    "duration": 17,
    "start_time": "2023-05-26T05:44:24.216Z"
   },
   {
    "duration": 5,
    "start_time": "2023-05-26T05:44:24.236Z"
   },
   {
    "duration": 251,
    "start_time": "2023-05-26T05:44:24.242Z"
   },
   {
    "duration": 45,
    "start_time": "2023-05-26T05:44:24.495Z"
   },
   {
    "duration": 65,
    "start_time": "2023-05-26T05:44:24.542Z"
   },
   {
    "duration": 26,
    "start_time": "2023-05-26T05:44:24.609Z"
   },
   {
    "duration": 28,
    "start_time": "2023-05-26T05:44:24.637Z"
   },
   {
    "duration": 17,
    "start_time": "2023-05-26T05:44:24.672Z"
   },
   {
    "duration": 76,
    "start_time": "2023-05-26T05:44:24.693Z"
   },
   {
    "duration": 0,
    "start_time": "2023-05-26T05:44:24.771Z"
   },
   {
    "duration": 0,
    "start_time": "2023-05-26T05:44:24.772Z"
   },
   {
    "duration": 0,
    "start_time": "2023-05-26T05:44:24.774Z"
   },
   {
    "duration": 0,
    "start_time": "2023-05-26T05:44:24.775Z"
   },
   {
    "duration": 0,
    "start_time": "2023-05-26T05:44:24.776Z"
   },
   {
    "duration": 0,
    "start_time": "2023-05-26T05:44:24.778Z"
   },
   {
    "duration": 21,
    "start_time": "2023-05-26T05:51:06.798Z"
   },
   {
    "duration": 13,
    "start_time": "2023-05-26T05:52:02.710Z"
   },
   {
    "duration": 1119,
    "start_time": "2023-05-26T05:52:15.695Z"
   },
   {
    "duration": 14,
    "start_time": "2023-05-26T05:52:39.708Z"
   },
   {
    "duration": 14,
    "start_time": "2023-05-26T05:53:21.324Z"
   },
   {
    "duration": 19,
    "start_time": "2023-05-26T05:53:50.606Z"
   },
   {
    "duration": 17,
    "start_time": "2023-05-26T05:54:47.663Z"
   },
   {
    "duration": 1290,
    "start_time": "2023-05-26T05:55:19.152Z"
   },
   {
    "duration": 1242,
    "start_time": "2023-05-26T05:59:56.047Z"
   },
   {
    "duration": 1633,
    "start_time": "2023-05-26T06:20:58.423Z"
   },
   {
    "duration": 217,
    "start_time": "2023-05-26T06:27:01.208Z"
   },
   {
    "duration": 3591,
    "start_time": "2023-05-26T06:29:04.595Z"
   },
   {
    "duration": 507,
    "start_time": "2023-05-26T06:29:59.652Z"
   },
   {
    "duration": 211,
    "start_time": "2023-05-26T06:30:09.458Z"
   },
   {
    "duration": 306,
    "start_time": "2023-05-26T06:31:12.316Z"
   },
   {
    "duration": 404,
    "start_time": "2023-05-26T06:31:58.345Z"
   },
   {
    "duration": 17,
    "start_time": "2023-05-26T06:32:23.040Z"
   },
   {
    "duration": 1054,
    "start_time": "2023-05-26T13:33:53.636Z"
   },
   {
    "duration": 123,
    "start_time": "2023-05-26T13:33:54.692Z"
   },
   {
    "duration": 19,
    "start_time": "2023-05-26T13:33:54.817Z"
   },
   {
    "duration": 14,
    "start_time": "2023-05-26T13:33:54.838Z"
   },
   {
    "duration": 14,
    "start_time": "2023-05-26T13:33:54.854Z"
   },
   {
    "duration": 9,
    "start_time": "2023-05-26T13:33:54.870Z"
   },
   {
    "duration": 45,
    "start_time": "2023-05-26T13:33:54.881Z"
   },
   {
    "duration": 6,
    "start_time": "2023-05-26T13:33:54.927Z"
   },
   {
    "duration": 29,
    "start_time": "2023-05-26T13:33:54.934Z"
   },
   {
    "duration": 4,
    "start_time": "2023-05-26T13:33:54.967Z"
   },
   {
    "duration": 182,
    "start_time": "2023-05-26T13:33:54.973Z"
   },
   {
    "duration": 146,
    "start_time": "2023-05-26T13:33:55.156Z"
   },
   {
    "duration": 171,
    "start_time": "2023-05-26T13:33:55.303Z"
   },
   {
    "duration": 241,
    "start_time": "2023-05-26T13:33:55.476Z"
   },
   {
    "duration": 248,
    "start_time": "2023-05-26T13:33:55.719Z"
   },
   {
    "duration": 28,
    "start_time": "2023-05-26T13:33:55.969Z"
   },
   {
    "duration": 18,
    "start_time": "2023-05-26T13:33:55.999Z"
   },
   {
    "duration": 10,
    "start_time": "2023-05-26T13:33:56.019Z"
   },
   {
    "duration": 7,
    "start_time": "2023-05-26T13:33:56.030Z"
   },
   {
    "duration": 5,
    "start_time": "2023-05-26T13:33:56.039Z"
   },
   {
    "duration": 211,
    "start_time": "2023-05-26T13:33:56.045Z"
   },
   {
    "duration": 30,
    "start_time": "2023-05-26T13:33:56.258Z"
   },
   {
    "duration": 48,
    "start_time": "2023-05-26T13:33:56.290Z"
   },
   {
    "duration": 20,
    "start_time": "2023-05-26T13:33:56.340Z"
   },
   {
    "duration": 16,
    "start_time": "2023-05-26T13:33:56.361Z"
   },
   {
    "duration": 7,
    "start_time": "2023-05-26T13:33:56.378Z"
   },
   {
    "duration": 32,
    "start_time": "2023-05-26T13:33:56.387Z"
   },
   {
    "duration": 9,
    "start_time": "2023-05-26T13:33:56.422Z"
   },
   {
    "duration": 7,
    "start_time": "2023-05-26T13:33:56.432Z"
   },
   {
    "duration": 269,
    "start_time": "2023-05-26T13:33:56.440Z"
   },
   {
    "duration": 108,
    "start_time": "2023-05-26T13:33:56.711Z"
   },
   {
    "duration": 5,
    "start_time": "2023-05-26T13:33:56.821Z"
   },
   {
    "duration": 188,
    "start_time": "2023-05-26T13:33:56.828Z"
   },
   {
    "duration": 5,
    "start_time": "2023-05-26T13:40:51.693Z"
   },
   {
    "duration": 1033,
    "start_time": "2023-05-26T13:47:39.018Z"
   },
   {
    "duration": 109,
    "start_time": "2023-05-26T13:47:40.053Z"
   },
   {
    "duration": 18,
    "start_time": "2023-05-26T13:47:40.164Z"
   },
   {
    "duration": 15,
    "start_time": "2023-05-26T13:47:40.185Z"
   },
   {
    "duration": 12,
    "start_time": "2023-05-26T13:47:40.202Z"
   },
   {
    "duration": 9,
    "start_time": "2023-05-26T13:47:40.217Z"
   },
   {
    "duration": 12,
    "start_time": "2023-05-26T13:47:40.228Z"
   },
   {
    "duration": 6,
    "start_time": "2023-05-26T13:47:40.242Z"
   },
   {
    "duration": 39,
    "start_time": "2023-05-26T13:47:40.249Z"
   },
   {
    "duration": 3,
    "start_time": "2023-05-26T13:47:40.291Z"
   },
   {
    "duration": 148,
    "start_time": "2023-05-26T13:47:40.296Z"
   },
   {
    "duration": 157,
    "start_time": "2023-05-26T13:47:40.446Z"
   },
   {
    "duration": 179,
    "start_time": "2023-05-26T13:47:40.605Z"
   },
   {
    "duration": 268,
    "start_time": "2023-05-26T13:47:40.790Z"
   },
   {
    "duration": 244,
    "start_time": "2023-05-26T13:47:41.059Z"
   },
   {
    "duration": 37,
    "start_time": "2023-05-26T13:47:41.305Z"
   },
   {
    "duration": 3,
    "start_time": "2023-05-26T13:47:41.344Z"
   },
   {
    "duration": 15,
    "start_time": "2023-05-26T13:47:41.348Z"
   },
   {
    "duration": 7,
    "start_time": "2023-05-26T13:47:41.365Z"
   },
   {
    "duration": 8,
    "start_time": "2023-05-26T13:47:41.374Z"
   },
   {
    "duration": 181,
    "start_time": "2023-05-26T13:47:41.383Z"
   },
   {
    "duration": 29,
    "start_time": "2023-05-26T13:47:41.566Z"
   },
   {
    "duration": 45,
    "start_time": "2023-05-26T13:47:41.597Z"
   },
   {
    "duration": 20,
    "start_time": "2023-05-26T13:47:41.644Z"
   },
   {
    "duration": 15,
    "start_time": "2023-05-26T13:47:41.666Z"
   },
   {
    "duration": 7,
    "start_time": "2023-05-26T13:47:41.682Z"
   },
   {
    "duration": 45,
    "start_time": "2023-05-26T13:47:41.690Z"
   },
   {
    "duration": 16,
    "start_time": "2023-05-26T13:47:41.738Z"
   },
   {
    "duration": 7,
    "start_time": "2023-05-26T13:47:41.755Z"
   },
   {
    "duration": 273,
    "start_time": "2023-05-26T13:47:41.763Z"
   },
   {
    "duration": 111,
    "start_time": "2023-05-26T13:47:42.037Z"
   },
   {
    "duration": 6,
    "start_time": "2023-05-26T13:47:42.150Z"
   },
   {
    "duration": 168,
    "start_time": "2023-05-26T13:47:42.157Z"
   },
   {
    "duration": 53,
    "start_time": "2023-05-26T16:03:27.821Z"
   },
   {
    "duration": 1385,
    "start_time": "2023-05-26T16:03:32.762Z"
   },
   {
    "duration": 688,
    "start_time": "2023-05-26T16:03:34.150Z"
   },
   {
    "duration": 22,
    "start_time": "2023-05-26T16:03:34.840Z"
   },
   {
    "duration": 22,
    "start_time": "2023-05-26T16:03:34.865Z"
   },
   {
    "duration": 25,
    "start_time": "2023-05-26T16:03:34.889Z"
   },
   {
    "duration": 12,
    "start_time": "2023-05-26T16:03:34.916Z"
   },
   {
    "duration": 27,
    "start_time": "2023-05-26T16:03:34.931Z"
   },
   {
    "duration": 18,
    "start_time": "2023-05-26T16:03:34.960Z"
   },
   {
    "duration": 36,
    "start_time": "2023-05-26T16:03:34.980Z"
   },
   {
    "duration": 5,
    "start_time": "2023-05-26T16:03:35.019Z"
   },
   {
    "duration": 181,
    "start_time": "2023-05-26T16:03:35.026Z"
   },
   {
    "duration": 215,
    "start_time": "2023-05-26T16:03:35.209Z"
   },
   {
    "duration": 221,
    "start_time": "2023-05-26T16:03:35.426Z"
   },
   {
    "duration": 292,
    "start_time": "2023-05-26T16:03:35.649Z"
   },
   {
    "duration": 356,
    "start_time": "2023-05-26T16:03:35.943Z"
   },
   {
    "duration": 36,
    "start_time": "2023-05-26T16:03:36.301Z"
   },
   {
    "duration": 4,
    "start_time": "2023-05-26T16:03:36.338Z"
   },
   {
    "duration": 14,
    "start_time": "2023-05-26T16:03:36.344Z"
   },
   {
    "duration": 14,
    "start_time": "2023-05-26T16:03:36.377Z"
   },
   {
    "duration": 3,
    "start_time": "2023-05-26T16:03:36.392Z"
   },
   {
    "duration": 199,
    "start_time": "2023-05-26T16:03:36.398Z"
   },
   {
    "duration": 28,
    "start_time": "2023-05-26T16:03:36.599Z"
   },
   {
    "duration": 32,
    "start_time": "2023-05-26T16:03:36.628Z"
   },
   {
    "duration": 26,
    "start_time": "2023-05-26T16:03:36.679Z"
   },
   {
    "duration": 17,
    "start_time": "2023-05-26T16:03:36.707Z"
   },
   {
    "duration": 10,
    "start_time": "2023-05-26T16:03:36.725Z"
   },
   {
    "duration": 6,
    "start_time": "2023-05-26T16:03:36.737Z"
   },
   {
    "duration": 45,
    "start_time": "2023-05-26T16:03:36.745Z"
   },
   {
    "duration": 7,
    "start_time": "2023-05-26T16:03:36.792Z"
   },
   {
    "duration": 269,
    "start_time": "2023-05-26T16:03:36.800Z"
   },
   {
    "duration": 134,
    "start_time": "2023-05-26T16:03:37.077Z"
   },
   {
    "duration": 8,
    "start_time": "2023-05-26T16:03:37.216Z"
   },
   {
    "duration": 211,
    "start_time": "2023-05-26T16:03:37.226Z"
   },
   {
    "duration": 268,
    "start_time": "2023-05-26T16:05:58.629Z"
   },
   {
    "duration": 182,
    "start_time": "2023-05-26T16:06:40.683Z"
   },
   {
    "duration": 2,
    "start_time": "2023-05-26T16:08:02.842Z"
   },
   {
    "duration": 6,
    "start_time": "2023-05-26T16:11:46.741Z"
   },
   {
    "duration": 9,
    "start_time": "2023-05-26T16:14:22.887Z"
   },
   {
    "duration": 7,
    "start_time": "2023-05-26T16:15:01.300Z"
   },
   {
    "duration": 7,
    "start_time": "2023-05-26T16:16:17.499Z"
   },
   {
    "duration": 9,
    "start_time": "2023-05-26T16:16:34.684Z"
   },
   {
    "duration": 67,
    "start_time": "2023-05-26T16:16:51.426Z"
   },
   {
    "duration": 7,
    "start_time": "2023-05-26T16:16:59.002Z"
   },
   {
    "duration": 7,
    "start_time": "2023-05-26T16:17:03.088Z"
   },
   {
    "duration": 6,
    "start_time": "2023-05-26T16:17:06.955Z"
   },
   {
    "duration": 7,
    "start_time": "2023-05-26T16:17:13.909Z"
   },
   {
    "duration": 9,
    "start_time": "2023-05-26T16:17:20.687Z"
   },
   {
    "duration": 11,
    "start_time": "2023-05-26T16:17:36.888Z"
   },
   {
    "duration": 79,
    "start_time": "2023-05-26T16:18:43.075Z"
   },
   {
    "duration": 8,
    "start_time": "2023-05-26T16:19:12.238Z"
   },
   {
    "duration": 18,
    "start_time": "2023-05-26T16:19:17.173Z"
   },
   {
    "duration": 16,
    "start_time": "2023-05-26T16:20:24.033Z"
   },
   {
    "duration": 14,
    "start_time": "2023-05-26T16:21:45.795Z"
   },
   {
    "duration": 10,
    "start_time": "2023-05-26T16:21:59.601Z"
   },
   {
    "duration": 9,
    "start_time": "2023-05-26T16:22:04.701Z"
   },
   {
    "duration": 9,
    "start_time": "2023-05-26T16:22:14.244Z"
   },
   {
    "duration": 9,
    "start_time": "2023-05-26T16:22:34.630Z"
   },
   {
    "duration": 9,
    "start_time": "2023-05-26T16:23:46.237Z"
   },
   {
    "duration": 11,
    "start_time": "2023-05-26T16:28:36.194Z"
   },
   {
    "duration": 7,
    "start_time": "2023-05-26T16:29:02.141Z"
   },
   {
    "duration": 15,
    "start_time": "2023-05-26T16:31:49.478Z"
   },
   {
    "duration": 1163,
    "start_time": "2023-05-27T06:57:51.560Z"
   },
   {
    "duration": 347,
    "start_time": "2023-05-27T06:57:52.725Z"
   },
   {
    "duration": 22,
    "start_time": "2023-05-27T06:57:53.073Z"
   },
   {
    "duration": 16,
    "start_time": "2023-05-27T06:57:53.097Z"
   },
   {
    "duration": 13,
    "start_time": "2023-05-27T06:57:53.114Z"
   },
   {
    "duration": 7,
    "start_time": "2023-05-27T06:57:53.129Z"
   },
   {
    "duration": 19,
    "start_time": "2023-05-27T06:57:53.138Z"
   },
   {
    "duration": 5,
    "start_time": "2023-05-27T06:57:53.159Z"
   },
   {
    "duration": 27,
    "start_time": "2023-05-27T06:57:53.165Z"
   },
   {
    "duration": 32,
    "start_time": "2023-05-27T06:57:53.194Z"
   },
   {
    "duration": 151,
    "start_time": "2023-05-27T06:57:53.228Z"
   },
   {
    "duration": 157,
    "start_time": "2023-05-27T06:57:53.383Z"
   },
   {
    "duration": 174,
    "start_time": "2023-05-27T06:57:53.542Z"
   },
   {
    "duration": 265,
    "start_time": "2023-05-27T06:57:53.717Z"
   },
   {
    "duration": 257,
    "start_time": "2023-05-27T06:57:53.984Z"
   },
   {
    "duration": 27,
    "start_time": "2023-05-27T06:57:54.243Z"
   },
   {
    "duration": 56,
    "start_time": "2023-05-27T06:57:54.272Z"
   },
   {
    "duration": 12,
    "start_time": "2023-05-27T06:57:54.330Z"
   },
   {
    "duration": 7,
    "start_time": "2023-05-27T06:57:54.344Z"
   },
   {
    "duration": 6,
    "start_time": "2023-05-27T06:57:54.353Z"
   },
   {
    "duration": 192,
    "start_time": "2023-05-27T06:57:54.360Z"
   },
   {
    "duration": 183,
    "start_time": "2023-05-27T06:57:54.554Z"
   },
   {
    "duration": 2,
    "start_time": "2023-05-27T06:57:54.739Z"
   },
   {
    "duration": 34,
    "start_time": "2023-05-27T06:57:54.742Z"
   },
   {
    "duration": 21,
    "start_time": "2023-05-27T06:57:54.777Z"
   },
   {
    "duration": 37,
    "start_time": "2023-05-27T06:57:54.799Z"
   },
   {
    "duration": 8,
    "start_time": "2023-05-27T06:57:54.837Z"
   },
   {
    "duration": 7,
    "start_time": "2023-05-27T06:57:54.847Z"
   },
   {
    "duration": 16,
    "start_time": "2023-05-27T06:57:54.856Z"
   },
   {
    "duration": 20,
    "start_time": "2023-05-27T06:57:54.874Z"
   },
   {
    "duration": 267,
    "start_time": "2023-05-27T06:57:54.896Z"
   },
   {
    "duration": 101,
    "start_time": "2023-05-27T06:57:55.165Z"
   },
   {
    "duration": 6,
    "start_time": "2023-05-27T06:57:55.267Z"
   },
   {
    "duration": 241,
    "start_time": "2023-05-27T06:57:55.275Z"
   }
  ],
  "kernelspec": {
   "display_name": "Python 3 (ipykernel)",
   "language": "python",
   "name": "python3"
  },
  "language_info": {
   "codemirror_mode": {
    "name": "ipython",
    "version": 3
   },
   "file_extension": ".py",
   "mimetype": "text/x-python",
   "name": "python",
   "nbconvert_exporter": "python",
   "pygments_lexer": "ipython3",
   "version": "3.9.5"
  },
  "toc": {
   "base_numbering": 1,
   "nav_menu": {},
   "number_sections": true,
   "sideBar": true,
   "skip_h1_title": true,
   "title_cell": "Table of Contents",
   "title_sidebar": "Contents",
   "toc_cell": false,
   "toc_position": {},
   "toc_section_display": true,
   "toc_window_display": false
  }
 },
 "nbformat": 4,
 "nbformat_minor": 5
}
